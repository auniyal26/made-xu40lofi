{
 "cells": [
  {
   "cell_type": "markdown",
   "metadata": {},
   "source": [
    "# <center> Data Report for Temperature Change, Floods, and Import/Export Data in India </center> #"
   ]
  },
  {
   "cell_type": "markdown",
   "metadata": {},
   "source": [
    "<br/><br/>"
   ]
  },
  {
   "cell_type": "markdown",
   "metadata": {},
   "source": [
    "## A look at the temperature change data in India ##"
   ]
  },
  {
   "cell_type": "code",
   "execution_count": 1,
   "metadata": {},
   "outputs": [
    {
     "name": "stdout",
     "output_type": "stream",
     "text": [
      "Requirement already satisfied: systools in c:\\users\\auniy\\anaconda3\\lib\\site-packages (0.1.3)\n",
      "Requirement already satisfied: psutil in c:\\users\\auniy\\anaconda3\\lib\\site-packages (from systools) (5.9.0)\n",
      "Requirement already satisfied: parsedatetime in c:\\users\\auniy\\anaconda3\\lib\\site-packages (from systools) (2.6)\n",
      "Requirement already satisfied: arrow in c:\\users\\auniy\\anaconda3\\lib\\site-packages (from systools) (1.2.3)\n",
      "Requirement already satisfied: pytz in c:\\users\\auniy\\anaconda3\\lib\\site-packages (from systools) (2023.3.post1)\n",
      "Requirement already satisfied: tzlocal in c:\\users\\auniy\\anaconda3\\lib\\site-packages (from systools) (2.1)\n",
      "Requirement already satisfied: sh in c:\\users\\auniy\\anaconda3\\lib\\site-packages (from systools) (2.0.6)\n",
      "Requirement already satisfied: tabulate in c:\\users\\auniy\\anaconda3\\lib\\site-packages (from systools) (0.9.0)\n",
      "Requirement already satisfied: requests in c:\\users\\auniy\\anaconda3\\lib\\site-packages (from systools) (2.31.0)\n",
      "Requirement already satisfied: xtract in c:\\users\\auniy\\anaconda3\\lib\\site-packages (from systools) (0.1a3)\n",
      "Requirement already satisfied: unidecode in c:\\users\\auniy\\anaconda3\\lib\\site-packages (from systools) (1.2.0)\n",
      "Requirement already satisfied: python-dateutil>=2.7.0 in c:\\users\\auniy\\anaconda3\\lib\\site-packages (from arrow->systools) (2.8.2)\n",
      "Requirement already satisfied: charset-normalizer<4,>=2 in c:\\users\\auniy\\anaconda3\\lib\\site-packages (from requests->systools) (2.0.4)\n",
      "Requirement already satisfied: idna<4,>=2.5 in c:\\users\\auniy\\anaconda3\\lib\\site-packages (from requests->systools) (3.4)\n",
      "Requirement already satisfied: urllib3<3,>=1.21.1 in c:\\users\\auniy\\anaconda3\\lib\\site-packages (from requests->systools) (2.0.7)\n",
      "Requirement already satisfied: certifi>=2017.4.17 in c:\\users\\auniy\\anaconda3\\lib\\site-packages (from requests->systools) (2024.2.2)\n",
      "Requirement already satisfied: python-magic in c:\\users\\auniy\\anaconda3\\lib\\site-packages (from xtract->systools) (0.4.27)\n",
      "Requirement already satisfied: six>=1.5 in c:\\users\\auniy\\anaconda3\\lib\\site-packages (from python-dateutil>=2.7.0->arrow->systools) (1.16.0)\n",
      "Note: you may need to restart the kernel to use updated packages.\n"
     ]
    }
   ],
   "source": [
    "%pip install systools"
   ]
  },
  {
   "cell_type": "code",
   "execution_count": 2,
   "metadata": {},
   "outputs": [],
   "source": [
    "#Library Imports\n",
    "\n",
    "import numpy as np\n",
    "import pandas as pd\n",
    "\n",
    "#Visualization libraries\n",
    "import seaborn as sns\n",
    "import matplotlib.pyplot as plt\n",
    "import plotly.express as px\n",
    "import plotly.offline as pyo\n",
    "import plotly.graph_objs as go\n",
    "\n",
    "import json\n",
    "\n",
    "import warnings\n",
    "warnings.filterwarnings('ignore')\n",
    "\n",
    "from systemtools.number import parseNumber\n",
    "\n",
    "sns.set(style='darkgrid')\n",
    "plt.rcParams[\"figure.figsize\"] = (20,9)"
   ]
  },
  {
   "cell_type": "code",
   "execution_count": 3,
   "metadata": {},
   "outputs": [],
   "source": [
    "data1= pd.read_csv(\"data/INDTemperature.csv\")\n",
    "data2= pd.read_csv(\"data/INDFloods.csv\")\n",
    "data3= pd.read_csv(\"data/INDImportExport.csv\")"
   ]
  },
  {
   "cell_type": "code",
   "execution_count": 4,
   "metadata": {},
   "outputs": [
    {
     "data": {
      "text/html": [
       "<div>\n",
       "<style scoped>\n",
       "    .dataframe tbody tr th:only-of-type {\n",
       "        vertical-align: middle;\n",
       "    }\n",
       "\n",
       "    .dataframe tbody tr th {\n",
       "        vertical-align: top;\n",
       "    }\n",
       "\n",
       "    .dataframe thead th {\n",
       "        text-align: right;\n",
       "    }\n",
       "</style>\n",
       "<table border=\"1\" class=\"dataframe\">\n",
       "  <thead>\n",
       "    <tr style=\"text-align: right;\">\n",
       "      <th></th>\n",
       "      <th>States</th>\n",
       "      <th>Period</th>\n",
       "      <th>1901</th>\n",
       "      <th>1902</th>\n",
       "      <th>1903</th>\n",
       "      <th>1904</th>\n",
       "      <th>1905</th>\n",
       "      <th>1906</th>\n",
       "      <th>1907</th>\n",
       "      <th>1908</th>\n",
       "      <th>...</th>\n",
       "      <th>2011</th>\n",
       "      <th>2012</th>\n",
       "      <th>2013</th>\n",
       "      <th>2014</th>\n",
       "      <th>2015</th>\n",
       "      <th>2016</th>\n",
       "      <th>2017</th>\n",
       "      <th>2018</th>\n",
       "      <th>2019</th>\n",
       "      <th>2020</th>\n",
       "    </tr>\n",
       "  </thead>\n",
       "  <tbody>\n",
       "    <tr>\n",
       "      <th>0</th>\n",
       "      <td>Andaman and Nicobar</td>\n",
       "      <td>Jan</td>\n",
       "      <td>27.68</td>\n",
       "      <td>26.75</td>\n",
       "      <td>26.70</td>\n",
       "      <td>26.02</td>\n",
       "      <td>26.12</td>\n",
       "      <td>27.62</td>\n",
       "      <td>26.78</td>\n",
       "      <td>26.40</td>\n",
       "      <td>...</td>\n",
       "      <td>26.53</td>\n",
       "      <td>26.78</td>\n",
       "      <td>26.83</td>\n",
       "      <td>25.88</td>\n",
       "      <td>26.29</td>\n",
       "      <td>26.80</td>\n",
       "      <td>26.95</td>\n",
       "      <td>26.79</td>\n",
       "      <td>27.30</td>\n",
       "      <td>27.56</td>\n",
       "    </tr>\n",
       "    <tr>\n",
       "      <th>1</th>\n",
       "      <td>Andaman and Nicobar</td>\n",
       "      <td>Feb</td>\n",
       "      <td>28.50</td>\n",
       "      <td>26.67</td>\n",
       "      <td>27.54</td>\n",
       "      <td>26.49</td>\n",
       "      <td>27.29</td>\n",
       "      <td>27.40</td>\n",
       "      <td>26.92</td>\n",
       "      <td>26.29</td>\n",
       "      <td>...</td>\n",
       "      <td>26.87</td>\n",
       "      <td>27.00</td>\n",
       "      <td>27.73</td>\n",
       "      <td>26.46</td>\n",
       "      <td>26.75</td>\n",
       "      <td>26.86</td>\n",
       "      <td>26.83</td>\n",
       "      <td>26.61</td>\n",
       "      <td>27.48</td>\n",
       "      <td>27.14</td>\n",
       "    </tr>\n",
       "    <tr>\n",
       "      <th>2</th>\n",
       "      <td>Andaman and Nicobar</td>\n",
       "      <td>Mar</td>\n",
       "      <td>27.03</td>\n",
       "      <td>28.09</td>\n",
       "      <td>27.66</td>\n",
       "      <td>27.55</td>\n",
       "      <td>27.89</td>\n",
       "      <td>26.88</td>\n",
       "      <td>27.04</td>\n",
       "      <td>27.59</td>\n",
       "      <td>...</td>\n",
       "      <td>26.39</td>\n",
       "      <td>27.53</td>\n",
       "      <td>27.84</td>\n",
       "      <td>27.54</td>\n",
       "      <td>27.86</td>\n",
       "      <td>28.29</td>\n",
       "      <td>27.78</td>\n",
       "      <td>27.63</td>\n",
       "      <td>27.88</td>\n",
       "      <td>27.90</td>\n",
       "    </tr>\n",
       "    <tr>\n",
       "      <th>3</th>\n",
       "      <td>Andaman and Nicobar</td>\n",
       "      <td>Apr</td>\n",
       "      <td>28.52</td>\n",
       "      <td>29.35</td>\n",
       "      <td>29.53</td>\n",
       "      <td>27.72</td>\n",
       "      <td>28.79</td>\n",
       "      <td>29.62</td>\n",
       "      <td>28.75</td>\n",
       "      <td>29.23</td>\n",
       "      <td>...</td>\n",
       "      <td>27.94</td>\n",
       "      <td>28.48</td>\n",
       "      <td>28.73</td>\n",
       "      <td>28.98</td>\n",
       "      <td>28.39</td>\n",
       "      <td>29.74</td>\n",
       "      <td>28.31</td>\n",
       "      <td>28.18</td>\n",
       "      <td>29.39</td>\n",
       "      <td>28.96</td>\n",
       "    </tr>\n",
       "    <tr>\n",
       "      <th>4</th>\n",
       "      <td>Andaman and Nicobar</td>\n",
       "      <td>May</td>\n",
       "      <td>28.28</td>\n",
       "      <td>28.25</td>\n",
       "      <td>29.10</td>\n",
       "      <td>28.02</td>\n",
       "      <td>27.80</td>\n",
       "      <td>29.67</td>\n",
       "      <td>27.42</td>\n",
       "      <td>27.70</td>\n",
       "      <td>...</td>\n",
       "      <td>27.81</td>\n",
       "      <td>27.94</td>\n",
       "      <td>28.40</td>\n",
       "      <td>28.74</td>\n",
       "      <td>28.78</td>\n",
       "      <td>28.60</td>\n",
       "      <td>28.39</td>\n",
       "      <td>27.74</td>\n",
       "      <td>29.06</td>\n",
       "      <td>29.28</td>\n",
       "    </tr>\n",
       "  </tbody>\n",
       "</table>\n",
       "<p>5 rows × 122 columns</p>\n",
       "</div>"
      ],
      "text/plain": [
       "                States Period   1901   1902   1903   1904   1905   1906  \\\n",
       "0  Andaman and Nicobar    Jan  27.68  26.75  26.70  26.02  26.12  27.62   \n",
       "1  Andaman and Nicobar    Feb  28.50  26.67  27.54  26.49  27.29  27.40   \n",
       "2  Andaman and Nicobar    Mar  27.03  28.09  27.66  27.55  27.89  26.88   \n",
       "3  Andaman and Nicobar    Apr  28.52  29.35  29.53  27.72  28.79  29.62   \n",
       "4  Andaman and Nicobar    May  28.28  28.25  29.10  28.02  27.80  29.67   \n",
       "\n",
       "    1907   1908  ...   2011   2012   2013   2014   2015   2016   2017   2018  \\\n",
       "0  26.78  26.40  ...  26.53  26.78  26.83  25.88  26.29  26.80  26.95  26.79   \n",
       "1  26.92  26.29  ...  26.87  27.00  27.73  26.46  26.75  26.86  26.83  26.61   \n",
       "2  27.04  27.59  ...  26.39  27.53  27.84  27.54  27.86  28.29  27.78  27.63   \n",
       "3  28.75  29.23  ...  27.94  28.48  28.73  28.98  28.39  29.74  28.31  28.18   \n",
       "4  27.42  27.70  ...  27.81  27.94  28.40  28.74  28.78  28.60  28.39  27.74   \n",
       "\n",
       "    2019   2020  \n",
       "0  27.30  27.56  \n",
       "1  27.48  27.14  \n",
       "2  27.88  27.90  \n",
       "3  29.39  28.96  \n",
       "4  29.06  29.28  \n",
       "\n",
       "[5 rows x 122 columns]"
      ]
     },
     "execution_count": 4,
     "metadata": {},
     "output_type": "execute_result"
    }
   ],
   "source": [
    "data1.head()"
   ]
  },
  {
   "cell_type": "code",
   "execution_count": 5,
   "metadata": {},
   "outputs": [
    {
     "data": {
      "text/html": [
       "<div>\n",
       "<style scoped>\n",
       "    .dataframe tbody tr th:only-of-type {\n",
       "        vertical-align: middle;\n",
       "    }\n",
       "\n",
       "    .dataframe tbody tr th {\n",
       "        vertical-align: top;\n",
       "    }\n",
       "\n",
       "    .dataframe thead th {\n",
       "        text-align: right;\n",
       "    }\n",
       "</style>\n",
       "<table border=\"1\" class=\"dataframe\">\n",
       "  <thead>\n",
       "    <tr style=\"text-align: right;\">\n",
       "      <th></th>\n",
       "      <th>Start Date</th>\n",
       "      <th>End Date</th>\n",
       "      <th>Duration(Days)</th>\n",
       "      <th>Main Cause</th>\n",
       "      <th>Location</th>\n",
       "      <th>Districts</th>\n",
       "      <th>State</th>\n",
       "      <th>Latitude</th>\n",
       "      <th>Longitude</th>\n",
       "      <th>Severity</th>\n",
       "      <th>Area Affected</th>\n",
       "      <th>Human fatality</th>\n",
       "      <th>Human injured</th>\n",
       "      <th>Human Displaced</th>\n",
       "      <th>Animal Fatality</th>\n",
       "      <th>Description of Casualties/injured</th>\n",
       "      <th>Extent of damage</th>\n",
       "      <th>Event Source</th>\n",
       "      <th>Event Source ID</th>\n",
       "    </tr>\n",
       "  </thead>\n",
       "  <tbody>\n",
       "    <tr>\n",
       "      <th>0</th>\n",
       "      <td>2015-06-20</td>\n",
       "      <td>2015-06-21</td>\n",
       "      <td>1</td>\n",
       "      <td>Heavy rains</td>\n",
       "      <td>NaN</td>\n",
       "      <td>East Godavari, Srikakulam, Visakhapatnam and W...</td>\n",
       "      <td>ANDHRA  PRADESH</td>\n",
       "      <td>NaN</td>\n",
       "      <td>NaN</td>\n",
       "      <td>NaN</td>\n",
       "      <td>NaN</td>\n",
       "      <td>NaN</td>\n",
       "      <td>NaN</td>\n",
       "      <td>NaN</td>\n",
       "      <td>NaN</td>\n",
       "      <td>NaN</td>\n",
       "      <td>i) Damage to 2000 hectares of crops reported. ...</td>\n",
       "      <td>IMD</td>\n",
       "      <td>NaN</td>\n",
       "    </tr>\n",
       "    <tr>\n",
       "      <th>1</th>\n",
       "      <td>2015-11-15</td>\n",
       "      <td>2015-11-23</td>\n",
       "      <td>8</td>\n",
       "      <td>Heavy rains</td>\n",
       "      <td>NaN</td>\n",
       "      <td>Anantapur, Chittoor, East Godavari, Krishna, N...</td>\n",
       "      <td>ANDHRA  PRADESH</td>\n",
       "      <td>NaN</td>\n",
       "      <td>NaN</td>\n",
       "      <td>NaN</td>\n",
       "      <td>NaN</td>\n",
       "      <td>88.0</td>\n",
       "      <td>NaN</td>\n",
       "      <td>NaN</td>\n",
       "      <td>16710.0</td>\n",
       "      <td>88 persons died. 16710 animals perished. (844 ...</td>\n",
       "      <td>i) Extensive damage to Agricultural crops (mor...</td>\n",
       "      <td>IMD</td>\n",
       "      <td>NaN</td>\n",
       "    </tr>\n",
       "    <tr>\n",
       "      <th>2</th>\n",
       "      <td>2015-12-22</td>\n",
       "      <td>2015-12-22</td>\n",
       "      <td>0</td>\n",
       "      <td>Heavy rains</td>\n",
       "      <td>NaN</td>\n",
       "      <td>Vishakhapatnam</td>\n",
       "      <td>ANDHRA  PRADESH</td>\n",
       "      <td>NaN</td>\n",
       "      <td>NaN</td>\n",
       "      <td>NaN</td>\n",
       "      <td>NaN</td>\n",
       "      <td>4.0</td>\n",
       "      <td>NaN</td>\n",
       "      <td>NaN</td>\n",
       "      <td>NaN</td>\n",
       "      <td>4 persons died due to landslips</td>\n",
       "      <td>Landslips</td>\n",
       "      <td>IMD</td>\n",
       "      <td>NaN</td>\n",
       "    </tr>\n",
       "    <tr>\n",
       "      <th>3</th>\n",
       "      <td>2015-10-06</td>\n",
       "      <td>2015-10-06</td>\n",
       "      <td>0</td>\n",
       "      <td>Heavy rains</td>\n",
       "      <td>NaN</td>\n",
       "      <td>Parts of Arunachal Pradesh</td>\n",
       "      <td>ARUNACHAL PRADESH</td>\n",
       "      <td>NaN</td>\n",
       "      <td>NaN</td>\n",
       "      <td>NaN</td>\n",
       "      <td>NaN</td>\n",
       "      <td>2.0</td>\n",
       "      <td>NaN</td>\n",
       "      <td>NaN</td>\n",
       "      <td>NaN</td>\n",
       "      <td>2 persons died.</td>\n",
       "      <td>NaN</td>\n",
       "      <td>IMD</td>\n",
       "      <td>NaN</td>\n",
       "    </tr>\n",
       "    <tr>\n",
       "      <th>4</th>\n",
       "      <td>2015-02-19</td>\n",
       "      <td>2015-02-19</td>\n",
       "      <td>0</td>\n",
       "      <td>Heavy rains</td>\n",
       "      <td>NaN</td>\n",
       "      <td>Parts of Assam</td>\n",
       "      <td>ASSAM</td>\n",
       "      <td>NaN</td>\n",
       "      <td>NaN</td>\n",
       "      <td>NaN</td>\n",
       "      <td>NaN</td>\n",
       "      <td>2.0</td>\n",
       "      <td>NaN</td>\n",
       "      <td>NaN</td>\n",
       "      <td>NaN</td>\n",
       "      <td>2 persons died due to landslide</td>\n",
       "      <td>NaN</td>\n",
       "      <td>IMD</td>\n",
       "      <td>NaN</td>\n",
       "    </tr>\n",
       "  </tbody>\n",
       "</table>\n",
       "</div>"
      ],
      "text/plain": [
       "   Start Date    End Date Duration(Days)   Main Cause Location  \\\n",
       "0  2015-06-20  2015-06-21              1  Heavy rains      NaN   \n",
       "1  2015-11-15  2015-11-23              8  Heavy rains      NaN   \n",
       "2  2015-12-22  2015-12-22              0  Heavy rains      NaN   \n",
       "3  2015-10-06  2015-10-06              0  Heavy rains      NaN   \n",
       "4  2015-02-19  2015-02-19              0  Heavy rains      NaN   \n",
       "\n",
       "                                           Districts              State  \\\n",
       "0  East Godavari, Srikakulam, Visakhapatnam and W...    ANDHRA  PRADESH   \n",
       "1  Anantapur, Chittoor, East Godavari, Krishna, N...    ANDHRA  PRADESH   \n",
       "2                                     Vishakhapatnam    ANDHRA  PRADESH   \n",
       "3                         Parts of Arunachal Pradesh  ARUNACHAL PRADESH   \n",
       "4                                     Parts of Assam              ASSAM   \n",
       "\n",
       "   Latitude  Longitude  Severity  Area Affected  Human fatality  \\\n",
       "0       NaN        NaN       NaN            NaN             NaN   \n",
       "1       NaN        NaN       NaN            NaN            88.0   \n",
       "2       NaN        NaN       NaN            NaN             4.0   \n",
       "3       NaN        NaN       NaN            NaN             2.0   \n",
       "4       NaN        NaN       NaN            NaN             2.0   \n",
       "\n",
       "   Human injured  Human Displaced  Animal Fatality  \\\n",
       "0            NaN              NaN              NaN   \n",
       "1            NaN              NaN          16710.0   \n",
       "2            NaN              NaN              NaN   \n",
       "3            NaN              NaN              NaN   \n",
       "4            NaN              NaN              NaN   \n",
       "\n",
       "                   Description of Casualties/injured  \\\n",
       "0                                                NaN   \n",
       "1  88 persons died. 16710 animals perished. (844 ...   \n",
       "2                    4 persons died due to landslips   \n",
       "3                                    2 persons died.   \n",
       "4                    2 persons died due to landslide   \n",
       "\n",
       "                                   Extent of damage  Event Source  \\\n",
       "0  i) Damage to 2000 hectares of crops reported. ...          IMD   \n",
       "1  i) Extensive damage to Agricultural crops (mor...          IMD   \n",
       "2                                         Landslips           IMD   \n",
       "3                                                NaN          IMD   \n",
       "4                                                NaN          IMD   \n",
       "\n",
       "  Event Source ID  \n",
       "0             NaN  \n",
       "1             NaN  \n",
       "2             NaN  \n",
       "3             NaN  \n",
       "4             NaN  "
      ]
     },
     "execution_count": 5,
     "metadata": {},
     "output_type": "execute_result"
    }
   ],
   "source": [
    "data2.head()"
   ]
  },
  {
   "cell_type": "code",
   "execution_count": 6,
   "metadata": {},
   "outputs": [
    {
     "data": {
      "text/html": [
       "<div>\n",
       "<style scoped>\n",
       "    .dataframe tbody tr th:only-of-type {\n",
       "        vertical-align: middle;\n",
       "    }\n",
       "\n",
       "    .dataframe tbody tr th {\n",
       "        vertical-align: top;\n",
       "    }\n",
       "\n",
       "    .dataframe thead th {\n",
       "        text-align: right;\n",
       "    }\n",
       "</style>\n",
       "<table border=\"1\" class=\"dataframe\">\n",
       "  <thead>\n",
       "    <tr style=\"text-align: right;\">\n",
       "      <th></th>\n",
       "      <th>Country</th>\n",
       "      <th>Export</th>\n",
       "      <th>Import</th>\n",
       "      <th>Total Trade</th>\n",
       "      <th>Trade Balance</th>\n",
       "      <th>Financial Year(start)</th>\n",
       "      <th>Financial Year(end)</th>\n",
       "    </tr>\n",
       "  </thead>\n",
       "  <tbody>\n",
       "    <tr>\n",
       "      <th>0</th>\n",
       "      <td>AFGHANISTAN</td>\n",
       "      <td>21.25</td>\n",
       "      <td>10.7</td>\n",
       "      <td>31.95</td>\n",
       "      <td>10.55</td>\n",
       "      <td>1997</td>\n",
       "      <td>1998</td>\n",
       "    </tr>\n",
       "    <tr>\n",
       "      <th>1</th>\n",
       "      <td>AFGHANISTAN</td>\n",
       "      <td>12.81</td>\n",
       "      <td>28.14</td>\n",
       "      <td>40.95</td>\n",
       "      <td>-15.33</td>\n",
       "      <td>1998</td>\n",
       "      <td>1999</td>\n",
       "    </tr>\n",
       "    <tr>\n",
       "      <th>2</th>\n",
       "      <td>AFGHANISTAN</td>\n",
       "      <td>33.2</td>\n",
       "      <td>21.06</td>\n",
       "      <td>54.26</td>\n",
       "      <td>12.15</td>\n",
       "      <td>1999</td>\n",
       "      <td>2000</td>\n",
       "    </tr>\n",
       "    <tr>\n",
       "      <th>3</th>\n",
       "      <td>AFGHANISTAN</td>\n",
       "      <td>25.86</td>\n",
       "      <td>26.59</td>\n",
       "      <td>52.45</td>\n",
       "      <td>-0.73</td>\n",
       "      <td>2000</td>\n",
       "      <td>2001</td>\n",
       "    </tr>\n",
       "    <tr>\n",
       "      <th>4</th>\n",
       "      <td>AFGHANISTAN</td>\n",
       "      <td>24.37</td>\n",
       "      <td>17.52</td>\n",
       "      <td>41.89</td>\n",
       "      <td>6.85</td>\n",
       "      <td>2001</td>\n",
       "      <td>2002</td>\n",
       "    </tr>\n",
       "  </tbody>\n",
       "</table>\n",
       "</div>"
      ],
      "text/plain": [
       "       Country Export Import Total Trade Trade Balance  Financial Year(start)  \\\n",
       "0  AFGHANISTAN  21.25   10.7       31.95         10.55                   1997   \n",
       "1  AFGHANISTAN  12.81  28.14       40.95        -15.33                   1998   \n",
       "2  AFGHANISTAN   33.2  21.06       54.26         12.15                   1999   \n",
       "3  AFGHANISTAN  25.86  26.59       52.45         -0.73                   2000   \n",
       "4  AFGHANISTAN  24.37  17.52       41.89          6.85                   2001   \n",
       "\n",
       "   Financial Year(end)  \n",
       "0                 1998  \n",
       "1                 1999  \n",
       "2                 2000  \n",
       "3                 2001  \n",
       "4                 2002  "
      ]
     },
     "execution_count": 6,
     "metadata": {},
     "output_type": "execute_result"
    }
   ],
   "source": [
    "data3.head()"
   ]
  },
  {
   "cell_type": "code",
   "execution_count": 7,
   "metadata": {},
   "outputs": [],
   "source": [
    "# Original Data\n",
    "data= pd.read_csv(\"data/INDTemperature.csv\")"
   ]
  },
  {
   "cell_type": "code",
   "execution_count": 8,
   "metadata": {},
   "outputs": [
    {
     "data": {
      "text/html": [
       "<div>\n",
       "<style scoped>\n",
       "    .dataframe tbody tr th:only-of-type {\n",
       "        vertical-align: middle;\n",
       "    }\n",
       "\n",
       "    .dataframe tbody tr th {\n",
       "        vertical-align: top;\n",
       "    }\n",
       "\n",
       "    .dataframe thead th {\n",
       "        text-align: right;\n",
       "    }\n",
       "</style>\n",
       "<table border=\"1\" class=\"dataframe\">\n",
       "  <thead>\n",
       "    <tr style=\"text-align: right;\">\n",
       "      <th></th>\n",
       "      <th>States</th>\n",
       "      <th>Period</th>\n",
       "      <th>1901</th>\n",
       "      <th>1902</th>\n",
       "      <th>1903</th>\n",
       "      <th>1904</th>\n",
       "      <th>1905</th>\n",
       "      <th>1906</th>\n",
       "      <th>1907</th>\n",
       "      <th>1908</th>\n",
       "      <th>...</th>\n",
       "      <th>2011</th>\n",
       "      <th>2012</th>\n",
       "      <th>2013</th>\n",
       "      <th>2014</th>\n",
       "      <th>2015</th>\n",
       "      <th>2016</th>\n",
       "      <th>2017</th>\n",
       "      <th>2018</th>\n",
       "      <th>2019</th>\n",
       "      <th>2020</th>\n",
       "    </tr>\n",
       "  </thead>\n",
       "  <tbody>\n",
       "    <tr>\n",
       "      <th>0</th>\n",
       "      <td>Andaman and Nicobar</td>\n",
       "      <td>Jan</td>\n",
       "      <td>27.68</td>\n",
       "      <td>26.75</td>\n",
       "      <td>26.70</td>\n",
       "      <td>26.02</td>\n",
       "      <td>26.12</td>\n",
       "      <td>27.62</td>\n",
       "      <td>26.78</td>\n",
       "      <td>26.40</td>\n",
       "      <td>...</td>\n",
       "      <td>26.53</td>\n",
       "      <td>26.78</td>\n",
       "      <td>26.83</td>\n",
       "      <td>25.88</td>\n",
       "      <td>26.29</td>\n",
       "      <td>26.80</td>\n",
       "      <td>26.95</td>\n",
       "      <td>26.79</td>\n",
       "      <td>27.30</td>\n",
       "      <td>27.56</td>\n",
       "    </tr>\n",
       "    <tr>\n",
       "      <th>1</th>\n",
       "      <td>Andaman and Nicobar</td>\n",
       "      <td>Feb</td>\n",
       "      <td>28.50</td>\n",
       "      <td>26.67</td>\n",
       "      <td>27.54</td>\n",
       "      <td>26.49</td>\n",
       "      <td>27.29</td>\n",
       "      <td>27.40</td>\n",
       "      <td>26.92</td>\n",
       "      <td>26.29</td>\n",
       "      <td>...</td>\n",
       "      <td>26.87</td>\n",
       "      <td>27.00</td>\n",
       "      <td>27.73</td>\n",
       "      <td>26.46</td>\n",
       "      <td>26.75</td>\n",
       "      <td>26.86</td>\n",
       "      <td>26.83</td>\n",
       "      <td>26.61</td>\n",
       "      <td>27.48</td>\n",
       "      <td>27.14</td>\n",
       "    </tr>\n",
       "    <tr>\n",
       "      <th>2</th>\n",
       "      <td>Andaman and Nicobar</td>\n",
       "      <td>Mar</td>\n",
       "      <td>27.03</td>\n",
       "      <td>28.09</td>\n",
       "      <td>27.66</td>\n",
       "      <td>27.55</td>\n",
       "      <td>27.89</td>\n",
       "      <td>26.88</td>\n",
       "      <td>27.04</td>\n",
       "      <td>27.59</td>\n",
       "      <td>...</td>\n",
       "      <td>26.39</td>\n",
       "      <td>27.53</td>\n",
       "      <td>27.84</td>\n",
       "      <td>27.54</td>\n",
       "      <td>27.86</td>\n",
       "      <td>28.29</td>\n",
       "      <td>27.78</td>\n",
       "      <td>27.63</td>\n",
       "      <td>27.88</td>\n",
       "      <td>27.90</td>\n",
       "    </tr>\n",
       "    <tr>\n",
       "      <th>3</th>\n",
       "      <td>Andaman and Nicobar</td>\n",
       "      <td>Apr</td>\n",
       "      <td>28.52</td>\n",
       "      <td>29.35</td>\n",
       "      <td>29.53</td>\n",
       "      <td>27.72</td>\n",
       "      <td>28.79</td>\n",
       "      <td>29.62</td>\n",
       "      <td>28.75</td>\n",
       "      <td>29.23</td>\n",
       "      <td>...</td>\n",
       "      <td>27.94</td>\n",
       "      <td>28.48</td>\n",
       "      <td>28.73</td>\n",
       "      <td>28.98</td>\n",
       "      <td>28.39</td>\n",
       "      <td>29.74</td>\n",
       "      <td>28.31</td>\n",
       "      <td>28.18</td>\n",
       "      <td>29.39</td>\n",
       "      <td>28.96</td>\n",
       "    </tr>\n",
       "    <tr>\n",
       "      <th>4</th>\n",
       "      <td>Andaman and Nicobar</td>\n",
       "      <td>May</td>\n",
       "      <td>28.28</td>\n",
       "      <td>28.25</td>\n",
       "      <td>29.10</td>\n",
       "      <td>28.02</td>\n",
       "      <td>27.80</td>\n",
       "      <td>29.67</td>\n",
       "      <td>27.42</td>\n",
       "      <td>27.70</td>\n",
       "      <td>...</td>\n",
       "      <td>27.81</td>\n",
       "      <td>27.94</td>\n",
       "      <td>28.40</td>\n",
       "      <td>28.74</td>\n",
       "      <td>28.78</td>\n",
       "      <td>28.60</td>\n",
       "      <td>28.39</td>\n",
       "      <td>27.74</td>\n",
       "      <td>29.06</td>\n",
       "      <td>29.28</td>\n",
       "    </tr>\n",
       "    <tr>\n",
       "      <th>...</th>\n",
       "      <td>...</td>\n",
       "      <td>...</td>\n",
       "      <td>...</td>\n",
       "      <td>...</td>\n",
       "      <td>...</td>\n",
       "      <td>...</td>\n",
       "      <td>...</td>\n",
       "      <td>...</td>\n",
       "      <td>...</td>\n",
       "      <td>...</td>\n",
       "      <td>...</td>\n",
       "      <td>...</td>\n",
       "      <td>...</td>\n",
       "      <td>...</td>\n",
       "      <td>...</td>\n",
       "      <td>...</td>\n",
       "      <td>...</td>\n",
       "      <td>...</td>\n",
       "      <td>...</td>\n",
       "      <td>...</td>\n",
       "      <td>...</td>\n",
       "    </tr>\n",
       "    <tr>\n",
       "      <th>590</th>\n",
       "      <td>West Bengal</td>\n",
       "      <td>Annual</td>\n",
       "      <td>25.35</td>\n",
       "      <td>25.30</td>\n",
       "      <td>25.29</td>\n",
       "      <td>25.08</td>\n",
       "      <td>24.75</td>\n",
       "      <td>25.26</td>\n",
       "      <td>25.13</td>\n",
       "      <td>25.41</td>\n",
       "      <td>...</td>\n",
       "      <td>26.02</td>\n",
       "      <td>25.62</td>\n",
       "      <td>25.47</td>\n",
       "      <td>25.73</td>\n",
       "      <td>25.61</td>\n",
       "      <td>26.07</td>\n",
       "      <td>25.82</td>\n",
       "      <td>25.42</td>\n",
       "      <td>25.73</td>\n",
       "      <td>25.51</td>\n",
       "    </tr>\n",
       "    <tr>\n",
       "      <th>591</th>\n",
       "      <td>West Bengal</td>\n",
       "      <td>Winter</td>\n",
       "      <td>18.69</td>\n",
       "      <td>19.72</td>\n",
       "      <td>18.94</td>\n",
       "      <td>19.16</td>\n",
       "      <td>17.93</td>\n",
       "      <td>18.83</td>\n",
       "      <td>19.59</td>\n",
       "      <td>18.87</td>\n",
       "      <td>...</td>\n",
       "      <td>20.01</td>\n",
       "      <td>18.89</td>\n",
       "      <td>19.43</td>\n",
       "      <td>19.80</td>\n",
       "      <td>20.07</td>\n",
       "      <td>19.88</td>\n",
       "      <td>20.36</td>\n",
       "      <td>19.56</td>\n",
       "      <td>19.94</td>\n",
       "      <td>19.03</td>\n",
       "    </tr>\n",
       "    <tr>\n",
       "      <th>592</th>\n",
       "      <td>West Bengal</td>\n",
       "      <td>Summer</td>\n",
       "      <td>27.99</td>\n",
       "      <td>28.01</td>\n",
       "      <td>28.17</td>\n",
       "      <td>27.78</td>\n",
       "      <td>26.42</td>\n",
       "      <td>27.81</td>\n",
       "      <td>26.85</td>\n",
       "      <td>28.73</td>\n",
       "      <td>...</td>\n",
       "      <td>28.59</td>\n",
       "      <td>28.48</td>\n",
       "      <td>28.13</td>\n",
       "      <td>28.66</td>\n",
       "      <td>27.89</td>\n",
       "      <td>28.56</td>\n",
       "      <td>27.68</td>\n",
       "      <td>27.62</td>\n",
       "      <td>28.05</td>\n",
       "      <td>27.56</td>\n",
       "    </tr>\n",
       "    <tr>\n",
       "      <th>593</th>\n",
       "      <td>West Bengal</td>\n",
       "      <td>Monsoon</td>\n",
       "      <td>28.87</td>\n",
       "      <td>28.63</td>\n",
       "      <td>28.69</td>\n",
       "      <td>28.20</td>\n",
       "      <td>28.68</td>\n",
       "      <td>28.57</td>\n",
       "      <td>28.57</td>\n",
       "      <td>28.70</td>\n",
       "      <td>...</td>\n",
       "      <td>28.88</td>\n",
       "      <td>28.95</td>\n",
       "      <td>28.83</td>\n",
       "      <td>28.78</td>\n",
       "      <td>28.78</td>\n",
       "      <td>29.00</td>\n",
       "      <td>28.89</td>\n",
       "      <td>29.07</td>\n",
       "      <td>29.17</td>\n",
       "      <td>29.02</td>\n",
       "    </tr>\n",
       "    <tr>\n",
       "      <th>594</th>\n",
       "      <td>West Bengal</td>\n",
       "      <td>Post Monsoon</td>\n",
       "      <td>22.46</td>\n",
       "      <td>21.87</td>\n",
       "      <td>22.11</td>\n",
       "      <td>22.15</td>\n",
       "      <td>22.36</td>\n",
       "      <td>22.57</td>\n",
       "      <td>22.53</td>\n",
       "      <td>22.06</td>\n",
       "      <td>...</td>\n",
       "      <td>23.64</td>\n",
       "      <td>22.78</td>\n",
       "      <td>22.35</td>\n",
       "      <td>22.66</td>\n",
       "      <td>22.80</td>\n",
       "      <td>23.80</td>\n",
       "      <td>23.51</td>\n",
       "      <td>22.26</td>\n",
       "      <td>22.68</td>\n",
       "      <td>23.10</td>\n",
       "    </tr>\n",
       "  </tbody>\n",
       "</table>\n",
       "<p>595 rows × 122 columns</p>\n",
       "</div>"
      ],
      "text/plain": [
       "                  States        Period   1901   1902   1903   1904   1905  \\\n",
       "0    Andaman and Nicobar           Jan  27.68  26.75  26.70  26.02  26.12   \n",
       "1    Andaman and Nicobar           Feb  28.50  26.67  27.54  26.49  27.29   \n",
       "2    Andaman and Nicobar           Mar  27.03  28.09  27.66  27.55  27.89   \n",
       "3    Andaman and Nicobar           Apr  28.52  29.35  29.53  27.72  28.79   \n",
       "4    Andaman and Nicobar           May  28.28  28.25  29.10  28.02  27.80   \n",
       "..                   ...           ...    ...    ...    ...    ...    ...   \n",
       "590          West Bengal        Annual  25.35  25.30  25.29  25.08  24.75   \n",
       "591          West Bengal        Winter  18.69  19.72  18.94  19.16  17.93   \n",
       "592          West Bengal        Summer  27.99  28.01  28.17  27.78  26.42   \n",
       "593          West Bengal       Monsoon  28.87  28.63  28.69  28.20  28.68   \n",
       "594          West Bengal  Post Monsoon  22.46  21.87  22.11  22.15  22.36   \n",
       "\n",
       "      1906   1907   1908  ...   2011   2012   2013   2014   2015   2016  \\\n",
       "0    27.62  26.78  26.40  ...  26.53  26.78  26.83  25.88  26.29  26.80   \n",
       "1    27.40  26.92  26.29  ...  26.87  27.00  27.73  26.46  26.75  26.86   \n",
       "2    26.88  27.04  27.59  ...  26.39  27.53  27.84  27.54  27.86  28.29   \n",
       "3    29.62  28.75  29.23  ...  27.94  28.48  28.73  28.98  28.39  29.74   \n",
       "4    29.67  27.42  27.70  ...  27.81  27.94  28.40  28.74  28.78  28.60   \n",
       "..     ...    ...    ...  ...    ...    ...    ...    ...    ...    ...   \n",
       "590  25.26  25.13  25.41  ...  26.02  25.62  25.47  25.73  25.61  26.07   \n",
       "591  18.83  19.59  18.87  ...  20.01  18.89  19.43  19.80  20.07  19.88   \n",
       "592  27.81  26.85  28.73  ...  28.59  28.48  28.13  28.66  27.89  28.56   \n",
       "593  28.57  28.57  28.70  ...  28.88  28.95  28.83  28.78  28.78  29.00   \n",
       "594  22.57  22.53  22.06  ...  23.64  22.78  22.35  22.66  22.80  23.80   \n",
       "\n",
       "      2017   2018   2019   2020  \n",
       "0    26.95  26.79  27.30  27.56  \n",
       "1    26.83  26.61  27.48  27.14  \n",
       "2    27.78  27.63  27.88  27.90  \n",
       "3    28.31  28.18  29.39  28.96  \n",
       "4    28.39  27.74  29.06  29.28  \n",
       "..     ...    ...    ...    ...  \n",
       "590  25.82  25.42  25.73  25.51  \n",
       "591  20.36  19.56  19.94  19.03  \n",
       "592  27.68  27.62  28.05  27.56  \n",
       "593  28.89  29.07  29.17  29.02  \n",
       "594  23.51  22.26  22.68  23.10  \n",
       "\n",
       "[595 rows x 122 columns]"
      ]
     },
     "execution_count": 8,
     "metadata": {},
     "output_type": "execute_result"
    }
   ],
   "source": [
    "data"
   ]
  },
  {
   "cell_type": "code",
   "execution_count": 9,
   "metadata": {},
   "outputs": [],
   "source": [
    "# Function for zonal-classification of states\n",
    "def zones(state):\n",
    "    if state in ['Chandigarh','Delhi','Haryana','Himachal Pradesh','Punjab','Rajasthan']: return 'North'\n",
    "    elif state in ['Bihar', 'Orissa', 'Jharkhand', 'West Bengal']: return 'East'\n",
    "    elif state in ['Dadra and Nagar Haveli','Daman and Diu','Goa','Gujarat','Maharashtra']: return 'West'\n",
    "    elif state in ['Andhra Pradesh','Karnataka','Kerala','Puducherry','Tamil Nadu','Andaman and Nicobar','Lakshadweep']: return 'South'\n",
    "    elif state in ['Chhattisgarh','Madhya Pradesh','Uttarakhand','Uttar Pradesh']: return 'Central'\n",
    "    elif state in ['Assam','Sikkim','Nagaland','Meghalaya','Manipur','Mizoram','Tripura','Arunachal Pradesh']: return 'North East'\n",
    "    else: return None"
   ]
  },
  {
   "cell_type": "code",
   "execution_count": 10,
   "metadata": {},
   "outputs": [],
   "source": [
    "#creating a copy of data\n",
    "df=data.copy()\n",
    "\n",
    "#Calculate basline mean relative to the period 1961-1990\n",
    "df['Baseline mean']= df.iloc[:,62:92].mean(axis=1).round(2)\n",
    "\n",
    "#Temp. Change relative to the baseline mean\n",
    "\n",
    "df= df.melt(id_vars= ['States', 'Period', 'Baseline mean'], var_name= 'Year', value_name= 'temp_change')\n",
    "df['Year']= df['Year'].astype(int)\n",
    "df['Zone']= df['States'].apply(zones)\n",
    "df['temp_change']= df['temp_change']-df['Baseline mean']\n",
    "df= df[['States', 'Zone', 'Period', 'Year', 'temp_change', 'Baseline mean']]"
   ]
  },
  {
   "cell_type": "code",
   "execution_count": 11,
   "metadata": {},
   "outputs": [
    {
     "data": {
      "text/html": [
       "<div>\n",
       "<style scoped>\n",
       "    .dataframe tbody tr th:only-of-type {\n",
       "        vertical-align: middle;\n",
       "    }\n",
       "\n",
       "    .dataframe tbody tr th {\n",
       "        vertical-align: top;\n",
       "    }\n",
       "\n",
       "    .dataframe thead th {\n",
       "        text-align: right;\n",
       "    }\n",
       "</style>\n",
       "<table border=\"1\" class=\"dataframe\">\n",
       "  <thead>\n",
       "    <tr style=\"text-align: right;\">\n",
       "      <th></th>\n",
       "      <th>States</th>\n",
       "      <th>Zone</th>\n",
       "      <th>Period</th>\n",
       "      <th>Year</th>\n",
       "      <th>temp_change</th>\n",
       "      <th>Baseline mean</th>\n",
       "    </tr>\n",
       "  </thead>\n",
       "  <tbody>\n",
       "    <tr>\n",
       "      <th>0</th>\n",
       "      <td>Andaman and Nicobar</td>\n",
       "      <td>South</td>\n",
       "      <td>Jan</td>\n",
       "      <td>1901</td>\n",
       "      <td>1.87</td>\n",
       "      <td>25.81</td>\n",
       "    </tr>\n",
       "    <tr>\n",
       "      <th>1</th>\n",
       "      <td>Andaman and Nicobar</td>\n",
       "      <td>South</td>\n",
       "      <td>Feb</td>\n",
       "      <td>1901</td>\n",
       "      <td>2.44</td>\n",
       "      <td>26.06</td>\n",
       "    </tr>\n",
       "    <tr>\n",
       "      <th>2</th>\n",
       "      <td>Andaman and Nicobar</td>\n",
       "      <td>South</td>\n",
       "      <td>Mar</td>\n",
       "      <td>1901</td>\n",
       "      <td>0.12</td>\n",
       "      <td>26.91</td>\n",
       "    </tr>\n",
       "    <tr>\n",
       "      <th>3</th>\n",
       "      <td>Andaman and Nicobar</td>\n",
       "      <td>South</td>\n",
       "      <td>Apr</td>\n",
       "      <td>1901</td>\n",
       "      <td>0.42</td>\n",
       "      <td>28.10</td>\n",
       "    </tr>\n",
       "    <tr>\n",
       "      <th>4</th>\n",
       "      <td>Andaman and Nicobar</td>\n",
       "      <td>South</td>\n",
       "      <td>May</td>\n",
       "      <td>1901</td>\n",
       "      <td>0.59</td>\n",
       "      <td>27.69</td>\n",
       "    </tr>\n",
       "    <tr>\n",
       "      <th>...</th>\n",
       "      <td>...</td>\n",
       "      <td>...</td>\n",
       "      <td>...</td>\n",
       "      <td>...</td>\n",
       "      <td>...</td>\n",
       "      <td>...</td>\n",
       "    </tr>\n",
       "    <tr>\n",
       "      <th>71395</th>\n",
       "      <td>West Bengal</td>\n",
       "      <td>East</td>\n",
       "      <td>Annual</td>\n",
       "      <td>2020</td>\n",
       "      <td>-0.05</td>\n",
       "      <td>25.56</td>\n",
       "    </tr>\n",
       "    <tr>\n",
       "      <th>71396</th>\n",
       "      <td>West Bengal</td>\n",
       "      <td>East</td>\n",
       "      <td>Winter</td>\n",
       "      <td>2020</td>\n",
       "      <td>-0.64</td>\n",
       "      <td>19.67</td>\n",
       "    </tr>\n",
       "    <tr>\n",
       "      <th>71397</th>\n",
       "      <td>West Bengal</td>\n",
       "      <td>East</td>\n",
       "      <td>Summer</td>\n",
       "      <td>2020</td>\n",
       "      <td>-0.60</td>\n",
       "      <td>28.16</td>\n",
       "    </tr>\n",
       "    <tr>\n",
       "      <th>71398</th>\n",
       "      <td>West Bengal</td>\n",
       "      <td>East</td>\n",
       "      <td>Monsoon</td>\n",
       "      <td>2020</td>\n",
       "      <td>0.46</td>\n",
       "      <td>28.56</td>\n",
       "    </tr>\n",
       "    <tr>\n",
       "      <th>71399</th>\n",
       "      <td>West Bengal</td>\n",
       "      <td>East</td>\n",
       "      <td>Post Monsoon</td>\n",
       "      <td>2020</td>\n",
       "      <td>0.20</td>\n",
       "      <td>22.90</td>\n",
       "    </tr>\n",
       "  </tbody>\n",
       "</table>\n",
       "<p>71400 rows × 6 columns</p>\n",
       "</div>"
      ],
      "text/plain": [
       "                    States   Zone        Period  Year  temp_change  \\\n",
       "0      Andaman and Nicobar  South           Jan  1901         1.87   \n",
       "1      Andaman and Nicobar  South           Feb  1901         2.44   \n",
       "2      Andaman and Nicobar  South           Mar  1901         0.12   \n",
       "3      Andaman and Nicobar  South           Apr  1901         0.42   \n",
       "4      Andaman and Nicobar  South           May  1901         0.59   \n",
       "...                    ...    ...           ...   ...          ...   \n",
       "71395          West Bengal   East        Annual  2020        -0.05   \n",
       "71396          West Bengal   East        Winter  2020        -0.64   \n",
       "71397          West Bengal   East        Summer  2020        -0.60   \n",
       "71398          West Bengal   East       Monsoon  2020         0.46   \n",
       "71399          West Bengal   East  Post Monsoon  2020         0.20   \n",
       "\n",
       "       Baseline mean  \n",
       "0              25.81  \n",
       "1              26.06  \n",
       "2              26.91  \n",
       "3              28.10  \n",
       "4              27.69  \n",
       "...              ...  \n",
       "71395          25.56  \n",
       "71396          19.67  \n",
       "71397          28.16  \n",
       "71398          28.56  \n",
       "71399          22.90  \n",
       "\n",
       "[71400 rows x 6 columns]"
      ]
     },
     "execution_count": 11,
     "metadata": {},
     "output_type": "execute_result"
    }
   ],
   "source": [
    "df"
   ]
  },
  {
   "cell_type": "code",
   "execution_count": 12,
   "metadata": {},
   "outputs": [
    {
     "data": {
      "text/html": [
       "<div>\n",
       "<style scoped>\n",
       "    .dataframe tbody tr th:only-of-type {\n",
       "        vertical-align: middle;\n",
       "    }\n",
       "\n",
       "    .dataframe tbody tr th {\n",
       "        vertical-align: top;\n",
       "    }\n",
       "\n",
       "    .dataframe thead th {\n",
       "        text-align: right;\n",
       "    }\n",
       "</style>\n",
       "<table border=\"1\" class=\"dataframe\">\n",
       "  <thead>\n",
       "    <tr style=\"text-align: right;\">\n",
       "      <th></th>\n",
       "      <th>States</th>\n",
       "      <th>Zone</th>\n",
       "      <th>Period</th>\n",
       "      <th>Year</th>\n",
       "      <th>temp_change</th>\n",
       "      <th>Baseline mean</th>\n",
       "    </tr>\n",
       "  </thead>\n",
       "  <tbody>\n",
       "    <tr>\n",
       "      <th>0</th>\n",
       "      <td>Andaman and Nicobar</td>\n",
       "      <td>South</td>\n",
       "      <td>Jan</td>\n",
       "      <td>1901</td>\n",
       "      <td>1.87</td>\n",
       "      <td>25.81</td>\n",
       "    </tr>\n",
       "    <tr>\n",
       "      <th>1</th>\n",
       "      <td>Andaman and Nicobar</td>\n",
       "      <td>South</td>\n",
       "      <td>Feb</td>\n",
       "      <td>1901</td>\n",
       "      <td>2.44</td>\n",
       "      <td>26.06</td>\n",
       "    </tr>\n",
       "    <tr>\n",
       "      <th>2</th>\n",
       "      <td>Andaman and Nicobar</td>\n",
       "      <td>South</td>\n",
       "      <td>Mar</td>\n",
       "      <td>1901</td>\n",
       "      <td>0.12</td>\n",
       "      <td>26.91</td>\n",
       "    </tr>\n",
       "    <tr>\n",
       "      <th>3</th>\n",
       "      <td>Andaman and Nicobar</td>\n",
       "      <td>South</td>\n",
       "      <td>Apr</td>\n",
       "      <td>1901</td>\n",
       "      <td>0.42</td>\n",
       "      <td>28.10</td>\n",
       "    </tr>\n",
       "    <tr>\n",
       "      <th>4</th>\n",
       "      <td>Andaman and Nicobar</td>\n",
       "      <td>South</td>\n",
       "      <td>May</td>\n",
       "      <td>1901</td>\n",
       "      <td>0.59</td>\n",
       "      <td>27.69</td>\n",
       "    </tr>\n",
       "    <tr>\n",
       "      <th>...</th>\n",
       "      <td>...</td>\n",
       "      <td>...</td>\n",
       "      <td>...</td>\n",
       "      <td>...</td>\n",
       "      <td>...</td>\n",
       "      <td>...</td>\n",
       "    </tr>\n",
       "    <tr>\n",
       "      <th>71395</th>\n",
       "      <td>West Bengal</td>\n",
       "      <td>East</td>\n",
       "      <td>Annual</td>\n",
       "      <td>2020</td>\n",
       "      <td>-0.05</td>\n",
       "      <td>25.56</td>\n",
       "    </tr>\n",
       "    <tr>\n",
       "      <th>71396</th>\n",
       "      <td>West Bengal</td>\n",
       "      <td>East</td>\n",
       "      <td>Winter</td>\n",
       "      <td>2020</td>\n",
       "      <td>-0.64</td>\n",
       "      <td>19.67</td>\n",
       "    </tr>\n",
       "    <tr>\n",
       "      <th>71397</th>\n",
       "      <td>West Bengal</td>\n",
       "      <td>East</td>\n",
       "      <td>Summer</td>\n",
       "      <td>2020</td>\n",
       "      <td>-0.60</td>\n",
       "      <td>28.16</td>\n",
       "    </tr>\n",
       "    <tr>\n",
       "      <th>71398</th>\n",
       "      <td>West Bengal</td>\n",
       "      <td>East</td>\n",
       "      <td>Monsoon</td>\n",
       "      <td>2020</td>\n",
       "      <td>0.46</td>\n",
       "      <td>28.56</td>\n",
       "    </tr>\n",
       "    <tr>\n",
       "      <th>71399</th>\n",
       "      <td>West Bengal</td>\n",
       "      <td>East</td>\n",
       "      <td>Post Monsoon</td>\n",
       "      <td>2020</td>\n",
       "      <td>0.20</td>\n",
       "      <td>22.90</td>\n",
       "    </tr>\n",
       "  </tbody>\n",
       "</table>\n",
       "<p>71400 rows × 6 columns</p>\n",
       "</div>"
      ],
      "text/plain": [
       "                    States   Zone        Period  Year  temp_change  \\\n",
       "0      Andaman and Nicobar  South           Jan  1901         1.87   \n",
       "1      Andaman and Nicobar  South           Feb  1901         2.44   \n",
       "2      Andaman and Nicobar  South           Mar  1901         0.12   \n",
       "3      Andaman and Nicobar  South           Apr  1901         0.42   \n",
       "4      Andaman and Nicobar  South           May  1901         0.59   \n",
       "...                    ...    ...           ...   ...          ...   \n",
       "71395          West Bengal   East        Annual  2020        -0.05   \n",
       "71396          West Bengal   East        Winter  2020        -0.64   \n",
       "71397          West Bengal   East        Summer  2020        -0.60   \n",
       "71398          West Bengal   East       Monsoon  2020         0.46   \n",
       "71399          West Bengal   East  Post Monsoon  2020         0.20   \n",
       "\n",
       "       Baseline mean  \n",
       "0              25.81  \n",
       "1              26.06  \n",
       "2              26.91  \n",
       "3              28.10  \n",
       "4              27.69  \n",
       "...              ...  \n",
       "71395          25.56  \n",
       "71396          19.67  \n",
       "71397          28.16  \n",
       "71398          28.56  \n",
       "71399          22.90  \n",
       "\n",
       "[71400 rows x 6 columns]"
      ]
     },
     "execution_count": 12,
     "metadata": {},
     "output_type": "execute_result"
    }
   ],
   "source": [
    "df"
   ]
  },
  {
   "cell_type": "markdown",
   "metadata": {},
   "source": [
    "<br/><br/>"
   ]
  },
  {
   "cell_type": "markdown",
   "metadata": {},
   "source": [
    "#### Trying to see which states suffered the most ####"
   ]
  },
  {
   "cell_type": "code",
   "execution_count": 13,
   "metadata": {},
   "outputs": [
    {
     "data": {
      "application/vnd.plotly.v1+json": {
       "config": {
        "plotlyServerURL": "https://plot.ly"
       },
       "data": [
        {
         "alignmentgroup": "True",
         "hovertemplate": "States=%{x}<br>temp_change=%{marker.color}<extra></extra>",
         "legendgroup": "",
         "marker": {
          "color": [
           0.87,
           0.8,
           0.79,
           0.79,
           0.79,
           0.78,
           0.78,
           0.76,
           0.75,
           0.7
          ],
          "coloraxis": "coloraxis",
          "pattern": {
           "shape": ""
          }
         },
         "name": "",
         "offsetgroup": "",
         "orientation": "v",
         "showlegend": false,
         "textposition": "outside",
         "texttemplate": "%{y:.2f}",
         "type": "bar",
         "x": [
          "Lakshadweep",
          "Himachal Pradesh",
          "Andaman and Nicobar",
          "Tamil Nadu",
          "Uttarakhand",
          "Kerala",
          "Puducherry",
          "Delhi",
          "Chandigarh",
          "Haryana"
         ],
         "xaxis": "x",
         "y": [
          0.87,
          0.8,
          0.79,
          0.79,
          0.79,
          0.78,
          0.78,
          0.76,
          0.75,
          0.7
         ],
         "yaxis": "y"
        }
       ],
       "layout": {
        "barmode": "relative",
        "coloraxis": {
         "colorbar": {
          "title": {
           "text": "temp_change"
          }
         },
         "colorscale": [
          [
           0,
           "rgb(209, 238, 234)"
          ],
          [
           0.16666666666666666,
           "rgb(168, 219, 217)"
          ],
          [
           0.3333333333333333,
           "rgb(133, 196, 201)"
          ],
          [
           0.5,
           "rgb(104, 171, 184)"
          ],
          [
           0.6666666666666666,
           "rgb(79, 144, 166)"
          ],
          [
           0.8333333333333334,
           "rgb(59, 115, 143)"
          ],
          [
           1,
           "rgb(42, 86, 116)"
          ]
         ],
         "showscale": false
        },
        "height": 600,
        "legend": {
         "tracegroupgap": 0
        },
        "template": {
         "data": {
          "bar": [
           {
            "error_x": {
             "color": "#f2f5fa"
            },
            "error_y": {
             "color": "#f2f5fa"
            },
            "marker": {
             "line": {
              "color": "rgb(17,17,17)",
              "width": 0.5
             },
             "pattern": {
              "fillmode": "overlay",
              "size": 10,
              "solidity": 0.2
             }
            },
            "type": "bar"
           }
          ],
          "barpolar": [
           {
            "marker": {
             "line": {
              "color": "rgb(17,17,17)",
              "width": 0.5
             },
             "pattern": {
              "fillmode": "overlay",
              "size": 10,
              "solidity": 0.2
             }
            },
            "type": "barpolar"
           }
          ],
          "carpet": [
           {
            "aaxis": {
             "endlinecolor": "#A2B1C6",
             "gridcolor": "#506784",
             "linecolor": "#506784",
             "minorgridcolor": "#506784",
             "startlinecolor": "#A2B1C6"
            },
            "baxis": {
             "endlinecolor": "#A2B1C6",
             "gridcolor": "#506784",
             "linecolor": "#506784",
             "minorgridcolor": "#506784",
             "startlinecolor": "#A2B1C6"
            },
            "type": "carpet"
           }
          ],
          "choropleth": [
           {
            "colorbar": {
             "outlinewidth": 0,
             "ticks": ""
            },
            "type": "choropleth"
           }
          ],
          "contour": [
           {
            "colorbar": {
             "outlinewidth": 0,
             "ticks": ""
            },
            "colorscale": [
             [
              0,
              "#0d0887"
             ],
             [
              0.1111111111111111,
              "#46039f"
             ],
             [
              0.2222222222222222,
              "#7201a8"
             ],
             [
              0.3333333333333333,
              "#9c179e"
             ],
             [
              0.4444444444444444,
              "#bd3786"
             ],
             [
              0.5555555555555556,
              "#d8576b"
             ],
             [
              0.6666666666666666,
              "#ed7953"
             ],
             [
              0.7777777777777778,
              "#fb9f3a"
             ],
             [
              0.8888888888888888,
              "#fdca26"
             ],
             [
              1,
              "#f0f921"
             ]
            ],
            "type": "contour"
           }
          ],
          "contourcarpet": [
           {
            "colorbar": {
             "outlinewidth": 0,
             "ticks": ""
            },
            "type": "contourcarpet"
           }
          ],
          "heatmap": [
           {
            "colorbar": {
             "outlinewidth": 0,
             "ticks": ""
            },
            "colorscale": [
             [
              0,
              "#0d0887"
             ],
             [
              0.1111111111111111,
              "#46039f"
             ],
             [
              0.2222222222222222,
              "#7201a8"
             ],
             [
              0.3333333333333333,
              "#9c179e"
             ],
             [
              0.4444444444444444,
              "#bd3786"
             ],
             [
              0.5555555555555556,
              "#d8576b"
             ],
             [
              0.6666666666666666,
              "#ed7953"
             ],
             [
              0.7777777777777778,
              "#fb9f3a"
             ],
             [
              0.8888888888888888,
              "#fdca26"
             ],
             [
              1,
              "#f0f921"
             ]
            ],
            "type": "heatmap"
           }
          ],
          "heatmapgl": [
           {
            "colorbar": {
             "outlinewidth": 0,
             "ticks": ""
            },
            "colorscale": [
             [
              0,
              "#0d0887"
             ],
             [
              0.1111111111111111,
              "#46039f"
             ],
             [
              0.2222222222222222,
              "#7201a8"
             ],
             [
              0.3333333333333333,
              "#9c179e"
             ],
             [
              0.4444444444444444,
              "#bd3786"
             ],
             [
              0.5555555555555556,
              "#d8576b"
             ],
             [
              0.6666666666666666,
              "#ed7953"
             ],
             [
              0.7777777777777778,
              "#fb9f3a"
             ],
             [
              0.8888888888888888,
              "#fdca26"
             ],
             [
              1,
              "#f0f921"
             ]
            ],
            "type": "heatmapgl"
           }
          ],
          "histogram": [
           {
            "marker": {
             "pattern": {
              "fillmode": "overlay",
              "size": 10,
              "solidity": 0.2
             }
            },
            "type": "histogram"
           }
          ],
          "histogram2d": [
           {
            "colorbar": {
             "outlinewidth": 0,
             "ticks": ""
            },
            "colorscale": [
             [
              0,
              "#0d0887"
             ],
             [
              0.1111111111111111,
              "#46039f"
             ],
             [
              0.2222222222222222,
              "#7201a8"
             ],
             [
              0.3333333333333333,
              "#9c179e"
             ],
             [
              0.4444444444444444,
              "#bd3786"
             ],
             [
              0.5555555555555556,
              "#d8576b"
             ],
             [
              0.6666666666666666,
              "#ed7953"
             ],
             [
              0.7777777777777778,
              "#fb9f3a"
             ],
             [
              0.8888888888888888,
              "#fdca26"
             ],
             [
              1,
              "#f0f921"
             ]
            ],
            "type": "histogram2d"
           }
          ],
          "histogram2dcontour": [
           {
            "colorbar": {
             "outlinewidth": 0,
             "ticks": ""
            },
            "colorscale": [
             [
              0,
              "#0d0887"
             ],
             [
              0.1111111111111111,
              "#46039f"
             ],
             [
              0.2222222222222222,
              "#7201a8"
             ],
             [
              0.3333333333333333,
              "#9c179e"
             ],
             [
              0.4444444444444444,
              "#bd3786"
             ],
             [
              0.5555555555555556,
              "#d8576b"
             ],
             [
              0.6666666666666666,
              "#ed7953"
             ],
             [
              0.7777777777777778,
              "#fb9f3a"
             ],
             [
              0.8888888888888888,
              "#fdca26"
             ],
             [
              1,
              "#f0f921"
             ]
            ],
            "type": "histogram2dcontour"
           }
          ],
          "mesh3d": [
           {
            "colorbar": {
             "outlinewidth": 0,
             "ticks": ""
            },
            "type": "mesh3d"
           }
          ],
          "parcoords": [
           {
            "line": {
             "colorbar": {
              "outlinewidth": 0,
              "ticks": ""
             }
            },
            "type": "parcoords"
           }
          ],
          "pie": [
           {
            "automargin": true,
            "type": "pie"
           }
          ],
          "scatter": [
           {
            "marker": {
             "line": {
              "color": "#283442"
             }
            },
            "type": "scatter"
           }
          ],
          "scatter3d": [
           {
            "line": {
             "colorbar": {
              "outlinewidth": 0,
              "ticks": ""
             }
            },
            "marker": {
             "colorbar": {
              "outlinewidth": 0,
              "ticks": ""
             }
            },
            "type": "scatter3d"
           }
          ],
          "scattercarpet": [
           {
            "marker": {
             "colorbar": {
              "outlinewidth": 0,
              "ticks": ""
             }
            },
            "type": "scattercarpet"
           }
          ],
          "scattergeo": [
           {
            "marker": {
             "colorbar": {
              "outlinewidth": 0,
              "ticks": ""
             }
            },
            "type": "scattergeo"
           }
          ],
          "scattergl": [
           {
            "marker": {
             "line": {
              "color": "#283442"
             }
            },
            "type": "scattergl"
           }
          ],
          "scattermapbox": [
           {
            "marker": {
             "colorbar": {
              "outlinewidth": 0,
              "ticks": ""
             }
            },
            "type": "scattermapbox"
           }
          ],
          "scatterpolar": [
           {
            "marker": {
             "colorbar": {
              "outlinewidth": 0,
              "ticks": ""
             }
            },
            "type": "scatterpolar"
           }
          ],
          "scatterpolargl": [
           {
            "marker": {
             "colorbar": {
              "outlinewidth": 0,
              "ticks": ""
             }
            },
            "type": "scatterpolargl"
           }
          ],
          "scatterternary": [
           {
            "marker": {
             "colorbar": {
              "outlinewidth": 0,
              "ticks": ""
             }
            },
            "type": "scatterternary"
           }
          ],
          "surface": [
           {
            "colorbar": {
             "outlinewidth": 0,
             "ticks": ""
            },
            "colorscale": [
             [
              0,
              "#0d0887"
             ],
             [
              0.1111111111111111,
              "#46039f"
             ],
             [
              0.2222222222222222,
              "#7201a8"
             ],
             [
              0.3333333333333333,
              "#9c179e"
             ],
             [
              0.4444444444444444,
              "#bd3786"
             ],
             [
              0.5555555555555556,
              "#d8576b"
             ],
             [
              0.6666666666666666,
              "#ed7953"
             ],
             [
              0.7777777777777778,
              "#fb9f3a"
             ],
             [
              0.8888888888888888,
              "#fdca26"
             ],
             [
              1,
              "#f0f921"
             ]
            ],
            "type": "surface"
           }
          ],
          "table": [
           {
            "cells": {
             "fill": {
              "color": "#506784"
             },
             "line": {
              "color": "rgb(17,17,17)"
             }
            },
            "header": {
             "fill": {
              "color": "#2a3f5f"
             },
             "line": {
              "color": "rgb(17,17,17)"
             }
            },
            "type": "table"
           }
          ]
         },
         "layout": {
          "annotationdefaults": {
           "arrowcolor": "#f2f5fa",
           "arrowhead": 0,
           "arrowwidth": 1
          },
          "autotypenumbers": "strict",
          "coloraxis": {
           "colorbar": {
            "outlinewidth": 0,
            "ticks": ""
           }
          },
          "colorscale": {
           "diverging": [
            [
             0,
             "#8e0152"
            ],
            [
             0.1,
             "#c51b7d"
            ],
            [
             0.2,
             "#de77ae"
            ],
            [
             0.3,
             "#f1b6da"
            ],
            [
             0.4,
             "#fde0ef"
            ],
            [
             0.5,
             "#f7f7f7"
            ],
            [
             0.6,
             "#e6f5d0"
            ],
            [
             0.7,
             "#b8e186"
            ],
            [
             0.8,
             "#7fbc41"
            ],
            [
             0.9,
             "#4d9221"
            ],
            [
             1,
             "#276419"
            ]
           ],
           "sequential": [
            [
             0,
             "#0d0887"
            ],
            [
             0.1111111111111111,
             "#46039f"
            ],
            [
             0.2222222222222222,
             "#7201a8"
            ],
            [
             0.3333333333333333,
             "#9c179e"
            ],
            [
             0.4444444444444444,
             "#bd3786"
            ],
            [
             0.5555555555555556,
             "#d8576b"
            ],
            [
             0.6666666666666666,
             "#ed7953"
            ],
            [
             0.7777777777777778,
             "#fb9f3a"
            ],
            [
             0.8888888888888888,
             "#fdca26"
            ],
            [
             1,
             "#f0f921"
            ]
           ],
           "sequentialminus": [
            [
             0,
             "#0d0887"
            ],
            [
             0.1111111111111111,
             "#46039f"
            ],
            [
             0.2222222222222222,
             "#7201a8"
            ],
            [
             0.3333333333333333,
             "#9c179e"
            ],
            [
             0.4444444444444444,
             "#bd3786"
            ],
            [
             0.5555555555555556,
             "#d8576b"
            ],
            [
             0.6666666666666666,
             "#ed7953"
            ],
            [
             0.7777777777777778,
             "#fb9f3a"
            ],
            [
             0.8888888888888888,
             "#fdca26"
            ],
            [
             1,
             "#f0f921"
            ]
           ]
          },
          "colorway": [
           "#636efa",
           "#EF553B",
           "#00cc96",
           "#ab63fa",
           "#FFA15A",
           "#19d3f3",
           "#FF6692",
           "#B6E880",
           "#FF97FF",
           "#FECB52"
          ],
          "font": {
           "color": "#f2f5fa"
          },
          "geo": {
           "bgcolor": "rgb(17,17,17)",
           "lakecolor": "rgb(17,17,17)",
           "landcolor": "rgb(17,17,17)",
           "showlakes": true,
           "showland": true,
           "subunitcolor": "#506784"
          },
          "hoverlabel": {
           "align": "left"
          },
          "hovermode": "closest",
          "mapbox": {
           "style": "dark"
          },
          "paper_bgcolor": "rgb(17,17,17)",
          "plot_bgcolor": "rgb(17,17,17)",
          "polar": {
           "angularaxis": {
            "gridcolor": "#506784",
            "linecolor": "#506784",
            "ticks": ""
           },
           "bgcolor": "rgb(17,17,17)",
           "radialaxis": {
            "gridcolor": "#506784",
            "linecolor": "#506784",
            "ticks": ""
           }
          },
          "scene": {
           "xaxis": {
            "backgroundcolor": "rgb(17,17,17)",
            "gridcolor": "#506784",
            "gridwidth": 2,
            "linecolor": "#506784",
            "showbackground": true,
            "ticks": "",
            "zerolinecolor": "#C8D4E3"
           },
           "yaxis": {
            "backgroundcolor": "rgb(17,17,17)",
            "gridcolor": "#506784",
            "gridwidth": 2,
            "linecolor": "#506784",
            "showbackground": true,
            "ticks": "",
            "zerolinecolor": "#C8D4E3"
           },
           "zaxis": {
            "backgroundcolor": "rgb(17,17,17)",
            "gridcolor": "#506784",
            "gridwidth": 2,
            "linecolor": "#506784",
            "showbackground": true,
            "ticks": "",
            "zerolinecolor": "#C8D4E3"
           }
          },
          "shapedefaults": {
           "line": {
            "color": "#f2f5fa"
           }
          },
          "sliderdefaults": {
           "bgcolor": "#C8D4E3",
           "bordercolor": "rgb(17,17,17)",
           "borderwidth": 1,
           "tickwidth": 0
          },
          "ternary": {
           "aaxis": {
            "gridcolor": "#506784",
            "linecolor": "#506784",
            "ticks": ""
           },
           "baxis": {
            "gridcolor": "#506784",
            "linecolor": "#506784",
            "ticks": ""
           },
           "bgcolor": "rgb(17,17,17)",
           "caxis": {
            "gridcolor": "#506784",
            "linecolor": "#506784",
            "ticks": ""
           }
          },
          "title": {
           "x": 0.05
          },
          "updatemenudefaults": {
           "bgcolor": "#506784",
           "borderwidth": 0
          },
          "xaxis": {
           "automargin": true,
           "gridcolor": "#283442",
           "linecolor": "#506784",
           "ticks": "",
           "title": {
            "standoff": 15
           },
           "zerolinecolor": "#283442",
           "zerolinewidth": 2
          },
          "yaxis": {
           "automargin": true,
           "gridcolor": "#283442",
           "linecolor": "#506784",
           "ticks": "",
           "title": {
            "standoff": 15
           },
           "zerolinecolor": "#283442",
           "zerolinewidth": 2
          }
         }
        },
        "title": {
         "text": "Ten States/UTs which suffered the most from temperature change in the last ten years (2011-2020)",
         "x": 0.5
        },
        "width": 1000,
        "xaxis": {
         "anchor": "y",
         "domain": [
          0,
          1
         ],
         "title": {
          "text": "States/UTs"
         }
        },
        "yaxis": {
         "anchor": "x",
         "domain": [
          0,
          1
         ],
         "title": {
          "text": "Temperature Change (°C)"
         }
        }
       }
      }
     },
     "metadata": {},
     "output_type": "display_data"
    }
   ],
   "source": [
    "# Which ten states/UTs suffered the most from temperature change in the last ten years?\n",
    "\n",
    "df_c= df[ (df.Period=='Annual') & (df.Year.between(2011,2020)) ][['States', 'temp_change']]\n",
    "df_c= df_c.groupby('States').mean().round(2).nlargest(10, 'temp_change')\n",
    "df_c.reset_index(inplace=True)\n",
    "\n",
    "fig= px.bar(df_c, x='States', y='temp_change', text_auto='.2f', \n",
    "            title= 'Ten States/UTs which suffered the most from temperature change in the last ten years (2011-2020)',\n",
    "            color='temp_change',\n",
    "            color_continuous_scale= 'teal'\n",
    "           )\n",
    "\n",
    "fig.update_layout(\n",
    "    width=1000,\n",
    "    height=600,\n",
    "    template='plotly_dark',\n",
    "    coloraxis_showscale=False,\n",
    "    title_x= 0.5\n",
    "    \n",
    ")\n",
    "fig.update_traces(textposition='outside')\n",
    "fig.update_xaxes( title='States/UTs')\n",
    "fig.update_yaxes( title='Temperature Change (°C)')\n",
    "\n",
    "fig"
   ]
  },
  {
   "cell_type": "markdown",
   "metadata": {},
   "source": [
    "<br/><br/>"
   ]
  },
  {
   "cell_type": "markdown",
   "metadata": {},
   "source": [
    "#### Which states suffered the least in the recent years? ####"
   ]
  },
  {
   "cell_type": "code",
   "execution_count": 14,
   "metadata": {},
   "outputs": [
    {
     "data": {
      "application/vnd.plotly.v1+json": {
       "config": {
        "plotlyServerURL": "https://plot.ly"
       },
       "data": [
        {
         "alignmentgroup": "True",
         "hovertemplate": "States=%{x}<br>temp_change=%{marker.color}<extra></extra>",
         "legendgroup": "",
         "marker": {
          "color": [
           0.07,
           0.11,
           0.14,
           0.16,
           0.17,
           0.27,
           0.31,
           0.34,
           0.42,
           0.44
          ],
          "coloraxis": "coloraxis",
          "pattern": {
           "shape": ""
          }
         },
         "name": "",
         "offsetgroup": "",
         "orientation": "v",
         "showlegend": false,
         "textposition": "outside",
         "texttemplate": "%{y:.2f}",
         "type": "bar",
         "x": [
          "Tripura",
          "Mizoram",
          "West Bengal",
          "Meghalaya",
          "Jharkhand",
          "Orissa",
          "Bihar",
          "Manipur",
          "Assam",
          "Chhattisgarh"
         ],
         "xaxis": "x",
         "y": [
          0.07,
          0.11,
          0.14,
          0.16,
          0.17,
          0.27,
          0.31,
          0.34,
          0.42,
          0.44
         ],
         "yaxis": "y"
        }
       ],
       "layout": {
        "barmode": "relative",
        "coloraxis": {
         "colorbar": {
          "title": {
           "text": "temp_change"
          }
         },
         "colorscale": [
          [
           0,
           "rgb(209, 238, 234)"
          ],
          [
           0.16666666666666666,
           "rgb(168, 219, 217)"
          ],
          [
           0.3333333333333333,
           "rgb(133, 196, 201)"
          ],
          [
           0.5,
           "rgb(104, 171, 184)"
          ],
          [
           0.6666666666666666,
           "rgb(79, 144, 166)"
          ],
          [
           0.8333333333333334,
           "rgb(59, 115, 143)"
          ],
          [
           1,
           "rgb(42, 86, 116)"
          ]
         ],
         "showscale": false
        },
        "height": 600,
        "legend": {
         "tracegroupgap": 0
        },
        "template": {
         "data": {
          "bar": [
           {
            "error_x": {
             "color": "#f2f5fa"
            },
            "error_y": {
             "color": "#f2f5fa"
            },
            "marker": {
             "line": {
              "color": "rgb(17,17,17)",
              "width": 0.5
             },
             "pattern": {
              "fillmode": "overlay",
              "size": 10,
              "solidity": 0.2
             }
            },
            "type": "bar"
           }
          ],
          "barpolar": [
           {
            "marker": {
             "line": {
              "color": "rgb(17,17,17)",
              "width": 0.5
             },
             "pattern": {
              "fillmode": "overlay",
              "size": 10,
              "solidity": 0.2
             }
            },
            "type": "barpolar"
           }
          ],
          "carpet": [
           {
            "aaxis": {
             "endlinecolor": "#A2B1C6",
             "gridcolor": "#506784",
             "linecolor": "#506784",
             "minorgridcolor": "#506784",
             "startlinecolor": "#A2B1C6"
            },
            "baxis": {
             "endlinecolor": "#A2B1C6",
             "gridcolor": "#506784",
             "linecolor": "#506784",
             "minorgridcolor": "#506784",
             "startlinecolor": "#A2B1C6"
            },
            "type": "carpet"
           }
          ],
          "choropleth": [
           {
            "colorbar": {
             "outlinewidth": 0,
             "ticks": ""
            },
            "type": "choropleth"
           }
          ],
          "contour": [
           {
            "colorbar": {
             "outlinewidth": 0,
             "ticks": ""
            },
            "colorscale": [
             [
              0,
              "#0d0887"
             ],
             [
              0.1111111111111111,
              "#46039f"
             ],
             [
              0.2222222222222222,
              "#7201a8"
             ],
             [
              0.3333333333333333,
              "#9c179e"
             ],
             [
              0.4444444444444444,
              "#bd3786"
             ],
             [
              0.5555555555555556,
              "#d8576b"
             ],
             [
              0.6666666666666666,
              "#ed7953"
             ],
             [
              0.7777777777777778,
              "#fb9f3a"
             ],
             [
              0.8888888888888888,
              "#fdca26"
             ],
             [
              1,
              "#f0f921"
             ]
            ],
            "type": "contour"
           }
          ],
          "contourcarpet": [
           {
            "colorbar": {
             "outlinewidth": 0,
             "ticks": ""
            },
            "type": "contourcarpet"
           }
          ],
          "heatmap": [
           {
            "colorbar": {
             "outlinewidth": 0,
             "ticks": ""
            },
            "colorscale": [
             [
              0,
              "#0d0887"
             ],
             [
              0.1111111111111111,
              "#46039f"
             ],
             [
              0.2222222222222222,
              "#7201a8"
             ],
             [
              0.3333333333333333,
              "#9c179e"
             ],
             [
              0.4444444444444444,
              "#bd3786"
             ],
             [
              0.5555555555555556,
              "#d8576b"
             ],
             [
              0.6666666666666666,
              "#ed7953"
             ],
             [
              0.7777777777777778,
              "#fb9f3a"
             ],
             [
              0.8888888888888888,
              "#fdca26"
             ],
             [
              1,
              "#f0f921"
             ]
            ],
            "type": "heatmap"
           }
          ],
          "heatmapgl": [
           {
            "colorbar": {
             "outlinewidth": 0,
             "ticks": ""
            },
            "colorscale": [
             [
              0,
              "#0d0887"
             ],
             [
              0.1111111111111111,
              "#46039f"
             ],
             [
              0.2222222222222222,
              "#7201a8"
             ],
             [
              0.3333333333333333,
              "#9c179e"
             ],
             [
              0.4444444444444444,
              "#bd3786"
             ],
             [
              0.5555555555555556,
              "#d8576b"
             ],
             [
              0.6666666666666666,
              "#ed7953"
             ],
             [
              0.7777777777777778,
              "#fb9f3a"
             ],
             [
              0.8888888888888888,
              "#fdca26"
             ],
             [
              1,
              "#f0f921"
             ]
            ],
            "type": "heatmapgl"
           }
          ],
          "histogram": [
           {
            "marker": {
             "pattern": {
              "fillmode": "overlay",
              "size": 10,
              "solidity": 0.2
             }
            },
            "type": "histogram"
           }
          ],
          "histogram2d": [
           {
            "colorbar": {
             "outlinewidth": 0,
             "ticks": ""
            },
            "colorscale": [
             [
              0,
              "#0d0887"
             ],
             [
              0.1111111111111111,
              "#46039f"
             ],
             [
              0.2222222222222222,
              "#7201a8"
             ],
             [
              0.3333333333333333,
              "#9c179e"
             ],
             [
              0.4444444444444444,
              "#bd3786"
             ],
             [
              0.5555555555555556,
              "#d8576b"
             ],
             [
              0.6666666666666666,
              "#ed7953"
             ],
             [
              0.7777777777777778,
              "#fb9f3a"
             ],
             [
              0.8888888888888888,
              "#fdca26"
             ],
             [
              1,
              "#f0f921"
             ]
            ],
            "type": "histogram2d"
           }
          ],
          "histogram2dcontour": [
           {
            "colorbar": {
             "outlinewidth": 0,
             "ticks": ""
            },
            "colorscale": [
             [
              0,
              "#0d0887"
             ],
             [
              0.1111111111111111,
              "#46039f"
             ],
             [
              0.2222222222222222,
              "#7201a8"
             ],
             [
              0.3333333333333333,
              "#9c179e"
             ],
             [
              0.4444444444444444,
              "#bd3786"
             ],
             [
              0.5555555555555556,
              "#d8576b"
             ],
             [
              0.6666666666666666,
              "#ed7953"
             ],
             [
              0.7777777777777778,
              "#fb9f3a"
             ],
             [
              0.8888888888888888,
              "#fdca26"
             ],
             [
              1,
              "#f0f921"
             ]
            ],
            "type": "histogram2dcontour"
           }
          ],
          "mesh3d": [
           {
            "colorbar": {
             "outlinewidth": 0,
             "ticks": ""
            },
            "type": "mesh3d"
           }
          ],
          "parcoords": [
           {
            "line": {
             "colorbar": {
              "outlinewidth": 0,
              "ticks": ""
             }
            },
            "type": "parcoords"
           }
          ],
          "pie": [
           {
            "automargin": true,
            "type": "pie"
           }
          ],
          "scatter": [
           {
            "marker": {
             "line": {
              "color": "#283442"
             }
            },
            "type": "scatter"
           }
          ],
          "scatter3d": [
           {
            "line": {
             "colorbar": {
              "outlinewidth": 0,
              "ticks": ""
             }
            },
            "marker": {
             "colorbar": {
              "outlinewidth": 0,
              "ticks": ""
             }
            },
            "type": "scatter3d"
           }
          ],
          "scattercarpet": [
           {
            "marker": {
             "colorbar": {
              "outlinewidth": 0,
              "ticks": ""
             }
            },
            "type": "scattercarpet"
           }
          ],
          "scattergeo": [
           {
            "marker": {
             "colorbar": {
              "outlinewidth": 0,
              "ticks": ""
             }
            },
            "type": "scattergeo"
           }
          ],
          "scattergl": [
           {
            "marker": {
             "line": {
              "color": "#283442"
             }
            },
            "type": "scattergl"
           }
          ],
          "scattermapbox": [
           {
            "marker": {
             "colorbar": {
              "outlinewidth": 0,
              "ticks": ""
             }
            },
            "type": "scattermapbox"
           }
          ],
          "scatterpolar": [
           {
            "marker": {
             "colorbar": {
              "outlinewidth": 0,
              "ticks": ""
             }
            },
            "type": "scatterpolar"
           }
          ],
          "scatterpolargl": [
           {
            "marker": {
             "colorbar": {
              "outlinewidth": 0,
              "ticks": ""
             }
            },
            "type": "scatterpolargl"
           }
          ],
          "scatterternary": [
           {
            "marker": {
             "colorbar": {
              "outlinewidth": 0,
              "ticks": ""
             }
            },
            "type": "scatterternary"
           }
          ],
          "surface": [
           {
            "colorbar": {
             "outlinewidth": 0,
             "ticks": ""
            },
            "colorscale": [
             [
              0,
              "#0d0887"
             ],
             [
              0.1111111111111111,
              "#46039f"
             ],
             [
              0.2222222222222222,
              "#7201a8"
             ],
             [
              0.3333333333333333,
              "#9c179e"
             ],
             [
              0.4444444444444444,
              "#bd3786"
             ],
             [
              0.5555555555555556,
              "#d8576b"
             ],
             [
              0.6666666666666666,
              "#ed7953"
             ],
             [
              0.7777777777777778,
              "#fb9f3a"
             ],
             [
              0.8888888888888888,
              "#fdca26"
             ],
             [
              1,
              "#f0f921"
             ]
            ],
            "type": "surface"
           }
          ],
          "table": [
           {
            "cells": {
             "fill": {
              "color": "#506784"
             },
             "line": {
              "color": "rgb(17,17,17)"
             }
            },
            "header": {
             "fill": {
              "color": "#2a3f5f"
             },
             "line": {
              "color": "rgb(17,17,17)"
             }
            },
            "type": "table"
           }
          ]
         },
         "layout": {
          "annotationdefaults": {
           "arrowcolor": "#f2f5fa",
           "arrowhead": 0,
           "arrowwidth": 1
          },
          "autotypenumbers": "strict",
          "coloraxis": {
           "colorbar": {
            "outlinewidth": 0,
            "ticks": ""
           }
          },
          "colorscale": {
           "diverging": [
            [
             0,
             "#8e0152"
            ],
            [
             0.1,
             "#c51b7d"
            ],
            [
             0.2,
             "#de77ae"
            ],
            [
             0.3,
             "#f1b6da"
            ],
            [
             0.4,
             "#fde0ef"
            ],
            [
             0.5,
             "#f7f7f7"
            ],
            [
             0.6,
             "#e6f5d0"
            ],
            [
             0.7,
             "#b8e186"
            ],
            [
             0.8,
             "#7fbc41"
            ],
            [
             0.9,
             "#4d9221"
            ],
            [
             1,
             "#276419"
            ]
           ],
           "sequential": [
            [
             0,
             "#0d0887"
            ],
            [
             0.1111111111111111,
             "#46039f"
            ],
            [
             0.2222222222222222,
             "#7201a8"
            ],
            [
             0.3333333333333333,
             "#9c179e"
            ],
            [
             0.4444444444444444,
             "#bd3786"
            ],
            [
             0.5555555555555556,
             "#d8576b"
            ],
            [
             0.6666666666666666,
             "#ed7953"
            ],
            [
             0.7777777777777778,
             "#fb9f3a"
            ],
            [
             0.8888888888888888,
             "#fdca26"
            ],
            [
             1,
             "#f0f921"
            ]
           ],
           "sequentialminus": [
            [
             0,
             "#0d0887"
            ],
            [
             0.1111111111111111,
             "#46039f"
            ],
            [
             0.2222222222222222,
             "#7201a8"
            ],
            [
             0.3333333333333333,
             "#9c179e"
            ],
            [
             0.4444444444444444,
             "#bd3786"
            ],
            [
             0.5555555555555556,
             "#d8576b"
            ],
            [
             0.6666666666666666,
             "#ed7953"
            ],
            [
             0.7777777777777778,
             "#fb9f3a"
            ],
            [
             0.8888888888888888,
             "#fdca26"
            ],
            [
             1,
             "#f0f921"
            ]
           ]
          },
          "colorway": [
           "#636efa",
           "#EF553B",
           "#00cc96",
           "#ab63fa",
           "#FFA15A",
           "#19d3f3",
           "#FF6692",
           "#B6E880",
           "#FF97FF",
           "#FECB52"
          ],
          "font": {
           "color": "#f2f5fa"
          },
          "geo": {
           "bgcolor": "rgb(17,17,17)",
           "lakecolor": "rgb(17,17,17)",
           "landcolor": "rgb(17,17,17)",
           "showlakes": true,
           "showland": true,
           "subunitcolor": "#506784"
          },
          "hoverlabel": {
           "align": "left"
          },
          "hovermode": "closest",
          "mapbox": {
           "style": "dark"
          },
          "paper_bgcolor": "rgb(17,17,17)",
          "plot_bgcolor": "rgb(17,17,17)",
          "polar": {
           "angularaxis": {
            "gridcolor": "#506784",
            "linecolor": "#506784",
            "ticks": ""
           },
           "bgcolor": "rgb(17,17,17)",
           "radialaxis": {
            "gridcolor": "#506784",
            "linecolor": "#506784",
            "ticks": ""
           }
          },
          "scene": {
           "xaxis": {
            "backgroundcolor": "rgb(17,17,17)",
            "gridcolor": "#506784",
            "gridwidth": 2,
            "linecolor": "#506784",
            "showbackground": true,
            "ticks": "",
            "zerolinecolor": "#C8D4E3"
           },
           "yaxis": {
            "backgroundcolor": "rgb(17,17,17)",
            "gridcolor": "#506784",
            "gridwidth": 2,
            "linecolor": "#506784",
            "showbackground": true,
            "ticks": "",
            "zerolinecolor": "#C8D4E3"
           },
           "zaxis": {
            "backgroundcolor": "rgb(17,17,17)",
            "gridcolor": "#506784",
            "gridwidth": 2,
            "linecolor": "#506784",
            "showbackground": true,
            "ticks": "",
            "zerolinecolor": "#C8D4E3"
           }
          },
          "shapedefaults": {
           "line": {
            "color": "#f2f5fa"
           }
          },
          "sliderdefaults": {
           "bgcolor": "#C8D4E3",
           "bordercolor": "rgb(17,17,17)",
           "borderwidth": 1,
           "tickwidth": 0
          },
          "ternary": {
           "aaxis": {
            "gridcolor": "#506784",
            "linecolor": "#506784",
            "ticks": ""
           },
           "baxis": {
            "gridcolor": "#506784",
            "linecolor": "#506784",
            "ticks": ""
           },
           "bgcolor": "rgb(17,17,17)",
           "caxis": {
            "gridcolor": "#506784",
            "linecolor": "#506784",
            "ticks": ""
           }
          },
          "title": {
           "x": 0.05
          },
          "updatemenudefaults": {
           "bgcolor": "#506784",
           "borderwidth": 0
          },
          "xaxis": {
           "automargin": true,
           "gridcolor": "#283442",
           "linecolor": "#506784",
           "ticks": "",
           "title": {
            "standoff": 15
           },
           "zerolinecolor": "#283442",
           "zerolinewidth": 2
          },
          "yaxis": {
           "automargin": true,
           "gridcolor": "#283442",
           "linecolor": "#506784",
           "ticks": "",
           "title": {
            "standoff": 15
           },
           "zerolinecolor": "#283442",
           "zerolinewidth": 2
          }
         }
        },
        "title": {
         "text": "Ten States/UTs which suffered the least from temperature change in the last ten years (2011-2020)",
         "x": 0.5
        },
        "width": 1000,
        "xaxis": {
         "anchor": "y",
         "domain": [
          0,
          1
         ],
         "title": {
          "text": "States"
         }
        },
        "yaxis": {
         "anchor": "x",
         "domain": [
          0,
          1
         ],
         "title": {
          "text": "Temperature Change (°C)"
         }
        }
       }
      }
     },
     "metadata": {},
     "output_type": "display_data"
    }
   ],
   "source": [
    "# Which ten states/UTs suffered the least from temperature change in the last ten years?\n",
    "\n",
    "df_c= df[ (df.Period=='Annual') & (df.Year.between(2011,2020)) ][['States', 'temp_change']]\n",
    "df_c= df_c.groupby('States').mean().round(2).nsmallest(10, 'temp_change')\n",
    "df_c.reset_index(inplace=True)\n",
    "\n",
    "fig= px.bar(df_c, x='States', y='temp_change', text_auto='.2f', \n",
    "            title= 'Ten States/UTs which suffered the least from temperature change in the last ten years (2011-2020)',\n",
    "            color='temp_change',\n",
    "            color_continuous_scale= 'teal'\n",
    "           )\n",
    "\n",
    "fig.update_layout(\n",
    "    width=1000,\n",
    "    height= 600,\n",
    "    template='plotly_dark',\n",
    "    coloraxis_showscale=False,\n",
    "    title_x= 0.5\n",
    "\n",
    ")\n",
    "fig.update_traces(textposition='outside')\n",
    "fig.update_yaxes( title='Temperature Change (°C)')\n",
    "\n",
    "fig"
   ]
  },
  {
   "cell_type": "markdown",
   "metadata": {},
   "source": [
    "<br/><br/>"
   ]
  },
  {
   "cell_type": "markdown",
   "metadata": {},
   "source": [
    "#### A barplot showing the the effect of Global Warming on India ####"
   ]
  },
  {
   "cell_type": "code",
   "execution_count": 15,
   "metadata": {},
   "outputs": [
    {
     "data": {
      "application/vnd.plotly.v1+json": {
       "config": {
        "plotlyServerURL": "https://plot.ly"
       },
       "data": [
        {
         "alignmentgroup": "True",
         "hovertemplate": "Year=%{x}<br>temp_change=%{marker.color}<extra></extra>",
         "legendgroup": "",
         "marker": {
          "color": [
           -0.08999999999999986,
           0.16999999999999815,
           -0.39000000000000057,
           -0.33000000000000185,
           -0.4800000000000004,
           -0.240000000000002,
           -0.38000000000000256,
           -0.33999999999999986,
           -0.4299999999999997,
           -0.5500000000000007,
           -0.21000000000000085,
           -0.060000000000002274,
           -0.370000000000001,
           -0.25,
           0.14999999999999858,
           -0.23000000000000043,
           -0.8800000000000026,
           -0.2900000000000027,
           -0.25,
           -0.07000000000000028,
           0.18999999999999773,
           -0.11000000000000298,
           -0.11000000000000298,
           0.04999999999999716,
           -0.41000000000000014,
           -0.240000000000002,
           -0.33999999999999986,
           0.029999999999997584,
           -0.14000000000000057,
           -0.28000000000000114,
           0.08999999999999986,
           -0.05000000000000071,
           -0.5200000000000031,
           -0.3500000000000014,
           -0.3000000000000007,
           -0.25,
           -0.370000000000001,
           -0.19000000000000128,
           -0.15000000000000213,
           -0.1700000000000017,
           0.5599999999999987,
           0.08999999999999986,
           -0.21000000000000085,
           -0.20000000000000284,
           -0.4299999999999997,
           0.05999999999999872,
           0.14999999999999858,
           0.04999999999999716,
           -0.120000000000001,
           -0.46000000000000085,
           0.04999999999999716,
           0.2099999999999973,
           0.41999999999999815,
           -0.010000000000001563,
           -0.21000000000000085,
           -0.26000000000000156,
           -0.20000000000000284,
           0.48999999999999844,
           0.03999999999999915,
           0.029999999999997584,
           -0.33000000000000185,
           -0.26000000000000156,
           -0.11000000000000298,
           -0.10000000000000142,
           -0.020000000000003126,
           0.22999999999999687,
           -0.1700000000000017,
           -0.28000000000000114,
           0.29999999999999716,
           -0.08000000000000185,
           -0.5400000000000027,
           0.029999999999997584,
           0.14999999999999858,
           -0.08000000000000185,
           -0.38000000000000256,
           -0.05000000000000071,
           0.09999999999999787,
           -0.11000000000000298,
           0.34999999999999787,
           0.379999999999999,
           0.019999999999999574,
           0.019999999999999574,
           -0.22000000000000242,
           -0.0400000000000027,
           0.25,
           0.04999999999999716,
           0.46999999999999886,
           0.4799999999999969,
           -0.10000000000000142,
           0.019999999999999574,
           0.10999999999999943,
           -0.010000000000001563,
           0.22999999999999687,
           0.08999999999999986,
           0.23999999999999844,
           0.3099999999999987,
           -0.1700000000000017,
           0.5799999999999983,
           0.46999999999999886,
           0.35999999999999943,
           0.5299999999999976,
           0.7299999999999969,
           0.5,
           0.5899999999999999,
           0.34999999999999787,
           0.6499999999999986,
           0.6600000000000001,
           0.41000000000000014,
           1.1199999999999974,
           1.0599999999999987,
           0.46999999999999886,
           0.41999999999999815,
           0.28999999999999915,
           0.41999999999999815,
           0.5399999999999991,
           0.9199999999999982,
           0.7999999999999972,
           0.6499999999999986,
           0.5899999999999999,
           0.4499999999999993
          ],
          "coloraxis": "coloraxis",
          "pattern": {
           "shape": ""
          }
         },
         "name": "",
         "offsetgroup": "",
         "orientation": "v",
         "showlegend": false,
         "textposition": "auto",
         "type": "bar",
         "x": [
          1901,
          1902,
          1903,
          1904,
          1905,
          1906,
          1907,
          1908,
          1909,
          1910,
          1911,
          1912,
          1913,
          1914,
          1915,
          1916,
          1917,
          1918,
          1919,
          1920,
          1921,
          1922,
          1923,
          1924,
          1925,
          1926,
          1927,
          1928,
          1929,
          1930,
          1931,
          1932,
          1933,
          1934,
          1935,
          1936,
          1937,
          1938,
          1939,
          1940,
          1941,
          1942,
          1943,
          1944,
          1945,
          1946,
          1947,
          1948,
          1949,
          1950,
          1951,
          1952,
          1953,
          1954,
          1955,
          1956,
          1957,
          1958,
          1959,
          1960,
          1961,
          1962,
          1963,
          1964,
          1965,
          1966,
          1967,
          1968,
          1969,
          1970,
          1971,
          1972,
          1973,
          1974,
          1975,
          1976,
          1977,
          1978,
          1979,
          1980,
          1981,
          1982,
          1983,
          1984,
          1985,
          1986,
          1987,
          1988,
          1989,
          1990,
          1991,
          1992,
          1993,
          1994,
          1995,
          1996,
          1997,
          1998,
          1999,
          2000,
          2001,
          2002,
          2003,
          2004,
          2005,
          2006,
          2007,
          2008,
          2009,
          2010,
          2011,
          2012,
          2013,
          2014,
          2015,
          2016,
          2017,
          2018,
          2019,
          2020
         ],
         "xaxis": "x",
         "y": [
          -0.08999999999999986,
          0.16999999999999815,
          -0.39000000000000057,
          -0.33000000000000185,
          -0.4800000000000004,
          -0.240000000000002,
          -0.38000000000000256,
          -0.33999999999999986,
          -0.4299999999999997,
          -0.5500000000000007,
          -0.21000000000000085,
          -0.060000000000002274,
          -0.370000000000001,
          -0.25,
          0.14999999999999858,
          -0.23000000000000043,
          -0.8800000000000026,
          -0.2900000000000027,
          -0.25,
          -0.07000000000000028,
          0.18999999999999773,
          -0.11000000000000298,
          -0.11000000000000298,
          0.04999999999999716,
          -0.41000000000000014,
          -0.240000000000002,
          -0.33999999999999986,
          0.029999999999997584,
          -0.14000000000000057,
          -0.28000000000000114,
          0.08999999999999986,
          -0.05000000000000071,
          -0.5200000000000031,
          -0.3500000000000014,
          -0.3000000000000007,
          -0.25,
          -0.370000000000001,
          -0.19000000000000128,
          -0.15000000000000213,
          -0.1700000000000017,
          0.5599999999999987,
          0.08999999999999986,
          -0.21000000000000085,
          -0.20000000000000284,
          -0.4299999999999997,
          0.05999999999999872,
          0.14999999999999858,
          0.04999999999999716,
          -0.120000000000001,
          -0.46000000000000085,
          0.04999999999999716,
          0.2099999999999973,
          0.41999999999999815,
          -0.010000000000001563,
          -0.21000000000000085,
          -0.26000000000000156,
          -0.20000000000000284,
          0.48999999999999844,
          0.03999999999999915,
          0.029999999999997584,
          -0.33000000000000185,
          -0.26000000000000156,
          -0.11000000000000298,
          -0.10000000000000142,
          -0.020000000000003126,
          0.22999999999999687,
          -0.1700000000000017,
          -0.28000000000000114,
          0.29999999999999716,
          -0.08000000000000185,
          -0.5400000000000027,
          0.029999999999997584,
          0.14999999999999858,
          -0.08000000000000185,
          -0.38000000000000256,
          -0.05000000000000071,
          0.09999999999999787,
          -0.11000000000000298,
          0.34999999999999787,
          0.379999999999999,
          0.019999999999999574,
          0.019999999999999574,
          -0.22000000000000242,
          -0.0400000000000027,
          0.25,
          0.04999999999999716,
          0.46999999999999886,
          0.4799999999999969,
          -0.10000000000000142,
          0.019999999999999574,
          0.10999999999999943,
          -0.010000000000001563,
          0.22999999999999687,
          0.08999999999999986,
          0.23999999999999844,
          0.3099999999999987,
          -0.1700000000000017,
          0.5799999999999983,
          0.46999999999999886,
          0.35999999999999943,
          0.5299999999999976,
          0.7299999999999969,
          0.5,
          0.5899999999999999,
          0.34999999999999787,
          0.6499999999999986,
          0.6600000000000001,
          0.41000000000000014,
          1.1199999999999974,
          1.0599999999999987,
          0.46999999999999886,
          0.41999999999999815,
          0.28999999999999915,
          0.41999999999999815,
          0.5399999999999991,
          0.9199999999999982,
          0.7999999999999972,
          0.6499999999999986,
          0.5899999999999999,
          0.4499999999999993
         ],
         "yaxis": "y"
        }
       ],
       "layout": {
        "barmode": "relative",
        "coloraxis": {
         "cmax": 1.7,
         "cmin": -1,
         "colorbar": {
          "title": {
           "text": "temp_change"
          }
         },
         "colorscale": [
          [
           0,
           "rgb(234, 252, 253)"
          ],
          [
           0.09090909090909091,
           "rgb(192, 229, 232)"
          ],
          [
           0.18181818181818182,
           "rgb(149, 207, 216)"
          ],
          [
           0.2727272727272727,
           "rgb(114, 184, 205)"
          ],
          [
           0.36363636363636365,
           "rgb(89, 159, 196)"
          ],
          [
           0.45454545454545453,
           "rgb(72, 134, 187)"
          ],
          [
           0.5454545454545454,
           "rgb(62, 109, 178)"
          ],
          [
           0.6363636363636364,
           "rgb(62, 83, 160)"
          ],
          [
           0.7272727272727273,
           "rgb(58, 60, 125)"
          ],
          [
           0.8181818181818182,
           "rgb(44, 42, 87)"
          ],
          [
           0.9090909090909091,
           "rgb(25, 25, 51)"
          ],
          [
           1,
           "rgb(3, 5, 18)"
          ]
         ],
         "showscale": false
        },
        "height": 600,
        "legend": {
         "tracegroupgap": 0
        },
        "template": {
         "data": {
          "bar": [
           {
            "error_x": {
             "color": "#f2f5fa"
            },
            "error_y": {
             "color": "#f2f5fa"
            },
            "marker": {
             "line": {
              "color": "rgb(17,17,17)",
              "width": 0.5
             },
             "pattern": {
              "fillmode": "overlay",
              "size": 10,
              "solidity": 0.2
             }
            },
            "type": "bar"
           }
          ],
          "barpolar": [
           {
            "marker": {
             "line": {
              "color": "rgb(17,17,17)",
              "width": 0.5
             },
             "pattern": {
              "fillmode": "overlay",
              "size": 10,
              "solidity": 0.2
             }
            },
            "type": "barpolar"
           }
          ],
          "carpet": [
           {
            "aaxis": {
             "endlinecolor": "#A2B1C6",
             "gridcolor": "#506784",
             "linecolor": "#506784",
             "minorgridcolor": "#506784",
             "startlinecolor": "#A2B1C6"
            },
            "baxis": {
             "endlinecolor": "#A2B1C6",
             "gridcolor": "#506784",
             "linecolor": "#506784",
             "minorgridcolor": "#506784",
             "startlinecolor": "#A2B1C6"
            },
            "type": "carpet"
           }
          ],
          "choropleth": [
           {
            "colorbar": {
             "outlinewidth": 0,
             "ticks": ""
            },
            "type": "choropleth"
           }
          ],
          "contour": [
           {
            "colorbar": {
             "outlinewidth": 0,
             "ticks": ""
            },
            "colorscale": [
             [
              0,
              "#0d0887"
             ],
             [
              0.1111111111111111,
              "#46039f"
             ],
             [
              0.2222222222222222,
              "#7201a8"
             ],
             [
              0.3333333333333333,
              "#9c179e"
             ],
             [
              0.4444444444444444,
              "#bd3786"
             ],
             [
              0.5555555555555556,
              "#d8576b"
             ],
             [
              0.6666666666666666,
              "#ed7953"
             ],
             [
              0.7777777777777778,
              "#fb9f3a"
             ],
             [
              0.8888888888888888,
              "#fdca26"
             ],
             [
              1,
              "#f0f921"
             ]
            ],
            "type": "contour"
           }
          ],
          "contourcarpet": [
           {
            "colorbar": {
             "outlinewidth": 0,
             "ticks": ""
            },
            "type": "contourcarpet"
           }
          ],
          "heatmap": [
           {
            "colorbar": {
             "outlinewidth": 0,
             "ticks": ""
            },
            "colorscale": [
             [
              0,
              "#0d0887"
             ],
             [
              0.1111111111111111,
              "#46039f"
             ],
             [
              0.2222222222222222,
              "#7201a8"
             ],
             [
              0.3333333333333333,
              "#9c179e"
             ],
             [
              0.4444444444444444,
              "#bd3786"
             ],
             [
              0.5555555555555556,
              "#d8576b"
             ],
             [
              0.6666666666666666,
              "#ed7953"
             ],
             [
              0.7777777777777778,
              "#fb9f3a"
             ],
             [
              0.8888888888888888,
              "#fdca26"
             ],
             [
              1,
              "#f0f921"
             ]
            ],
            "type": "heatmap"
           }
          ],
          "heatmapgl": [
           {
            "colorbar": {
             "outlinewidth": 0,
             "ticks": ""
            },
            "colorscale": [
             [
              0,
              "#0d0887"
             ],
             [
              0.1111111111111111,
              "#46039f"
             ],
             [
              0.2222222222222222,
              "#7201a8"
             ],
             [
              0.3333333333333333,
              "#9c179e"
             ],
             [
              0.4444444444444444,
              "#bd3786"
             ],
             [
              0.5555555555555556,
              "#d8576b"
             ],
             [
              0.6666666666666666,
              "#ed7953"
             ],
             [
              0.7777777777777778,
              "#fb9f3a"
             ],
             [
              0.8888888888888888,
              "#fdca26"
             ],
             [
              1,
              "#f0f921"
             ]
            ],
            "type": "heatmapgl"
           }
          ],
          "histogram": [
           {
            "marker": {
             "pattern": {
              "fillmode": "overlay",
              "size": 10,
              "solidity": 0.2
             }
            },
            "type": "histogram"
           }
          ],
          "histogram2d": [
           {
            "colorbar": {
             "outlinewidth": 0,
             "ticks": ""
            },
            "colorscale": [
             [
              0,
              "#0d0887"
             ],
             [
              0.1111111111111111,
              "#46039f"
             ],
             [
              0.2222222222222222,
              "#7201a8"
             ],
             [
              0.3333333333333333,
              "#9c179e"
             ],
             [
              0.4444444444444444,
              "#bd3786"
             ],
             [
              0.5555555555555556,
              "#d8576b"
             ],
             [
              0.6666666666666666,
              "#ed7953"
             ],
             [
              0.7777777777777778,
              "#fb9f3a"
             ],
             [
              0.8888888888888888,
              "#fdca26"
             ],
             [
              1,
              "#f0f921"
             ]
            ],
            "type": "histogram2d"
           }
          ],
          "histogram2dcontour": [
           {
            "colorbar": {
             "outlinewidth": 0,
             "ticks": ""
            },
            "colorscale": [
             [
              0,
              "#0d0887"
             ],
             [
              0.1111111111111111,
              "#46039f"
             ],
             [
              0.2222222222222222,
              "#7201a8"
             ],
             [
              0.3333333333333333,
              "#9c179e"
             ],
             [
              0.4444444444444444,
              "#bd3786"
             ],
             [
              0.5555555555555556,
              "#d8576b"
             ],
             [
              0.6666666666666666,
              "#ed7953"
             ],
             [
              0.7777777777777778,
              "#fb9f3a"
             ],
             [
              0.8888888888888888,
              "#fdca26"
             ],
             [
              1,
              "#f0f921"
             ]
            ],
            "type": "histogram2dcontour"
           }
          ],
          "mesh3d": [
           {
            "colorbar": {
             "outlinewidth": 0,
             "ticks": ""
            },
            "type": "mesh3d"
           }
          ],
          "parcoords": [
           {
            "line": {
             "colorbar": {
              "outlinewidth": 0,
              "ticks": ""
             }
            },
            "type": "parcoords"
           }
          ],
          "pie": [
           {
            "automargin": true,
            "type": "pie"
           }
          ],
          "scatter": [
           {
            "marker": {
             "line": {
              "color": "#283442"
             }
            },
            "type": "scatter"
           }
          ],
          "scatter3d": [
           {
            "line": {
             "colorbar": {
              "outlinewidth": 0,
              "ticks": ""
             }
            },
            "marker": {
             "colorbar": {
              "outlinewidth": 0,
              "ticks": ""
             }
            },
            "type": "scatter3d"
           }
          ],
          "scattercarpet": [
           {
            "marker": {
             "colorbar": {
              "outlinewidth": 0,
              "ticks": ""
             }
            },
            "type": "scattercarpet"
           }
          ],
          "scattergeo": [
           {
            "marker": {
             "colorbar": {
              "outlinewidth": 0,
              "ticks": ""
             }
            },
            "type": "scattergeo"
           }
          ],
          "scattergl": [
           {
            "marker": {
             "line": {
              "color": "#283442"
             }
            },
            "type": "scattergl"
           }
          ],
          "scattermapbox": [
           {
            "marker": {
             "colorbar": {
              "outlinewidth": 0,
              "ticks": ""
             }
            },
            "type": "scattermapbox"
           }
          ],
          "scatterpolar": [
           {
            "marker": {
             "colorbar": {
              "outlinewidth": 0,
              "ticks": ""
             }
            },
            "type": "scatterpolar"
           }
          ],
          "scatterpolargl": [
           {
            "marker": {
             "colorbar": {
              "outlinewidth": 0,
              "ticks": ""
             }
            },
            "type": "scatterpolargl"
           }
          ],
          "scatterternary": [
           {
            "marker": {
             "colorbar": {
              "outlinewidth": 0,
              "ticks": ""
             }
            },
            "type": "scatterternary"
           }
          ],
          "surface": [
           {
            "colorbar": {
             "outlinewidth": 0,
             "ticks": ""
            },
            "colorscale": [
             [
              0,
              "#0d0887"
             ],
             [
              0.1111111111111111,
              "#46039f"
             ],
             [
              0.2222222222222222,
              "#7201a8"
             ],
             [
              0.3333333333333333,
              "#9c179e"
             ],
             [
              0.4444444444444444,
              "#bd3786"
             ],
             [
              0.5555555555555556,
              "#d8576b"
             ],
             [
              0.6666666666666666,
              "#ed7953"
             ],
             [
              0.7777777777777778,
              "#fb9f3a"
             ],
             [
              0.8888888888888888,
              "#fdca26"
             ],
             [
              1,
              "#f0f921"
             ]
            ],
            "type": "surface"
           }
          ],
          "table": [
           {
            "cells": {
             "fill": {
              "color": "#506784"
             },
             "line": {
              "color": "rgb(17,17,17)"
             }
            },
            "header": {
             "fill": {
              "color": "#2a3f5f"
             },
             "line": {
              "color": "rgb(17,17,17)"
             }
            },
            "type": "table"
           }
          ]
         },
         "layout": {
          "annotationdefaults": {
           "arrowcolor": "#f2f5fa",
           "arrowhead": 0,
           "arrowwidth": 1
          },
          "autotypenumbers": "strict",
          "coloraxis": {
           "colorbar": {
            "outlinewidth": 0,
            "ticks": ""
           }
          },
          "colorscale": {
           "diverging": [
            [
             0,
             "#8e0152"
            ],
            [
             0.1,
             "#c51b7d"
            ],
            [
             0.2,
             "#de77ae"
            ],
            [
             0.3,
             "#f1b6da"
            ],
            [
             0.4,
             "#fde0ef"
            ],
            [
             0.5,
             "#f7f7f7"
            ],
            [
             0.6,
             "#e6f5d0"
            ],
            [
             0.7,
             "#b8e186"
            ],
            [
             0.8,
             "#7fbc41"
            ],
            [
             0.9,
             "#4d9221"
            ],
            [
             1,
             "#276419"
            ]
           ],
           "sequential": [
            [
             0,
             "#0d0887"
            ],
            [
             0.1111111111111111,
             "#46039f"
            ],
            [
             0.2222222222222222,
             "#7201a8"
            ],
            [
             0.3333333333333333,
             "#9c179e"
            ],
            [
             0.4444444444444444,
             "#bd3786"
            ],
            [
             0.5555555555555556,
             "#d8576b"
            ],
            [
             0.6666666666666666,
             "#ed7953"
            ],
            [
             0.7777777777777778,
             "#fb9f3a"
            ],
            [
             0.8888888888888888,
             "#fdca26"
            ],
            [
             1,
             "#f0f921"
            ]
           ],
           "sequentialminus": [
            [
             0,
             "#0d0887"
            ],
            [
             0.1111111111111111,
             "#46039f"
            ],
            [
             0.2222222222222222,
             "#7201a8"
            ],
            [
             0.3333333333333333,
             "#9c179e"
            ],
            [
             0.4444444444444444,
             "#bd3786"
            ],
            [
             0.5555555555555556,
             "#d8576b"
            ],
            [
             0.6666666666666666,
             "#ed7953"
            ],
            [
             0.7777777777777778,
             "#fb9f3a"
            ],
            [
             0.8888888888888888,
             "#fdca26"
            ],
            [
             1,
             "#f0f921"
            ]
           ]
          },
          "colorway": [
           "#636efa",
           "#EF553B",
           "#00cc96",
           "#ab63fa",
           "#FFA15A",
           "#19d3f3",
           "#FF6692",
           "#B6E880",
           "#FF97FF",
           "#FECB52"
          ],
          "font": {
           "color": "#f2f5fa"
          },
          "geo": {
           "bgcolor": "rgb(17,17,17)",
           "lakecolor": "rgb(17,17,17)",
           "landcolor": "rgb(17,17,17)",
           "showlakes": true,
           "showland": true,
           "subunitcolor": "#506784"
          },
          "hoverlabel": {
           "align": "left"
          },
          "hovermode": "closest",
          "mapbox": {
           "style": "dark"
          },
          "paper_bgcolor": "rgb(17,17,17)",
          "plot_bgcolor": "rgb(17,17,17)",
          "polar": {
           "angularaxis": {
            "gridcolor": "#506784",
            "linecolor": "#506784",
            "ticks": ""
           },
           "bgcolor": "rgb(17,17,17)",
           "radialaxis": {
            "gridcolor": "#506784",
            "linecolor": "#506784",
            "ticks": ""
           }
          },
          "scene": {
           "xaxis": {
            "backgroundcolor": "rgb(17,17,17)",
            "gridcolor": "#506784",
            "gridwidth": 2,
            "linecolor": "#506784",
            "showbackground": true,
            "ticks": "",
            "zerolinecolor": "#C8D4E3"
           },
           "yaxis": {
            "backgroundcolor": "rgb(17,17,17)",
            "gridcolor": "#506784",
            "gridwidth": 2,
            "linecolor": "#506784",
            "showbackground": true,
            "ticks": "",
            "zerolinecolor": "#C8D4E3"
           },
           "zaxis": {
            "backgroundcolor": "rgb(17,17,17)",
            "gridcolor": "#506784",
            "gridwidth": 2,
            "linecolor": "#506784",
            "showbackground": true,
            "ticks": "",
            "zerolinecolor": "#C8D4E3"
           }
          },
          "shapedefaults": {
           "line": {
            "color": "#f2f5fa"
           }
          },
          "sliderdefaults": {
           "bgcolor": "#C8D4E3",
           "bordercolor": "rgb(17,17,17)",
           "borderwidth": 1,
           "tickwidth": 0
          },
          "ternary": {
           "aaxis": {
            "gridcolor": "#506784",
            "linecolor": "#506784",
            "ticks": ""
           },
           "baxis": {
            "gridcolor": "#506784",
            "linecolor": "#506784",
            "ticks": ""
           },
           "bgcolor": "rgb(17,17,17)",
           "caxis": {
            "gridcolor": "#506784",
            "linecolor": "#506784",
            "ticks": ""
           }
          },
          "title": {
           "x": 0.05
          },
          "updatemenudefaults": {
           "bgcolor": "#506784",
           "borderwidth": 0
          },
          "xaxis": {
           "automargin": true,
           "gridcolor": "#283442",
           "linecolor": "#506784",
           "ticks": "",
           "title": {
            "standoff": 15
           },
           "zerolinecolor": "#283442",
           "zerolinewidth": 2
          },
          "yaxis": {
           "automargin": true,
           "gridcolor": "#283442",
           "linecolor": "#506784",
           "ticks": "",
           "title": {
            "standoff": 15
           },
           "zerolinecolor": "#283442",
           "zerolinewidth": 2
          }
         }
        },
        "title": {
         "text": "Temperature change in India (1901-2020)",
         "x": 0.5
        },
        "width": 1000,
        "xaxis": {
         "anchor": "y",
         "domain": [
          0,
          1
         ],
         "dtick": 10,
         "tick0": 1901,
         "tickmode": "linear",
         "title": {
          "text": "Year"
         }
        },
        "yaxis": {
         "anchor": "x",
         "domain": [
          0,
          1
         ],
         "title": {
          "text": "Temperature Change (°C)"
         }
        }
       }
      }
     },
     "metadata": {},
     "output_type": "display_data"
    }
   ],
   "source": [
    "# Temperature change trend in India\n",
    "fig= px.bar(df[(df.States=='India') & (df.Period=='Annual')],\n",
    "            x= 'Year',\n",
    "            y='temp_change',\n",
    "            title= 'Temperature change in India (1901-2020)',\n",
    "            color='temp_change',\n",
    "            color_continuous_scale= 'ice_r',\n",
    "            range_color=[-1,1.7]\n",
    "           )\n",
    "\n",
    "fig.update_layout(\n",
    "    width=1000,\n",
    "    height= 600,\n",
    "    template='plotly_dark',\n",
    "    coloraxis_showscale=False,\n",
    "    title_x= 0.5\n",
    ")\n",
    "\n",
    "fig.update_xaxes( tickmode='linear',tick0=1901, dtick=10)\n",
    "fig.update_yaxes( title='Temperature Change (°C)')\n",
    "\n",
    "fig"
   ]
  },
  {
   "cell_type": "markdown",
   "metadata": {},
   "source": [
    "<br/><br/>"
   ]
  },
  {
   "cell_type": "markdown",
   "metadata": {},
   "source": [
    "#### Season Wise Temperature Change in India through the Years ####"
   ]
  },
  {
   "cell_type": "code",
   "execution_count": 16,
   "metadata": {},
   "outputs": [
    {
     "data": {
      "application/vnd.plotly.v1+json": {
       "config": {
        "plotlyServerURL": "https://plot.ly"
       },
       "data": [
        {
         "mode": "lines",
         "name": "Winter",
         "type": "scatter",
         "x": [
          1961,
          1962,
          1963,
          1964,
          1965,
          1966,
          1967,
          1968,
          1969,
          1970,
          1971,
          1972,
          1973,
          1974,
          1975,
          1976,
          1977,
          1978,
          1979,
          1980,
          1981,
          1982,
          1983,
          1984,
          1985,
          1986,
          1987,
          1988,
          1989,
          1990,
          1991,
          1992,
          1993,
          1994,
          1995,
          1996,
          1997,
          1998,
          1999,
          2000,
          2001,
          2002,
          2003,
          2004,
          2005,
          2006,
          2007,
          2008,
          2009,
          2010,
          2011,
          2012,
          2013,
          2014,
          2015,
          2016,
          2017,
          2018,
          2019,
          2020
         ],
         "y": [
          -0.3500000000000014,
          -0.5500000000000007,
          0.07000000000000028,
          -0.2900000000000027,
          0.3299999999999983,
          0.9499999999999993,
          0.23999999999999844,
          -0.9400000000000013,
          0.18999999999999773,
          0.14000000000000057,
          -0.3200000000000003,
          -0.8500000000000014,
          0.6600000000000001,
          -0.620000000000001,
          -0.6400000000000006,
          -0.07000000000000028,
          0.05999999999999872,
          -0.5600000000000023,
          0.019999999999999574,
          0.6099999999999994,
          0.21999999999999886,
          0.16999999999999815,
          -0.33999999999999986,
          -0.620000000000001,
          0.36999999999999744,
          0.019999999999999574,
          0.48999999999999844,
          1.259999999999998,
          -0.35999999999999943,
          0.8200000000000003,
          0.21999999999999886,
          -0.4299999999999997,
          0.6099999999999994,
          0.36999999999999744,
          -0.25,
          0.75,
          -0.4200000000000017,
          0.5,
          0.5899999999999999,
          0.16999999999999815,
          0.8599999999999994,
          0.5899999999999999,
          0.6699999999999982,
          0.4399999999999977,
          0.4499999999999993,
          1.6199999999999974,
          0.8499999999999979,
          -0.05000000000000071,
          1.9699999999999989,
          0.8599999999999994,
          0.23000000000000043,
          -0.07000000000000028,
          0.29999999999999716,
          0.11999999999999744,
          0.4599999999999973,
          1.3900000000000006,
          1.0299999999999976,
          1.0799999999999983,
          0.23000000000000043,
          0.259999999999998
         ]
        },
        {
         "mode": "markers",
         "name": "Summer",
         "type": "scatter",
         "x": [
          1961,
          1962,
          1963,
          1964,
          1965,
          1966,
          1967,
          1968,
          1969,
          1970,
          1971,
          1972,
          1973,
          1974,
          1975,
          1976,
          1977,
          1978,
          1979,
          1980,
          1981,
          1982,
          1983,
          1984,
          1985,
          1986,
          1987,
          1988,
          1989,
          1990,
          1991,
          1992,
          1993,
          1994,
          1995,
          1996,
          1997,
          1998,
          1999,
          2000,
          2001,
          2002,
          2003,
          2004,
          2005,
          2006,
          2007,
          2008,
          2009,
          2010,
          2011,
          2012,
          2013,
          2014,
          2015,
          2016,
          2017,
          2018,
          2019,
          2020
         ],
         "y": [
          0.28000000000000114,
          -0.21999999999999886,
          -0.6799999999999997,
          0.46000000000000085,
          -0.6699999999999982,
          0.05000000000000071,
          -0.5599999999999987,
          -0.5599999999999987,
          0.490000000000002,
          0.38000000000000256,
          -0.4299999999999997,
          0.0400000000000027,
          0.7600000000000016,
          0.4200000000000017,
          0.13000000000000256,
          -0.25,
          0.060000000000002274,
          -0.07000000000000028,
          -0.2099999999999973,
          0.740000000000002,
          -0.09999999999999787,
          -0.8599999999999994,
          -0.6699999999999982,
          0.75,
          0.860000000000003,
          -0.05999999999999872,
          -0.13999999999999702,
          0.6500000000000021,
          -0.05999999999999872,
          -0.4499999999999993,
          0.19000000000000128,
          -0.03999999999999915,
          -0.25,
          0.4299999999999997,
          -0.21999999999999886,
          0.6300000000000026,
          -0.5899999999999999,
          0.4200000000000017,
          0.7600000000000016,
          0.38000000000000256,
          0.39000000000000057,
          1.0600000000000023,
          0.5100000000000016,
          1.2000000000000028,
          0.21000000000000085,
          0.22000000000000242,
          0.7699999999999996,
          0.5199999999999996,
          1.0600000000000023,
          1.9600000000000009,
          0.40000000000000213,
          0.5500000000000007,
          0.6400000000000006,
          -0.029999999999997584,
          0.060000000000002274,
          1.2600000000000016,
          0.9299999999999997,
          0.9100000000000001,
          0.6700000000000017,
          0.11000000000000298
         ]
        },
        {
         "mode": "lines",
         "name": "Monsoon",
         "type": "scatter",
         "x": [
          1961,
          1962,
          1963,
          1964,
          1965,
          1966,
          1967,
          1968,
          1969,
          1970,
          1971,
          1972,
          1973,
          1974,
          1975,
          1976,
          1977,
          1978,
          1979,
          1980,
          1981,
          1982,
          1983,
          1984,
          1985,
          1986,
          1987,
          1988,
          1989,
          1990,
          1991,
          1992,
          1993,
          1994,
          1995,
          1996,
          1997,
          1998,
          1999,
          2000,
          2001,
          2002,
          2003,
          2004,
          2005,
          2006,
          2007,
          2008,
          2009,
          2010,
          2011,
          2012,
          2013,
          2014,
          2015,
          2016,
          2017,
          2018,
          2019,
          2020
         ],
         "y": [
          -0.2799999999999976,
          0.019999999999999574,
          -0.05999999999999872,
          -0.23000000000000043,
          0.10000000000000142,
          0.1700000000000017,
          -0.08999999999999986,
          0.15000000000000213,
          0.060000000000002274,
          -0.2699999999999996,
          -0.6600000000000001,
          0.40000000000000213,
          -0.019999999999999574,
          0.14000000000000057,
          -0.46000000000000085,
          -0.379999999999999,
          -0.18999999999999773,
          -0.3000000000000007,
          0.490000000000002,
          -0.03999999999999915,
          0.22000000000000242,
          0.35999999999999943,
          0.39000000000000057,
          -0.28999999999999915,
          -0.05999999999999872,
          0.03999999999999915,
          0.8599999999999994,
          0.19000000000000128,
          -0.14999999999999858,
          -0.17999999999999972,
          0.10000000000000142,
          0.1700000000000017,
          0.3100000000000023,
          -0.1999999999999993,
          0.620000000000001,
          0.10999999999999943,
          0.14000000000000057,
          0.6999999999999993,
          0.060000000000002274,
          0.019999999999999574,
          0.08999999999999986,
          0.41000000000000014,
          0.370000000000001,
          0.2699999999999996,
          0.5899999999999999,
          0.23000000000000043,
          0.4800000000000004,
          -0.05999999999999872,
          0.9299999999999997,
          0.5600000000000023,
          0.22000000000000242,
          0.5600000000000023,
          -0.00999999999999801,
          0.8300000000000018,
          0.4700000000000024,
          0.5100000000000016,
          0.4800000000000004,
          0.3000000000000007,
          0.8000000000000007,
          0.5700000000000003
         ]
        },
        {
         "mode": "markers",
         "name": "Post Monsoon",
         "type": "scatter",
         "x": [
          1961,
          1962,
          1963,
          1964,
          1965,
          1966,
          1967,
          1968,
          1969,
          1970,
          1971,
          1972,
          1973,
          1974,
          1975,
          1976,
          1977,
          1978,
          1979,
          1980,
          1981,
          1982,
          1983,
          1984,
          1985,
          1986,
          1987,
          1988,
          1989,
          1990,
          1991,
          1992,
          1993,
          1994,
          1995,
          1996,
          1997,
          1998,
          1999,
          2000,
          2001,
          2002,
          2003,
          2004,
          2005,
          2006,
          2007,
          2008,
          2009,
          2010,
          2011,
          2012,
          2013,
          2014,
          2015,
          2016,
          2017,
          2018,
          2019,
          2020
         ],
         "y": [
          -0.990000000000002,
          -0.490000000000002,
          0.2799999999999976,
          -0.370000000000001,
          0.23999999999999844,
          0.019999999999999574,
          -0.1700000000000017,
          -0.16000000000000014,
          0.5,
          -0.4400000000000013,
          -0.6300000000000026,
          0.09999999999999787,
          -0.5500000000000007,
          -0.5200000000000031,
          -0.620000000000001,
          0.6199999999999974,
          0.5499999999999972,
          0.389999999999997,
          0.9499999999999993,
          0.4299999999999997,
          -0.26000000000000156,
          0.34999999999999787,
          -0.5200000000000031,
          -0.10000000000000142,
          -0.020000000000003126,
          0.1999999999999993,
          0.5700000000000003,
          0.16999999999999815,
          0.10999999999999943,
          0.22999999999999687,
          -0.0400000000000027,
          0.07000000000000028,
          0.34999999999999787,
          -0.0400000000000027,
          0.5199999999999996,
          -0.05000000000000071,
          -0.010000000000001563,
          0.639999999999997,
          0.629999999999999,
          0.9100000000000001,
          1.009999999999998,
          0.9100000000000001,
          0.5499999999999972,
          0.5,
          0.09999999999999787,
          1,
          0.6699999999999982,
          1.2199999999999989,
          0.8699999999999974,
          0.9399999999999977,
          1.0199999999999996,
          0.4399999999999977,
          0.3299999999999983,
          0.5299999999999976,
          1.1799999999999997,
          0.8299999999999983,
          0.9299999999999997,
          0.5700000000000003,
          0.4399999999999977,
          0.7299999999999969
         ]
        }
       ],
       "layout": {
        "annotations": [
         {
          "align": "center",
          "arrowcolor": "#636363",
          "arrowhead": 2,
          "arrowsize": 1,
          "arrowwidth": 2,
          "ax": -20,
          "ay": 10,
          "bgcolor": "#ff7f0e",
          "bordercolor": "#c7c7c7",
          "borderpad": 4,
          "borderwidth": 2,
          "font": {
           "color": "#ffffff",
           "family": "Courier New, monospace",
           "size": 16
          },
          "opacity": 1,
          "showarrow": true,
          "text": "Hottest Winter (2009, 1.97)",
          "x": 48,
          "xanchor": "right",
          "xref": "x",
          "y": 1.97,
          "yref": "y"
         },
         {
          "align": "center",
          "arrowcolor": "#636363",
          "arrowhead": 2,
          "arrowsize": 1,
          "arrowwidth": 2,
          "ax": -15,
          "ay": -30,
          "bgcolor": "#ff7f0e",
          "bordercolor": "#c7c7c7",
          "borderpad": 4,
          "borderwidth": 2,
          "font": {
           "color": "#ffffff",
           "family": "Courier New, monospace",
           "size": 16
          },
          "opacity": 1,
          "showarrow": true,
          "text": "Hottest Summer (2010, 1.96)",
          "x": 49,
          "xanchor": "center",
          "xref": "x",
          "y": 1.96,
          "yref": "y"
         }
        ],
        "height": 600,
        "legend": {
         "orientation": "h",
         "x": 1,
         "xanchor": "right",
         "y": 1.02,
         "yanchor": "bottom"
        },
        "paper_bgcolor": "rgb(234, 234, 242)",
        "template": {
         "data": {
          "bar": [
           {
            "error_x": {
             "color": "rgb(36,36,36)"
            },
            "error_y": {
             "color": "rgb(36,36,36)"
            },
            "marker": {
             "line": {
              "color": "rgb(234,234,242)",
              "width": 0.5
             },
             "pattern": {
              "fillmode": "overlay",
              "size": 10,
              "solidity": 0.2
             }
            },
            "type": "bar"
           }
          ],
          "barpolar": [
           {
            "marker": {
             "line": {
              "color": "rgb(234,234,242)",
              "width": 0.5
             },
             "pattern": {
              "fillmode": "overlay",
              "size": 10,
              "solidity": 0.2
             }
            },
            "type": "barpolar"
           }
          ],
          "carpet": [
           {
            "aaxis": {
             "endlinecolor": "rgb(36,36,36)",
             "gridcolor": "white",
             "linecolor": "white",
             "minorgridcolor": "white",
             "startlinecolor": "rgb(36,36,36)"
            },
            "baxis": {
             "endlinecolor": "rgb(36,36,36)",
             "gridcolor": "white",
             "linecolor": "white",
             "minorgridcolor": "white",
             "startlinecolor": "rgb(36,36,36)"
            },
            "type": "carpet"
           }
          ],
          "choropleth": [
           {
            "colorbar": {
             "outlinewidth": 0,
             "tickcolor": "rgb(36,36,36)",
             "ticklen": 8,
             "ticks": "outside",
             "tickwidth": 2
            },
            "type": "choropleth"
           }
          ],
          "contour": [
           {
            "colorbar": {
             "outlinewidth": 0,
             "tickcolor": "rgb(36,36,36)",
             "ticklen": 8,
             "ticks": "outside",
             "tickwidth": 2
            },
            "colorscale": [
             [
              0,
              "rgb(2,4,25)"
             ],
             [
              0.06274509803921569,
              "rgb(24,15,41)"
             ],
             [
              0.12549019607843137,
              "rgb(47,23,57)"
             ],
             [
              0.18823529411764706,
              "rgb(71,28,72)"
             ],
             [
              0.25098039215686274,
              "rgb(97,30,82)"
             ],
             [
              0.3137254901960784,
              "rgb(123,30,89)"
             ],
             [
              0.3764705882352941,
              "rgb(150,27,91)"
             ],
             [
              0.4392156862745098,
              "rgb(177,22,88)"
             ],
             [
              0.5019607843137255,
              "rgb(203,26,79)"
             ],
             [
              0.5647058823529412,
              "rgb(223,47,67)"
             ],
             [
              0.6274509803921569,
              "rgb(236,76,61)"
             ],
             [
              0.6901960784313725,
              "rgb(242,107,73)"
             ],
             [
              0.7529411764705882,
              "rgb(244,135,95)"
             ],
             [
              0.8156862745098039,
              "rgb(245,162,122)"
             ],
             [
              0.8784313725490196,
              "rgb(246,188,153)"
             ],
             [
              0.9411764705882353,
              "rgb(247,212,187)"
             ],
             [
              1,
              "rgb(250,234,220)"
             ]
            ],
            "type": "contour"
           }
          ],
          "contourcarpet": [
           {
            "colorbar": {
             "outlinewidth": 0,
             "tickcolor": "rgb(36,36,36)",
             "ticklen": 8,
             "ticks": "outside",
             "tickwidth": 2
            },
            "type": "contourcarpet"
           }
          ],
          "heatmap": [
           {
            "colorbar": {
             "outlinewidth": 0,
             "tickcolor": "rgb(36,36,36)",
             "ticklen": 8,
             "ticks": "outside",
             "tickwidth": 2
            },
            "colorscale": [
             [
              0,
              "rgb(2,4,25)"
             ],
             [
              0.06274509803921569,
              "rgb(24,15,41)"
             ],
             [
              0.12549019607843137,
              "rgb(47,23,57)"
             ],
             [
              0.18823529411764706,
              "rgb(71,28,72)"
             ],
             [
              0.25098039215686274,
              "rgb(97,30,82)"
             ],
             [
              0.3137254901960784,
              "rgb(123,30,89)"
             ],
             [
              0.3764705882352941,
              "rgb(150,27,91)"
             ],
             [
              0.4392156862745098,
              "rgb(177,22,88)"
             ],
             [
              0.5019607843137255,
              "rgb(203,26,79)"
             ],
             [
              0.5647058823529412,
              "rgb(223,47,67)"
             ],
             [
              0.6274509803921569,
              "rgb(236,76,61)"
             ],
             [
              0.6901960784313725,
              "rgb(242,107,73)"
             ],
             [
              0.7529411764705882,
              "rgb(244,135,95)"
             ],
             [
              0.8156862745098039,
              "rgb(245,162,122)"
             ],
             [
              0.8784313725490196,
              "rgb(246,188,153)"
             ],
             [
              0.9411764705882353,
              "rgb(247,212,187)"
             ],
             [
              1,
              "rgb(250,234,220)"
             ]
            ],
            "type": "heatmap"
           }
          ],
          "heatmapgl": [
           {
            "colorbar": {
             "outlinewidth": 0,
             "tickcolor": "rgb(36,36,36)",
             "ticklen": 8,
             "ticks": "outside",
             "tickwidth": 2
            },
            "colorscale": [
             [
              0,
              "rgb(2,4,25)"
             ],
             [
              0.06274509803921569,
              "rgb(24,15,41)"
             ],
             [
              0.12549019607843137,
              "rgb(47,23,57)"
             ],
             [
              0.18823529411764706,
              "rgb(71,28,72)"
             ],
             [
              0.25098039215686274,
              "rgb(97,30,82)"
             ],
             [
              0.3137254901960784,
              "rgb(123,30,89)"
             ],
             [
              0.3764705882352941,
              "rgb(150,27,91)"
             ],
             [
              0.4392156862745098,
              "rgb(177,22,88)"
             ],
             [
              0.5019607843137255,
              "rgb(203,26,79)"
             ],
             [
              0.5647058823529412,
              "rgb(223,47,67)"
             ],
             [
              0.6274509803921569,
              "rgb(236,76,61)"
             ],
             [
              0.6901960784313725,
              "rgb(242,107,73)"
             ],
             [
              0.7529411764705882,
              "rgb(244,135,95)"
             ],
             [
              0.8156862745098039,
              "rgb(245,162,122)"
             ],
             [
              0.8784313725490196,
              "rgb(246,188,153)"
             ],
             [
              0.9411764705882353,
              "rgb(247,212,187)"
             ],
             [
              1,
              "rgb(250,234,220)"
             ]
            ],
            "type": "heatmapgl"
           }
          ],
          "histogram": [
           {
            "marker": {
             "pattern": {
              "fillmode": "overlay",
              "size": 10,
              "solidity": 0.2
             }
            },
            "type": "histogram"
           }
          ],
          "histogram2d": [
           {
            "colorbar": {
             "outlinewidth": 0,
             "tickcolor": "rgb(36,36,36)",
             "ticklen": 8,
             "ticks": "outside",
             "tickwidth": 2
            },
            "colorscale": [
             [
              0,
              "rgb(2,4,25)"
             ],
             [
              0.06274509803921569,
              "rgb(24,15,41)"
             ],
             [
              0.12549019607843137,
              "rgb(47,23,57)"
             ],
             [
              0.18823529411764706,
              "rgb(71,28,72)"
             ],
             [
              0.25098039215686274,
              "rgb(97,30,82)"
             ],
             [
              0.3137254901960784,
              "rgb(123,30,89)"
             ],
             [
              0.3764705882352941,
              "rgb(150,27,91)"
             ],
             [
              0.4392156862745098,
              "rgb(177,22,88)"
             ],
             [
              0.5019607843137255,
              "rgb(203,26,79)"
             ],
             [
              0.5647058823529412,
              "rgb(223,47,67)"
             ],
             [
              0.6274509803921569,
              "rgb(236,76,61)"
             ],
             [
              0.6901960784313725,
              "rgb(242,107,73)"
             ],
             [
              0.7529411764705882,
              "rgb(244,135,95)"
             ],
             [
              0.8156862745098039,
              "rgb(245,162,122)"
             ],
             [
              0.8784313725490196,
              "rgb(246,188,153)"
             ],
             [
              0.9411764705882353,
              "rgb(247,212,187)"
             ],
             [
              1,
              "rgb(250,234,220)"
             ]
            ],
            "type": "histogram2d"
           }
          ],
          "histogram2dcontour": [
           {
            "colorbar": {
             "outlinewidth": 0,
             "tickcolor": "rgb(36,36,36)",
             "ticklen": 8,
             "ticks": "outside",
             "tickwidth": 2
            },
            "colorscale": [
             [
              0,
              "rgb(2,4,25)"
             ],
             [
              0.06274509803921569,
              "rgb(24,15,41)"
             ],
             [
              0.12549019607843137,
              "rgb(47,23,57)"
             ],
             [
              0.18823529411764706,
              "rgb(71,28,72)"
             ],
             [
              0.25098039215686274,
              "rgb(97,30,82)"
             ],
             [
              0.3137254901960784,
              "rgb(123,30,89)"
             ],
             [
              0.3764705882352941,
              "rgb(150,27,91)"
             ],
             [
              0.4392156862745098,
              "rgb(177,22,88)"
             ],
             [
              0.5019607843137255,
              "rgb(203,26,79)"
             ],
             [
              0.5647058823529412,
              "rgb(223,47,67)"
             ],
             [
              0.6274509803921569,
              "rgb(236,76,61)"
             ],
             [
              0.6901960784313725,
              "rgb(242,107,73)"
             ],
             [
              0.7529411764705882,
              "rgb(244,135,95)"
             ],
             [
              0.8156862745098039,
              "rgb(245,162,122)"
             ],
             [
              0.8784313725490196,
              "rgb(246,188,153)"
             ],
             [
              0.9411764705882353,
              "rgb(247,212,187)"
             ],
             [
              1,
              "rgb(250,234,220)"
             ]
            ],
            "type": "histogram2dcontour"
           }
          ],
          "mesh3d": [
           {
            "colorbar": {
             "outlinewidth": 0,
             "tickcolor": "rgb(36,36,36)",
             "ticklen": 8,
             "ticks": "outside",
             "tickwidth": 2
            },
            "type": "mesh3d"
           }
          ],
          "parcoords": [
           {
            "line": {
             "colorbar": {
              "outlinewidth": 0,
              "tickcolor": "rgb(36,36,36)",
              "ticklen": 8,
              "ticks": "outside",
              "tickwidth": 2
             }
            },
            "type": "parcoords"
           }
          ],
          "pie": [
           {
            "automargin": true,
            "type": "pie"
           }
          ],
          "scatter": [
           {
            "fillpattern": {
             "fillmode": "overlay",
             "size": 10,
             "solidity": 0.2
            },
            "type": "scatter"
           }
          ],
          "scatter3d": [
           {
            "line": {
             "colorbar": {
              "outlinewidth": 0,
              "tickcolor": "rgb(36,36,36)",
              "ticklen": 8,
              "ticks": "outside",
              "tickwidth": 2
             }
            },
            "marker": {
             "colorbar": {
              "outlinewidth": 0,
              "tickcolor": "rgb(36,36,36)",
              "ticklen": 8,
              "ticks": "outside",
              "tickwidth": 2
             }
            },
            "type": "scatter3d"
           }
          ],
          "scattercarpet": [
           {
            "marker": {
             "colorbar": {
              "outlinewidth": 0,
              "tickcolor": "rgb(36,36,36)",
              "ticklen": 8,
              "ticks": "outside",
              "tickwidth": 2
             }
            },
            "type": "scattercarpet"
           }
          ],
          "scattergeo": [
           {
            "marker": {
             "colorbar": {
              "outlinewidth": 0,
              "tickcolor": "rgb(36,36,36)",
              "ticklen": 8,
              "ticks": "outside",
              "tickwidth": 2
             }
            },
            "type": "scattergeo"
           }
          ],
          "scattergl": [
           {
            "marker": {
             "colorbar": {
              "outlinewidth": 0,
              "tickcolor": "rgb(36,36,36)",
              "ticklen": 8,
              "ticks": "outside",
              "tickwidth": 2
             }
            },
            "type": "scattergl"
           }
          ],
          "scattermapbox": [
           {
            "marker": {
             "colorbar": {
              "outlinewidth": 0,
              "tickcolor": "rgb(36,36,36)",
              "ticklen": 8,
              "ticks": "outside",
              "tickwidth": 2
             }
            },
            "type": "scattermapbox"
           }
          ],
          "scatterpolar": [
           {
            "marker": {
             "colorbar": {
              "outlinewidth": 0,
              "tickcolor": "rgb(36,36,36)",
              "ticklen": 8,
              "ticks": "outside",
              "tickwidth": 2
             }
            },
            "type": "scatterpolar"
           }
          ],
          "scatterpolargl": [
           {
            "marker": {
             "colorbar": {
              "outlinewidth": 0,
              "tickcolor": "rgb(36,36,36)",
              "ticklen": 8,
              "ticks": "outside",
              "tickwidth": 2
             }
            },
            "type": "scatterpolargl"
           }
          ],
          "scatterternary": [
           {
            "marker": {
             "colorbar": {
              "outlinewidth": 0,
              "tickcolor": "rgb(36,36,36)",
              "ticklen": 8,
              "ticks": "outside",
              "tickwidth": 2
             }
            },
            "type": "scatterternary"
           }
          ],
          "surface": [
           {
            "colorbar": {
             "outlinewidth": 0,
             "tickcolor": "rgb(36,36,36)",
             "ticklen": 8,
             "ticks": "outside",
             "tickwidth": 2
            },
            "colorscale": [
             [
              0,
              "rgb(2,4,25)"
             ],
             [
              0.06274509803921569,
              "rgb(24,15,41)"
             ],
             [
              0.12549019607843137,
              "rgb(47,23,57)"
             ],
             [
              0.18823529411764706,
              "rgb(71,28,72)"
             ],
             [
              0.25098039215686274,
              "rgb(97,30,82)"
             ],
             [
              0.3137254901960784,
              "rgb(123,30,89)"
             ],
             [
              0.3764705882352941,
              "rgb(150,27,91)"
             ],
             [
              0.4392156862745098,
              "rgb(177,22,88)"
             ],
             [
              0.5019607843137255,
              "rgb(203,26,79)"
             ],
             [
              0.5647058823529412,
              "rgb(223,47,67)"
             ],
             [
              0.6274509803921569,
              "rgb(236,76,61)"
             ],
             [
              0.6901960784313725,
              "rgb(242,107,73)"
             ],
             [
              0.7529411764705882,
              "rgb(244,135,95)"
             ],
             [
              0.8156862745098039,
              "rgb(245,162,122)"
             ],
             [
              0.8784313725490196,
              "rgb(246,188,153)"
             ],
             [
              0.9411764705882353,
              "rgb(247,212,187)"
             ],
             [
              1,
              "rgb(250,234,220)"
             ]
            ],
            "type": "surface"
           }
          ],
          "table": [
           {
            "cells": {
             "fill": {
              "color": "rgb(231,231,240)"
             },
             "line": {
              "color": "white"
             }
            },
            "header": {
             "fill": {
              "color": "rgb(183,183,191)"
             },
             "line": {
              "color": "white"
             }
            },
            "type": "table"
           }
          ]
         },
         "layout": {
          "annotationdefaults": {
           "arrowcolor": "rgb(67,103,167)"
          },
          "autotypenumbers": "strict",
          "coloraxis": {
           "colorbar": {
            "outlinewidth": 0,
            "tickcolor": "rgb(36,36,36)",
            "ticklen": 8,
            "ticks": "outside",
            "tickwidth": 2
           }
          },
          "colorscale": {
           "sequential": [
            [
             0,
             "rgb(2,4,25)"
            ],
            [
             0.06274509803921569,
             "rgb(24,15,41)"
            ],
            [
             0.12549019607843137,
             "rgb(47,23,57)"
            ],
            [
             0.18823529411764706,
             "rgb(71,28,72)"
            ],
            [
             0.25098039215686274,
             "rgb(97,30,82)"
            ],
            [
             0.3137254901960784,
             "rgb(123,30,89)"
            ],
            [
             0.3764705882352941,
             "rgb(150,27,91)"
            ],
            [
             0.4392156862745098,
             "rgb(177,22,88)"
            ],
            [
             0.5019607843137255,
             "rgb(203,26,79)"
            ],
            [
             0.5647058823529412,
             "rgb(223,47,67)"
            ],
            [
             0.6274509803921569,
             "rgb(236,76,61)"
            ],
            [
             0.6901960784313725,
             "rgb(242,107,73)"
            ],
            [
             0.7529411764705882,
             "rgb(244,135,95)"
            ],
            [
             0.8156862745098039,
             "rgb(245,162,122)"
            ],
            [
             0.8784313725490196,
             "rgb(246,188,153)"
            ],
            [
             0.9411764705882353,
             "rgb(247,212,187)"
            ],
            [
             1,
             "rgb(250,234,220)"
            ]
           ],
           "sequentialminus": [
            [
             0,
             "rgb(2,4,25)"
            ],
            [
             0.06274509803921569,
             "rgb(24,15,41)"
            ],
            [
             0.12549019607843137,
             "rgb(47,23,57)"
            ],
            [
             0.18823529411764706,
             "rgb(71,28,72)"
            ],
            [
             0.25098039215686274,
             "rgb(97,30,82)"
            ],
            [
             0.3137254901960784,
             "rgb(123,30,89)"
            ],
            [
             0.3764705882352941,
             "rgb(150,27,91)"
            ],
            [
             0.4392156862745098,
             "rgb(177,22,88)"
            ],
            [
             0.5019607843137255,
             "rgb(203,26,79)"
            ],
            [
             0.5647058823529412,
             "rgb(223,47,67)"
            ],
            [
             0.6274509803921569,
             "rgb(236,76,61)"
            ],
            [
             0.6901960784313725,
             "rgb(242,107,73)"
            ],
            [
             0.7529411764705882,
             "rgb(244,135,95)"
            ],
            [
             0.8156862745098039,
             "rgb(245,162,122)"
            ],
            [
             0.8784313725490196,
             "rgb(246,188,153)"
            ],
            [
             0.9411764705882353,
             "rgb(247,212,187)"
            ],
            [
             1,
             "rgb(250,234,220)"
            ]
           ]
          },
          "colorway": [
           "rgb(76,114,176)",
           "rgb(221,132,82)",
           "rgb(85,168,104)",
           "rgb(196,78,82)",
           "rgb(129,114,179)",
           "rgb(147,120,96)",
           "rgb(218,139,195)",
           "rgb(140,140,140)",
           "rgb(204,185,116)",
           "rgb(100,181,205)"
          ],
          "font": {
           "color": "rgb(36,36,36)"
          },
          "geo": {
           "bgcolor": "white",
           "lakecolor": "white",
           "landcolor": "rgb(234,234,242)",
           "showlakes": true,
           "showland": true,
           "subunitcolor": "white"
          },
          "hoverlabel": {
           "align": "left"
          },
          "hovermode": "closest",
          "paper_bgcolor": "white",
          "plot_bgcolor": "rgb(234,234,242)",
          "polar": {
           "angularaxis": {
            "gridcolor": "white",
            "linecolor": "white",
            "showgrid": true,
            "ticks": ""
           },
           "bgcolor": "rgb(234,234,242)",
           "radialaxis": {
            "gridcolor": "white",
            "linecolor": "white",
            "showgrid": true,
            "ticks": ""
           }
          },
          "scene": {
           "xaxis": {
            "backgroundcolor": "rgb(234,234,242)",
            "gridcolor": "white",
            "gridwidth": 2,
            "linecolor": "white",
            "showbackground": true,
            "showgrid": true,
            "ticks": "",
            "zerolinecolor": "white"
           },
           "yaxis": {
            "backgroundcolor": "rgb(234,234,242)",
            "gridcolor": "white",
            "gridwidth": 2,
            "linecolor": "white",
            "showbackground": true,
            "showgrid": true,
            "ticks": "",
            "zerolinecolor": "white"
           },
           "zaxis": {
            "backgroundcolor": "rgb(234,234,242)",
            "gridcolor": "white",
            "gridwidth": 2,
            "linecolor": "white",
            "showbackground": true,
            "showgrid": true,
            "ticks": "",
            "zerolinecolor": "white"
           }
          },
          "shapedefaults": {
           "fillcolor": "rgb(67,103,167)",
           "line": {
            "width": 0
           },
           "opacity": 0.5
          },
          "ternary": {
           "aaxis": {
            "gridcolor": "white",
            "linecolor": "white",
            "showgrid": true,
            "ticks": ""
           },
           "baxis": {
            "gridcolor": "white",
            "linecolor": "white",
            "showgrid": true,
            "ticks": ""
           },
           "bgcolor": "rgb(234,234,242)",
           "caxis": {
            "gridcolor": "white",
            "linecolor": "white",
            "showgrid": true,
            "ticks": ""
           }
          },
          "xaxis": {
           "automargin": true,
           "gridcolor": "white",
           "linecolor": "white",
           "showgrid": true,
           "ticks": "",
           "title": {
            "standoff": 15
           },
           "zerolinecolor": "white"
          },
          "yaxis": {
           "automargin": true,
           "gridcolor": "white",
           "linecolor": "white",
           "showgrid": true,
           "ticks": "",
           "title": {
            "standoff": 15
           },
           "zerolinecolor": "white"
          }
         }
        },
        "title": {
         "text": "Season-wise temperature change in India (1961-2020)",
         "x": 0.5,
         "y": 0.95
        },
        "width": 1000,
        "xaxis": {
         "title": {
          "text": "Years"
         },
         "type": "category"
        },
        "yaxis": {
         "title": {
          "text": "Temperature Change (°C)"
         }
        }
       }
      }
     },
     "metadata": {},
     "output_type": "display_data"
    }
   ],
   "source": [
    "df0= df[ (df.States=='India') & (df.Year>1960)]\n",
    "df1= df0[df0.Period=='Winter']\n",
    "df2= df0[df0.Period=='Summer']\n",
    "df3= df0[df0.Period=='Monsoon']\n",
    "df4= df0[df0.Period=='Post Monsoon']\n",
    "\n",
    "fig = go.Figure()\n",
    "fig.add_trace(go.Scatter(x=df1.Year, y=df1.temp_change,\n",
    "                    mode='lines',\n",
    "                    name='Winter'))\n",
    "fig.add_trace(go.Scatter(x=df2.Year, y=df2.temp_change,\n",
    "                    mode='markers',\n",
    "                    name='Summer'))\n",
    "fig.add_trace(go.Scatter(x=df3.Year, y=df3.temp_change,\n",
    "                    mode='lines', \n",
    "                    name='Monsoon'))\n",
    "fig.add_trace(go.Scatter(x=df4.Year, y=df4.temp_change,\n",
    "                    mode='markers', \n",
    "                    name='Post Monsoon'))\n",
    "\n",
    "fig.add_annotation(\n",
    "    x=48,\n",
    "    y=1.97,\n",
    "    xref=\"x\",\n",
    "    yref=\"y\",\n",
    "    text=\"Hottest Winter (2009, 1.97)\",\n",
    "    xanchor= 'right',\n",
    "    showarrow=True,\n",
    "    font=dict(\n",
    "            family=\"Courier New, monospace\",\n",
    "            size=16,\n",
    "            color=\"#ffffff\"\n",
    "            ),\n",
    "    align=\"center\",\n",
    "    arrowhead=2,\n",
    "    arrowsize=1,\n",
    "    arrowwidth=2,\n",
    "    arrowcolor=\"#636363\",\n",
    "    ax=-20,\n",
    "    ay=10,\n",
    "    bordercolor=\"#c7c7c7\",\n",
    "    borderwidth=2,\n",
    "    borderpad=4,\n",
    "    bgcolor=\"#ff7f0e\",\n",
    "    opacity=1\n",
    ")\n",
    "\n",
    "fig.add_annotation(\n",
    "    x=49,\n",
    "    y=1.96,\n",
    "    xref=\"x\",\n",
    "    yref=\"y\",\n",
    "    text=\"Hottest Summer (2010, 1.96)\",\n",
    "    xanchor= 'center',\n",
    "    showarrow=True,\n",
    "    font=dict(\n",
    "            family=\"Courier New, monospace\",\n",
    "            size=16,\n",
    "            color=\"#ffffff\"\n",
    "            ),\n",
    "    align=\"center\",\n",
    "    arrowhead=2,\n",
    "    arrowsize=1,\n",
    "    arrowwidth=2,\n",
    "    arrowcolor=\"#636363\",\n",
    "    ax=-15,\n",
    "    ay=-30,\n",
    "    bordercolor=\"#c7c7c7\",\n",
    "    borderwidth=2,\n",
    "    borderpad=4,\n",
    "    bgcolor=\"#ff7f0e\",\n",
    "    opacity=1\n",
    ")\n",
    "\n",
    "\n",
    "fig.update_layout(\n",
    "    width=1000,\n",
    "    height= 600,\n",
    "    template='seaborn',\n",
    "    paper_bgcolor=\"rgb(234, 234, 242)\",\n",
    "    title='Season-wise temperature change in India (1961-2020)',\n",
    "    title_x=0.5,\n",
    "    title_y=0.95,\n",
    "    \n",
    "    legend=dict(\n",
    "        orientation=\"h\",\n",
    "        yanchor=\"bottom\",\n",
    "        y=1.02,\n",
    "        xanchor=\"right\",\n",
    "        x=1\n",
    "    ) \n",
    ")\n",
    "\n",
    "fig.update_xaxes(type='category',title='Years')\n",
    "fig.update_yaxes(title='Temperature Change (°C)')\n",
    "\n",
    "fig.show()"
   ]
  },
  {
   "cell_type": "markdown",
   "metadata": {},
   "source": [
    "<br/><br/>"
   ]
  },
  {
   "cell_type": "markdown",
   "metadata": {},
   "source": [
    "## A look at the Import and Export Dataset ##"
   ]
  },
  {
   "cell_type": "code",
   "execution_count": 17,
   "metadata": {},
   "outputs": [
    {
     "data": {
      "text/html": [
       "<div>\n",
       "<style scoped>\n",
       "    .dataframe tbody tr th:only-of-type {\n",
       "        vertical-align: middle;\n",
       "    }\n",
       "\n",
       "    .dataframe tbody tr th {\n",
       "        vertical-align: top;\n",
       "    }\n",
       "\n",
       "    .dataframe thead th {\n",
       "        text-align: right;\n",
       "    }\n",
       "</style>\n",
       "<table border=\"1\" class=\"dataframe\">\n",
       "  <thead>\n",
       "    <tr style=\"text-align: right;\">\n",
       "      <th></th>\n",
       "      <th>Country</th>\n",
       "      <th>Export</th>\n",
       "      <th>Import</th>\n",
       "      <th>Total Trade</th>\n",
       "      <th>Trade Balance</th>\n",
       "      <th>Financial Year(start)</th>\n",
       "      <th>Financial Year(end)</th>\n",
       "    </tr>\n",
       "  </thead>\n",
       "  <tbody>\n",
       "    <tr>\n",
       "      <th>0</th>\n",
       "      <td>AFGHANISTAN</td>\n",
       "      <td>21.25</td>\n",
       "      <td>10.7</td>\n",
       "      <td>31.95</td>\n",
       "      <td>10.55</td>\n",
       "      <td>1997</td>\n",
       "      <td>1998</td>\n",
       "    </tr>\n",
       "    <tr>\n",
       "      <th>1</th>\n",
       "      <td>AFGHANISTAN</td>\n",
       "      <td>12.81</td>\n",
       "      <td>28.14</td>\n",
       "      <td>40.95</td>\n",
       "      <td>-15.33</td>\n",
       "      <td>1998</td>\n",
       "      <td>1999</td>\n",
       "    </tr>\n",
       "    <tr>\n",
       "      <th>2</th>\n",
       "      <td>AFGHANISTAN</td>\n",
       "      <td>33.2</td>\n",
       "      <td>21.06</td>\n",
       "      <td>54.26</td>\n",
       "      <td>12.15</td>\n",
       "      <td>1999</td>\n",
       "      <td>2000</td>\n",
       "    </tr>\n",
       "    <tr>\n",
       "      <th>3</th>\n",
       "      <td>AFGHANISTAN</td>\n",
       "      <td>25.86</td>\n",
       "      <td>26.59</td>\n",
       "      <td>52.45</td>\n",
       "      <td>-0.73</td>\n",
       "      <td>2000</td>\n",
       "      <td>2001</td>\n",
       "    </tr>\n",
       "    <tr>\n",
       "      <th>4</th>\n",
       "      <td>AFGHANISTAN</td>\n",
       "      <td>24.37</td>\n",
       "      <td>17.52</td>\n",
       "      <td>41.89</td>\n",
       "      <td>6.85</td>\n",
       "      <td>2001</td>\n",
       "      <td>2002</td>\n",
       "    </tr>\n",
       "  </tbody>\n",
       "</table>\n",
       "</div>"
      ],
      "text/plain": [
       "       Country Export Import Total Trade Trade Balance  Financial Year(start)  \\\n",
       "0  AFGHANISTAN  21.25   10.7       31.95         10.55                   1997   \n",
       "1  AFGHANISTAN  12.81  28.14       40.95        -15.33                   1998   \n",
       "2  AFGHANISTAN   33.2  21.06       54.26         12.15                   1999   \n",
       "3  AFGHANISTAN  25.86  26.59       52.45         -0.73                   2000   \n",
       "4  AFGHANISTAN  24.37  17.52       41.89          6.85                   2001   \n",
       "\n",
       "   Financial Year(end)  \n",
       "0                 1998  \n",
       "1                 1999  \n",
       "2                 2000  \n",
       "3                 2001  \n",
       "4                 2002  "
      ]
     },
     "execution_count": 17,
     "metadata": {},
     "output_type": "execute_result"
    }
   ],
   "source": [
    "india_export_import = pd.read_csv('data/INDImportExport.csv')\n",
    "india_export_import.head()"
   ]
  },
  {
   "cell_type": "code",
   "execution_count": 18,
   "metadata": {},
   "outputs": [
    {
     "data": {
      "text/plain": [
       "(5994, 7)"
      ]
     },
     "execution_count": 18,
     "metadata": {},
     "output_type": "execute_result"
    }
   ],
   "source": [
    "india_export_import.shape"
   ]
  },
  {
   "cell_type": "code",
   "execution_count": 19,
   "metadata": {},
   "outputs": [],
   "source": [
    "india_export_import.dropna(inplace = True)"
   ]
  },
  {
   "cell_type": "code",
   "execution_count": 20,
   "metadata": {},
   "outputs": [
    {
     "name": "stdout",
     "output_type": "stream",
     "text": [
      "<class 'pandas.core.frame.DataFrame'>\n",
      "Index: 5408 entries, 0 to 5993\n",
      "Data columns (total 7 columns):\n",
      " #   Column                 Non-Null Count  Dtype \n",
      "---  ------                 --------------  ----- \n",
      " 0   Country                5408 non-null   object\n",
      " 1   Export                 5408 non-null   object\n",
      " 2   Import                 5408 non-null   object\n",
      " 3   Total Trade            5408 non-null   object\n",
      " 4   Trade Balance          5408 non-null   object\n",
      " 5   Financial Year(start)  5408 non-null   int64 \n",
      " 6   Financial Year(end)    5408 non-null   int64 \n",
      "dtypes: int64(2), object(5)\n",
      "memory usage: 338.0+ KB\n"
     ]
    }
   ],
   "source": [
    "india_export_import.info()"
   ]
  },
  {
   "cell_type": "code",
   "execution_count": 21,
   "metadata": {},
   "outputs": [
    {
     "data": {
      "text/html": [
       "<div>\n",
       "<style scoped>\n",
       "    .dataframe tbody tr th:only-of-type {\n",
       "        vertical-align: middle;\n",
       "    }\n",
       "\n",
       "    .dataframe tbody tr th {\n",
       "        vertical-align: top;\n",
       "    }\n",
       "\n",
       "    .dataframe thead th {\n",
       "        text-align: right;\n",
       "    }\n",
       "</style>\n",
       "<table border=\"1\" class=\"dataframe\">\n",
       "  <thead>\n",
       "    <tr style=\"text-align: right;\">\n",
       "      <th></th>\n",
       "      <th>Financial Year(start)</th>\n",
       "      <th>Financial Year(end)</th>\n",
       "    </tr>\n",
       "  </thead>\n",
       "  <tbody>\n",
       "    <tr>\n",
       "      <th>count</th>\n",
       "      <td>5408.000000</td>\n",
       "      <td>5408.000000</td>\n",
       "    </tr>\n",
       "    <tr>\n",
       "      <th>mean</th>\n",
       "      <td>2009.974852</td>\n",
       "      <td>2010.974852</td>\n",
       "    </tr>\n",
       "    <tr>\n",
       "      <th>std</th>\n",
       "      <td>7.290310</td>\n",
       "      <td>7.290310</td>\n",
       "    </tr>\n",
       "    <tr>\n",
       "      <th>min</th>\n",
       "      <td>1997.000000</td>\n",
       "      <td>1998.000000</td>\n",
       "    </tr>\n",
       "    <tr>\n",
       "      <th>25%</th>\n",
       "      <td>2004.000000</td>\n",
       "      <td>2005.000000</td>\n",
       "    </tr>\n",
       "    <tr>\n",
       "      <th>50%</th>\n",
       "      <td>2010.000000</td>\n",
       "      <td>2011.000000</td>\n",
       "    </tr>\n",
       "    <tr>\n",
       "      <th>75%</th>\n",
       "      <td>2016.000000</td>\n",
       "      <td>2017.000000</td>\n",
       "    </tr>\n",
       "    <tr>\n",
       "      <th>max</th>\n",
       "      <td>2022.000000</td>\n",
       "      <td>2023.000000</td>\n",
       "    </tr>\n",
       "  </tbody>\n",
       "</table>\n",
       "</div>"
      ],
      "text/plain": [
       "       Financial Year(start)  Financial Year(end)\n",
       "count            5408.000000          5408.000000\n",
       "mean             2009.974852          2010.974852\n",
       "std                 7.290310             7.290310\n",
       "min              1997.000000          1998.000000\n",
       "25%              2004.000000          2005.000000\n",
       "50%              2010.000000          2011.000000\n",
       "75%              2016.000000          2017.000000\n",
       "max              2022.000000          2023.000000"
      ]
     },
     "execution_count": 21,
     "metadata": {},
     "output_type": "execute_result"
    }
   ],
   "source": [
    "india_export_import.describe()"
   ]
  },
  {
   "cell_type": "code",
   "execution_count": 22,
   "metadata": {},
   "outputs": [
    {
     "data": {
      "text/plain": [
       "Index(['Country', 'Export', 'Import', 'Total Trade', 'Trade Balance',\n",
       "       'Financial Year(start)', 'Financial Year(end)'],\n",
       "      dtype='object')"
      ]
     },
     "execution_count": 22,
     "metadata": {},
     "output_type": "execute_result"
    }
   ],
   "source": [
    "india_export_import.columns"
   ]
  },
  {
   "cell_type": "code",
   "execution_count": 23,
   "metadata": {},
   "outputs": [
    {
     "data": {
      "text/html": [
       "<div>\n",
       "<style scoped>\n",
       "    .dataframe tbody tr th:only-of-type {\n",
       "        vertical-align: middle;\n",
       "    }\n",
       "\n",
       "    .dataframe tbody tr th {\n",
       "        vertical-align: top;\n",
       "    }\n",
       "\n",
       "    .dataframe thead th {\n",
       "        text-align: right;\n",
       "    }\n",
       "</style>\n",
       "<table border=\"1\" class=\"dataframe\">\n",
       "  <thead>\n",
       "    <tr style=\"text-align: right;\">\n",
       "      <th></th>\n",
       "      <th>Country</th>\n",
       "      <th>Export</th>\n",
       "      <th>Import</th>\n",
       "      <th>Total Trade</th>\n",
       "      <th>Trade Balance</th>\n",
       "      <th>Financial Year(start)</th>\n",
       "      <th>Financial Year(end)</th>\n",
       "    </tr>\n",
       "  </thead>\n",
       "  <tbody>\n",
       "    <tr>\n",
       "      <th>0</th>\n",
       "      <td>AFGHANISTAN</td>\n",
       "      <td>21.25</td>\n",
       "      <td>10.7</td>\n",
       "      <td>31.95</td>\n",
       "      <td>10.55</td>\n",
       "      <td>1997</td>\n",
       "      <td>1998</td>\n",
       "    </tr>\n",
       "    <tr>\n",
       "      <th>1</th>\n",
       "      <td>AFGHANISTAN</td>\n",
       "      <td>12.81</td>\n",
       "      <td>28.14</td>\n",
       "      <td>40.95</td>\n",
       "      <td>-15.33</td>\n",
       "      <td>1998</td>\n",
       "      <td>1999</td>\n",
       "    </tr>\n",
       "    <tr>\n",
       "      <th>2</th>\n",
       "      <td>AFGHANISTAN</td>\n",
       "      <td>33.2</td>\n",
       "      <td>21.06</td>\n",
       "      <td>54.26</td>\n",
       "      <td>12.15</td>\n",
       "      <td>1999</td>\n",
       "      <td>2000</td>\n",
       "    </tr>\n",
       "    <tr>\n",
       "      <th>3</th>\n",
       "      <td>AFGHANISTAN</td>\n",
       "      <td>25.86</td>\n",
       "      <td>26.59</td>\n",
       "      <td>52.45</td>\n",
       "      <td>-0.73</td>\n",
       "      <td>2000</td>\n",
       "      <td>2001</td>\n",
       "    </tr>\n",
       "    <tr>\n",
       "      <th>4</th>\n",
       "      <td>AFGHANISTAN</td>\n",
       "      <td>24.37</td>\n",
       "      <td>17.52</td>\n",
       "      <td>41.89</td>\n",
       "      <td>6.85</td>\n",
       "      <td>2001</td>\n",
       "      <td>2002</td>\n",
       "    </tr>\n",
       "  </tbody>\n",
       "</table>\n",
       "</div>"
      ],
      "text/plain": [
       "       Country Export Import Total Trade Trade Balance  Financial Year(start)  \\\n",
       "0  AFGHANISTAN  21.25   10.7       31.95         10.55                   1997   \n",
       "1  AFGHANISTAN  12.81  28.14       40.95        -15.33                   1998   \n",
       "2  AFGHANISTAN   33.2  21.06       54.26         12.15                   1999   \n",
       "3  AFGHANISTAN  25.86  26.59       52.45         -0.73                   2000   \n",
       "4  AFGHANISTAN  24.37  17.52       41.89          6.85                   2001   \n",
       "\n",
       "   Financial Year(end)  \n",
       "0                 1998  \n",
       "1                 1999  \n",
       "2                 2000  \n",
       "3                 2001  \n",
       "4                 2002  "
      ]
     },
     "execution_count": 23,
     "metadata": {},
     "output_type": "execute_result"
    }
   ],
   "source": [
    "india_export_import.head()"
   ]
  },
  {
   "cell_type": "code",
   "execution_count": 24,
   "metadata": {},
   "outputs": [
    {
     "data": {
      "text/plain": [
       "Country\n",
       "AFGHANISTAN           26\n",
       "LITHUANIA             26\n",
       "MACEDONIA             26\n",
       "MADAGASCAR            26\n",
       "MALAWI                26\n",
       "                      ..\n",
       "CHANNEL IS             4\n",
       "Petroleum Products     3\n",
       "PACIFIC IS             1\n",
       "CANARY IS              1\n",
       "GUERNSEY               1\n",
       "Name: count, Length: 243, dtype: int64"
      ]
     },
     "execution_count": 24,
     "metadata": {},
     "output_type": "execute_result"
    }
   ],
   "source": [
    "india_export_import['Country'].value_counts()"
   ]
  },
  {
   "cell_type": "code",
   "execution_count": 25,
   "metadata": {},
   "outputs": [
    {
     "data": {
      "text/html": [
       "<div>\n",
       "<style scoped>\n",
       "    .dataframe tbody tr th:only-of-type {\n",
       "        vertical-align: middle;\n",
       "    }\n",
       "\n",
       "    .dataframe tbody tr th {\n",
       "        vertical-align: top;\n",
       "    }\n",
       "\n",
       "    .dataframe thead th {\n",
       "        text-align: right;\n",
       "    }\n",
       "</style>\n",
       "<table border=\"1\" class=\"dataframe\">\n",
       "  <thead>\n",
       "    <tr style=\"text-align: right;\">\n",
       "      <th></th>\n",
       "      <th>Country</th>\n",
       "      <th>Export</th>\n",
       "      <th>Import</th>\n",
       "      <th>Total Trade</th>\n",
       "      <th>Trade Balance</th>\n",
       "      <th>Financial Year(start)</th>\n",
       "      <th>Financial Year(end)</th>\n",
       "    </tr>\n",
       "  </thead>\n",
       "  <tbody>\n",
       "    <tr>\n",
       "      <th>5596</th>\n",
       "      <td>U S A</td>\n",
       "      <td>6,735.40</td>\n",
       "      <td>3,714.18</td>\n",
       "      <td>10,449.58</td>\n",
       "      <td>3,021.22</td>\n",
       "      <td>1997</td>\n",
       "      <td>1998</td>\n",
       "    </tr>\n",
       "    <tr>\n",
       "      <th>5597</th>\n",
       "      <td>U S A</td>\n",
       "      <td>7,199.59</td>\n",
       "      <td>3,640.25</td>\n",
       "      <td>10,839.84</td>\n",
       "      <td>3,559.34</td>\n",
       "      <td>1998</td>\n",
       "      <td>1999</td>\n",
       "    </tr>\n",
       "    <tr>\n",
       "      <th>5598</th>\n",
       "      <td>U S A</td>\n",
       "      <td>8,395.61</td>\n",
       "      <td>3,560.22</td>\n",
       "      <td>11,955.83</td>\n",
       "      <td>4,835.39</td>\n",
       "      <td>1999</td>\n",
       "      <td>2000</td>\n",
       "    </tr>\n",
       "    <tr>\n",
       "      <th>5599</th>\n",
       "      <td>U S A</td>\n",
       "      <td>9,305.12</td>\n",
       "      <td>3,015.00</td>\n",
       "      <td>12,320.12</td>\n",
       "      <td>6,290.12</td>\n",
       "      <td>2000</td>\n",
       "      <td>2001</td>\n",
       "    </tr>\n",
       "    <tr>\n",
       "      <th>5600</th>\n",
       "      <td>U S A</td>\n",
       "      <td>8,513.34</td>\n",
       "      <td>3,149.62</td>\n",
       "      <td>11,662.96</td>\n",
       "      <td>5,363.73</td>\n",
       "      <td>2001</td>\n",
       "      <td>2002</td>\n",
       "    </tr>\n",
       "  </tbody>\n",
       "</table>\n",
       "</div>"
      ],
      "text/plain": [
       "     Country    Export    Import Total Trade Trade Balance  \\\n",
       "5596   U S A  6,735.40  3,714.18   10,449.58      3,021.22   \n",
       "5597   U S A  7,199.59  3,640.25   10,839.84      3,559.34   \n",
       "5598   U S A  8,395.61  3,560.22   11,955.83      4,835.39   \n",
       "5599   U S A  9,305.12  3,015.00   12,320.12      6,290.12   \n",
       "5600   U S A  8,513.34  3,149.62   11,662.96      5,363.73   \n",
       "\n",
       "      Financial Year(start)  Financial Year(end)  \n",
       "5596                   1997                 1998  \n",
       "5597                   1998                 1999  \n",
       "5598                   1999                 2000  \n",
       "5599                   2000                 2001  \n",
       "5600                   2001                 2002  "
      ]
     },
     "execution_count": 25,
     "metadata": {},
     "output_type": "execute_result"
    }
   ],
   "source": [
    "india_usa = india_export_import[india_export_import['Country']=='U S A']\n",
    "india_usa.head()"
   ]
  },
  {
   "cell_type": "code",
   "execution_count": 26,
   "metadata": {},
   "outputs": [],
   "source": [
    "india_usa['Export'] = india_usa['Export'].str.replace(',','').astype(float)\n",
    "india_usa['Import'] = india_usa['Import'].str.replace(',','').astype(float)\n",
    "india_usa['Total Trade'] = india_usa['Total Trade'].str.replace(',','').astype(float)\n",
    "india_usa['Trade Balance'] = india_usa['Trade Balance'].str.replace(',','').astype(float)"
   ]
  },
  {
   "cell_type": "markdown",
   "metadata": {},
   "source": [
    "<br/><br/>"
   ]
  },
  {
   "cell_type": "markdown",
   "metadata": {},
   "source": [
    "#### Import and Export volume between IND and USA through the years ####"
   ]
  },
  {
   "cell_type": "code",
   "execution_count": 27,
   "metadata": {},
   "outputs": [
    {
     "data": {
      "text/plain": [
       "<function matplotlib.pyplot.show(close=None, block=None)>"
      ]
     },
     "execution_count": 27,
     "metadata": {},
     "output_type": "execute_result"
    },
    {
     "data": {
      "image/png": "[encoded data removed]",
      "text/plain": [
       "<Figure size 1200x400 with 1 Axes>"
      ]
     },
     "metadata": {},
     "output_type": "display_data"
    }
   ],
   "source": [
    "plt.figure(figsize=(12, 4)) \n",
    "sns.set_style(\"ticks\")\n",
    "sns.lineplot(data = india_usa.iloc[:,1:-1], x='Financial Year(start)', y='Export', label = 'Export')\n",
    "sns.lineplot(data = india_usa.iloc[:,1:-1], x='Financial Year(start)', y='Import', label = 'Import')\n",
    "plt.grid(True)\n",
    "plt.show"
   ]
  },
  {
   "cell_type": "markdown",
   "metadata": {},
   "source": [
    "<br/><br/>"
   ]
  },
  {
   "cell_type": "markdown",
   "metadata": {},
   "source": [
    "#### A barplot showing the trade balance between IND and USA ####"
   ]
  },
  {
   "cell_type": "code",
   "execution_count": 44,
   "metadata": {},
   "outputs": [
    {
     "data": {
      "text/plain": [
       "<function matplotlib.pyplot.show(close=None, block=None)>"
      ]
     },
     "execution_count": 44,
     "metadata": {},
     "output_type": "execute_result"
    },
    {
     "data": {
      "image/png": "[encoded data removed]",
      "text/plain": [
       "<Figure size 1200x400 with 1 Axes>"
      ]
     },
     "metadata": {},
     "output_type": "display_data"
    }
   ],
   "source": [
    "plt.figure(figsize=(12, 4)) \n",
    "ax = sns.barplot(data = india_usa.iloc[:,1:-1], x='Financial Year(start)', y='Trade Balance', label = 'Trade Balance')\n",
    "ax.set_xticklabels(ax.get_xticklabels(), rotation=45, ha='right')\n",
    "plt.title('Trade Balance Barplot between IND and USA by Years')\n",
    "plt.grid(True)\n",
    "plt.show"
   ]
  },
  {
   "cell_type": "markdown",
   "metadata": {},
   "source": [
    "<br/><br/>"
   ]
  },
  {
   "cell_type": "markdown",
   "metadata": {},
   "source": [
    "#### A barplot showing the total trade between IND and USA ####"
   ]
  },
  {
   "cell_type": "code",
   "execution_count": 29,
   "metadata": {},
   "outputs": [
    {
     "data": {
      "text/plain": [
       "<function matplotlib.pyplot.show(close=None, block=None)>"
      ]
     },
     "execution_count": 29,
     "metadata": {},
     "output_type": "execute_result"
    },
    {
     "data": {
      "image/png": "[encoded data removed]",
      "text/plain": [
       "<Figure size 1200x400 with 1 Axes>"
      ]
     },
     "metadata": {},
     "output_type": "display_data"
    }
   ],
   "source": [
    "plt.figure(figsize=(12, 4)) \n",
    "ax = sns.barplot(data = india_usa.iloc[:,1:-1], x='Financial Year(start)', y='Total Trade', label = 'Total Trade')\n",
    "ax.set_xticklabels(ax.get_xticklabels(), rotation=45, ha='right')\n",
    "plt.title('Total Trade barplot between IND and USA by Years')\n",
    "plt.grid(True)\n",
    "plt.show"
   ]
  },
  {
   "cell_type": "markdown",
   "metadata": {},
   "source": [
    "<br/><br/>"
   ]
  },
  {
   "cell_type": "markdown",
   "metadata": {},
   "source": [
    "#### Total Import and Export between IND and USA ####"
   ]
  },
  {
   "cell_type": "code",
   "execution_count": 30,
   "metadata": {},
   "outputs": [],
   "source": [
    "india_usa_total_trade = india_usa['Total Trade'].sum()"
   ]
  },
  {
   "cell_type": "code",
   "execution_count": 31,
   "metadata": {},
   "outputs": [],
   "source": [
    "df = pd.read_csv(\"data/INDImportExport.csv\")"
   ]
  },
  {
   "cell_type": "code",
   "execution_count": 32,
   "metadata": {},
   "outputs": [],
   "source": [
    "COUNTRY = 'U S A'\n",
    "\n",
    "df_de = df[ df['Country'] == COUNTRY ]\n",
    "\n",
    "df_de['Export'] = df_de['Export'].apply(lambda x: parseNumber(x)) \n",
    "df_de['Import'] = df_de['Import'].apply(lambda x: parseNumber(x))\n",
    "df_de['Total Trade'] = df_de['Total Trade'].apply(lambda x: parseNumber(x)) \n",
    "df_de['Trade Balance'] = df_de['Trade Balance'].apply(lambda x: parseNumber(x)) \n",
    "df_de['year'] = df_de['Financial Year(start)'].astype(str) + '-' + df_de['Financial Year(end)'].astype(str)\n",
    "\n",
    "#Just check if de trade_balance is correct\n",
    "#df_br['trade_balance_check'] = df_br['Export'] - df_br['Import']\n",
    "\n",
    "cols = ['Country','Export', 'Import','total_trade','trade_balance', 'Year(start)', 'Year(end)', 'year']\n",
    "df_de.columns = map(str.lower, cols)"
   ]
  },
  {
   "cell_type": "code",
   "execution_count": 33,
   "metadata": {},
   "outputs": [
    {
     "data": {
      "text/html": [
       "<div>\n",
       "<style scoped>\n",
       "    .dataframe tbody tr th:only-of-type {\n",
       "        vertical-align: middle;\n",
       "    }\n",
       "\n",
       "    .dataframe tbody tr th {\n",
       "        vertical-align: top;\n",
       "    }\n",
       "\n",
       "    .dataframe thead th {\n",
       "        text-align: right;\n",
       "    }\n",
       "</style>\n",
       "<table border=\"1\" class=\"dataframe\">\n",
       "  <thead>\n",
       "    <tr style=\"text-align: right;\">\n",
       "      <th></th>\n",
       "      <th>country</th>\n",
       "      <th>export</th>\n",
       "      <th>import</th>\n",
       "      <th>total_trade</th>\n",
       "      <th>trade_balance</th>\n",
       "      <th>year(start)</th>\n",
       "      <th>year(end)</th>\n",
       "      <th>year</th>\n",
       "    </tr>\n",
       "  </thead>\n",
       "  <tbody>\n",
       "    <tr>\n",
       "      <th>5596</th>\n",
       "      <td>U S A</td>\n",
       "      <td>6735.40</td>\n",
       "      <td>3714.18</td>\n",
       "      <td>10449.58</td>\n",
       "      <td>3021.22</td>\n",
       "      <td>1997</td>\n",
       "      <td>1998</td>\n",
       "      <td>1997-1998</td>\n",
       "    </tr>\n",
       "    <tr>\n",
       "      <th>5597</th>\n",
       "      <td>U S A</td>\n",
       "      <td>7199.59</td>\n",
       "      <td>3640.25</td>\n",
       "      <td>10839.84</td>\n",
       "      <td>3559.34</td>\n",
       "      <td>1998</td>\n",
       "      <td>1999</td>\n",
       "      <td>1998-1999</td>\n",
       "    </tr>\n",
       "    <tr>\n",
       "      <th>5598</th>\n",
       "      <td>U S A</td>\n",
       "      <td>8395.61</td>\n",
       "      <td>3560.22</td>\n",
       "      <td>11955.83</td>\n",
       "      <td>4835.39</td>\n",
       "      <td>1999</td>\n",
       "      <td>2000</td>\n",
       "      <td>1999-2000</td>\n",
       "    </tr>\n",
       "    <tr>\n",
       "      <th>5599</th>\n",
       "      <td>U S A</td>\n",
       "      <td>9305.12</td>\n",
       "      <td>3015.00</td>\n",
       "      <td>12320.12</td>\n",
       "      <td>6290.12</td>\n",
       "      <td>2000</td>\n",
       "      <td>2001</td>\n",
       "      <td>2000-2001</td>\n",
       "    </tr>\n",
       "    <tr>\n",
       "      <th>5600</th>\n",
       "      <td>U S A</td>\n",
       "      <td>8513.34</td>\n",
       "      <td>3149.62</td>\n",
       "      <td>11662.96</td>\n",
       "      <td>5363.73</td>\n",
       "      <td>2001</td>\n",
       "      <td>2002</td>\n",
       "      <td>2001-2002</td>\n",
       "    </tr>\n",
       "  </tbody>\n",
       "</table>\n",
       "</div>"
      ],
      "text/plain": [
       "     country   export   import  total_trade  trade_balance  year(start)  \\\n",
       "5596   U S A  6735.40  3714.18     10449.58        3021.22         1997   \n",
       "5597   U S A  7199.59  3640.25     10839.84        3559.34         1998   \n",
       "5598   U S A  8395.61  3560.22     11955.83        4835.39         1999   \n",
       "5599   U S A  9305.12  3015.00     12320.12        6290.12         2000   \n",
       "5600   U S A  8513.34  3149.62     11662.96        5363.73         2001   \n",
       "\n",
       "      year(end)       year  \n",
       "5596       1998  1997-1998  \n",
       "5597       1999  1998-1999  \n",
       "5598       2000  1999-2000  \n",
       "5599       2001  2000-2001  \n",
       "5600       2002  2001-2002  "
      ]
     },
     "execution_count": 33,
     "metadata": {},
     "output_type": "execute_result"
    }
   ],
   "source": [
    "df_de.head()"
   ]
  },
  {
   "cell_type": "code",
   "execution_count": 34,
   "metadata": {},
   "outputs": [
    {
     "data": {
      "text/plain": [
       "<matplotlib.legend.Legend at 0x25fafd569d0>"
      ]
     },
     "execution_count": 34,
     "metadata": {},
     "output_type": "execute_result"
    },
    {
     "data": {
      "image/png": "[encoded data removed]",
      "text/plain": [
       "<Figure size 2000x900 with 1 Axes>"
      ]
     },
     "metadata": {},
     "output_type": "display_data"
    }
   ],
   "source": [
    "sns.lineplot(x='year', y ='import', data=df_de, color = 'g', markers=[\"o\", \"o\"]);\n",
    "sns.lineplot(x='year', y ='export', data=df_de, color  = 'c');\n",
    "plt.title('TOTAL IMPORTS AND EXPORTS - (USD MILLIONS)', size = 15);\n",
    "plt.xticks(rotation=90);\n",
    "plt.legend(['Import', 'Export'])"
   ]
  },
  {
   "cell_type": "markdown",
   "metadata": {},
   "source": [
    "<br/><br/>"
   ]
  },
  {
   "cell_type": "markdown",
   "metadata": {},
   "source": [
    "#### Visualizing trade balance between India and USA ####"
   ]
  },
  {
   "cell_type": "code",
   "execution_count": 35,
   "metadata": {},
   "outputs": [],
   "source": [
    "color = ['g' if c >= 0 else 'r' for c in df_de['trade_balance']]"
   ]
  },
  {
   "cell_type": "code",
   "execution_count": 36,
   "metadata": {},
   "outputs": [
    {
     "data": {
      "image/png": "[encoded data removed]",
      "text/plain": [
       "<Figure size 2000x900 with 1 Axes>"
      ]
     },
     "metadata": {},
     "output_type": "display_data"
    }
   ],
   "source": [
    "sns.barplot(x='year', y ='trade_balance', data=df_de, palette = color);\n",
    "plt.title('TRADE BALANCE BETWEEN - INDIA AND USA - (USD MILLIONS)', size = 15);\n",
    "plt.xticks(rotation=90);"
   ]
  },
  {
   "cell_type": "markdown",
   "metadata": {},
   "source": [
    "<br/><br/>"
   ]
  },
  {
   "cell_type": "markdown",
   "metadata": {},
   "source": [
    "## A look at the Floods dataset ##"
   ]
  },
  {
   "cell_type": "code",
   "execution_count": 37,
   "metadata": {},
   "outputs": [
    {
     "data": {
      "text/html": [
       "<div>\n",
       "<style scoped>\n",
       "    .dataframe tbody tr th:only-of-type {\n",
       "        vertical-align: middle;\n",
       "    }\n",
       "\n",
       "    .dataframe tbody tr th {\n",
       "        vertical-align: top;\n",
       "    }\n",
       "\n",
       "    .dataframe thead th {\n",
       "        text-align: right;\n",
       "    }\n",
       "</style>\n",
       "<table border=\"1\" class=\"dataframe\">\n",
       "  <thead>\n",
       "    <tr style=\"text-align: right;\">\n",
       "      <th></th>\n",
       "      <th>Start Date</th>\n",
       "      <th>End Date</th>\n",
       "      <th>Duration(Days)</th>\n",
       "      <th>Main Cause</th>\n",
       "      <th>Location</th>\n",
       "      <th>Districts</th>\n",
       "      <th>State</th>\n",
       "      <th>Latitude</th>\n",
       "      <th>Longitude</th>\n",
       "      <th>Severity</th>\n",
       "      <th>Area Affected</th>\n",
       "      <th>Human fatality</th>\n",
       "      <th>Human injured</th>\n",
       "      <th>Human Displaced</th>\n",
       "      <th>Animal Fatality</th>\n",
       "      <th>Description of Casualties/injured</th>\n",
       "      <th>Extent of damage</th>\n",
       "      <th>Event Source</th>\n",
       "      <th>Event Source ID</th>\n",
       "    </tr>\n",
       "  </thead>\n",
       "  <tbody>\n",
       "    <tr>\n",
       "      <th>0</th>\n",
       "      <td>2015-06-20</td>\n",
       "      <td>2015-06-21</td>\n",
       "      <td>1</td>\n",
       "      <td>Heavy rains</td>\n",
       "      <td>NaN</td>\n",
       "      <td>East Godavari, Srikakulam, Visakhapatnam and W...</td>\n",
       "      <td>ANDHRA  PRADESH</td>\n",
       "      <td>NaN</td>\n",
       "      <td>NaN</td>\n",
       "      <td>NaN</td>\n",
       "      <td>NaN</td>\n",
       "      <td>NaN</td>\n",
       "      <td>NaN</td>\n",
       "      <td>NaN</td>\n",
       "      <td>NaN</td>\n",
       "      <td>NaN</td>\n",
       "      <td>i) Damage to 2000 hectares of crops reported. ...</td>\n",
       "      <td>IMD</td>\n",
       "      <td>NaN</td>\n",
       "    </tr>\n",
       "    <tr>\n",
       "      <th>1</th>\n",
       "      <td>2015-11-15</td>\n",
       "      <td>2015-11-23</td>\n",
       "      <td>8</td>\n",
       "      <td>Heavy rains</td>\n",
       "      <td>NaN</td>\n",
       "      <td>Anantapur, Chittoor, East Godavari, Krishna, N...</td>\n",
       "      <td>ANDHRA  PRADESH</td>\n",
       "      <td>NaN</td>\n",
       "      <td>NaN</td>\n",
       "      <td>NaN</td>\n",
       "      <td>NaN</td>\n",
       "      <td>88.0</td>\n",
       "      <td>NaN</td>\n",
       "      <td>NaN</td>\n",
       "      <td>16710.0</td>\n",
       "      <td>88 persons died. 16710 animals perished. (844 ...</td>\n",
       "      <td>i) Extensive damage to Agricultural crops (mor...</td>\n",
       "      <td>IMD</td>\n",
       "      <td>NaN</td>\n",
       "    </tr>\n",
       "    <tr>\n",
       "      <th>2</th>\n",
       "      <td>2015-12-22</td>\n",
       "      <td>2015-12-22</td>\n",
       "      <td>0</td>\n",
       "      <td>Heavy rains</td>\n",
       "      <td>NaN</td>\n",
       "      <td>Vishakhapatnam</td>\n",
       "      <td>ANDHRA  PRADESH</td>\n",
       "      <td>NaN</td>\n",
       "      <td>NaN</td>\n",
       "      <td>NaN</td>\n",
       "      <td>NaN</td>\n",
       "      <td>4.0</td>\n",
       "      <td>NaN</td>\n",
       "      <td>NaN</td>\n",
       "      <td>NaN</td>\n",
       "      <td>4 persons died due to landslips</td>\n",
       "      <td>Landslips</td>\n",
       "      <td>IMD</td>\n",
       "      <td>NaN</td>\n",
       "    </tr>\n",
       "    <tr>\n",
       "      <th>3</th>\n",
       "      <td>2015-10-06</td>\n",
       "      <td>2015-10-06</td>\n",
       "      <td>0</td>\n",
       "      <td>Heavy rains</td>\n",
       "      <td>NaN</td>\n",
       "      <td>Parts of Arunachal Pradesh</td>\n",
       "      <td>ARUNACHAL PRADESH</td>\n",
       "      <td>NaN</td>\n",
       "      <td>NaN</td>\n",
       "      <td>NaN</td>\n",
       "      <td>NaN</td>\n",
       "      <td>2.0</td>\n",
       "      <td>NaN</td>\n",
       "      <td>NaN</td>\n",
       "      <td>NaN</td>\n",
       "      <td>2 persons died.</td>\n",
       "      <td>NaN</td>\n",
       "      <td>IMD</td>\n",
       "      <td>NaN</td>\n",
       "    </tr>\n",
       "    <tr>\n",
       "      <th>4</th>\n",
       "      <td>2015-02-19</td>\n",
       "      <td>2015-02-19</td>\n",
       "      <td>0</td>\n",
       "      <td>Heavy rains</td>\n",
       "      <td>NaN</td>\n",
       "      <td>Parts of Assam</td>\n",
       "      <td>ASSAM</td>\n",
       "      <td>NaN</td>\n",
       "      <td>NaN</td>\n",
       "      <td>NaN</td>\n",
       "      <td>NaN</td>\n",
       "      <td>2.0</td>\n",
       "      <td>NaN</td>\n",
       "      <td>NaN</td>\n",
       "      <td>NaN</td>\n",
       "      <td>2 persons died due to landslide</td>\n",
       "      <td>NaN</td>\n",
       "      <td>IMD</td>\n",
       "      <td>NaN</td>\n",
       "    </tr>\n",
       "  </tbody>\n",
       "</table>\n",
       "</div>"
      ],
      "text/plain": [
       "   Start Date    End Date Duration(Days)   Main Cause Location  \\\n",
       "0  2015-06-20  2015-06-21              1  Heavy rains      NaN   \n",
       "1  2015-11-15  2015-11-23              8  Heavy rains      NaN   \n",
       "2  2015-12-22  2015-12-22              0  Heavy rains      NaN   \n",
       "3  2015-10-06  2015-10-06              0  Heavy rains      NaN   \n",
       "4  2015-02-19  2015-02-19              0  Heavy rains      NaN   \n",
       "\n",
       "                                           Districts              State  \\\n",
       "0  East Godavari, Srikakulam, Visakhapatnam and W...    ANDHRA  PRADESH   \n",
       "1  Anantapur, Chittoor, East Godavari, Krishna, N...    ANDHRA  PRADESH   \n",
       "2                                     Vishakhapatnam    ANDHRA  PRADESH   \n",
       "3                         Parts of Arunachal Pradesh  ARUNACHAL PRADESH   \n",
       "4                                     Parts of Assam              ASSAM   \n",
       "\n",
       "   Latitude  Longitude  Severity  Area Affected  Human fatality  \\\n",
       "0       NaN        NaN       NaN            NaN             NaN   \n",
       "1       NaN        NaN       NaN            NaN            88.0   \n",
       "2       NaN        NaN       NaN            NaN             4.0   \n",
       "3       NaN        NaN       NaN            NaN             2.0   \n",
       "4       NaN        NaN       NaN            NaN             2.0   \n",
       "\n",
       "   Human injured  Human Displaced  Animal Fatality  \\\n",
       "0            NaN              NaN              NaN   \n",
       "1            NaN              NaN          16710.0   \n",
       "2            NaN              NaN              NaN   \n",
       "3            NaN              NaN              NaN   \n",
       "4            NaN              NaN              NaN   \n",
       "\n",
       "                   Description of Casualties/injured  \\\n",
       "0                                                NaN   \n",
       "1  88 persons died. 16710 animals perished. (844 ...   \n",
       "2                    4 persons died due to landslips   \n",
       "3                                    2 persons died.   \n",
       "4                    2 persons died due to landslide   \n",
       "\n",
       "                                   Extent of damage  Event Source  \\\n",
       "0  i) Damage to 2000 hectares of crops reported. ...          IMD   \n",
       "1  i) Extensive damage to Agricultural crops (mor...          IMD   \n",
       "2                                         Landslips           IMD   \n",
       "3                                                NaN          IMD   \n",
       "4                                                NaN          IMD   \n",
       "\n",
       "  Event Source ID  \n",
       "0             NaN  \n",
       "1             NaN  \n",
       "2             NaN  \n",
       "3             NaN  \n",
       "4             NaN  "
      ]
     },
     "execution_count": 37,
     "metadata": {},
     "output_type": "execute_result"
    }
   ],
   "source": [
    "# Load the floods dataset\n",
    "floods_df = pd.read_csv(f'data/INDFloods.csv')\n",
    "floods_df.head()"
   ]
  },
  {
   "cell_type": "code",
   "execution_count": 38,
   "metadata": {},
   "outputs": [
    {
     "name": "stdout",
     "output_type": "stream",
     "text": [
      "<class 'pandas.core.frame.DataFrame'>\n",
      "RangeIndex: 1027 entries, 0 to 1026\n",
      "Data columns (total 19 columns):\n",
      " #   Column                             Non-Null Count  Dtype  \n",
      "---  ------                             --------------  -----  \n",
      " 0   Start Date                         1027 non-null   object \n",
      " 1   End Date                           1027 non-null   object \n",
      " 2   Duration(Days)                     1027 non-null   object \n",
      " 3   Main Cause                         905 non-null    object \n",
      " 4   Location                           276 non-null    object \n",
      " 5   Districts                          464 non-null    object \n",
      " 6   State                              464 non-null    object \n",
      " 7   Latitude                           325 non-null    float64\n",
      " 8   Longitude                          325 non-null    float64\n",
      " 9   Severity                           262 non-null    float64\n",
      " 10  Area Affected                      262 non-null    float64\n",
      " 11  Human fatality                     605 non-null    float64\n",
      " 12  Human injured                      84 non-null     float64\n",
      " 13  Human Displaced                    262 non-null    float64\n",
      " 14  Animal Fatality                    37 non-null     float64\n",
      " 15  Description of Casualties/injured  383 non-null    object \n",
      " 16  Extent of damage                   334 non-null    object \n",
      " 17  Event Source                       1027 non-null   object \n",
      " 18  Event Source ID                    563 non-null    object \n",
      "dtypes: float64(8), object(11)\n",
      "memory usage: 152.6+ KB\n",
      "None\n",
      "   Start Date    End Date Duration(Days)   Main Cause Location  \\\n",
      "0  2015-06-20  2015-06-21              1  Heavy rains      NaN   \n",
      "1  2015-11-15  2015-11-23              8  Heavy rains      NaN   \n",
      "2  2015-12-22  2015-12-22              0  Heavy rains      NaN   \n",
      "3  2015-10-06  2015-10-06              0  Heavy rains      NaN   \n",
      "4  2015-02-19  2015-02-19              0  Heavy rains      NaN   \n",
      "\n",
      "                                           Districts              State  \\\n",
      "0  East Godavari, Srikakulam, Visakhapatnam and W...    ANDHRA  PRADESH   \n",
      "1  Anantapur, Chittoor, East Godavari, Krishna, N...    ANDHRA  PRADESH   \n",
      "2                                     Vishakhapatnam    ANDHRA  PRADESH   \n",
      "3                         Parts of Arunachal Pradesh  ARUNACHAL PRADESH   \n",
      "4                                     Parts of Assam              ASSAM   \n",
      "\n",
      "   Latitude  Longitude  Severity  Area Affected  Human fatality  \\\n",
      "0       NaN        NaN       NaN            NaN             NaN   \n",
      "1       NaN        NaN       NaN            NaN            88.0   \n",
      "2       NaN        NaN       NaN            NaN             4.0   \n",
      "3       NaN        NaN       NaN            NaN             2.0   \n",
      "4       NaN        NaN       NaN            NaN             2.0   \n",
      "\n",
      "   Human injured  Human Displaced  Animal Fatality  \\\n",
      "0            NaN              NaN              NaN   \n",
      "1            NaN              NaN          16710.0   \n",
      "2            NaN              NaN              NaN   \n",
      "3            NaN              NaN              NaN   \n",
      "4            NaN              NaN              NaN   \n",
      "\n",
      "                   Description of Casualties/injured  \\\n",
      "0                                                NaN   \n",
      "1  88 persons died. 16710 animals perished. (844 ...   \n",
      "2                    4 persons died due to landslips   \n",
      "3                                    2 persons died.   \n",
      "4                    2 persons died due to landslide   \n",
      "\n",
      "                                   Extent of damage  Event Source  \\\n",
      "0  i) Damage to 2000 hectares of crops reported. ...          IMD   \n",
      "1  i) Extensive damage to Agricultural crops (mor...          IMD   \n",
      "2                                         Landslips           IMD   \n",
      "3                                                NaN          IMD   \n",
      "4                                                NaN          IMD   \n",
      "\n",
      "  Event Source ID  \n",
      "0             NaN  \n",
      "1             NaN  \n",
      "2             NaN  \n",
      "3             NaN  \n",
      "4             NaN  \n"
     ]
    }
   ],
   "source": [
    "# Display information about the DataFrame\n",
    "print(floods_df.info())\n",
    "\n",
    "# Display the first few rows of the DataFrame again\n",
    "print(floods_df.head())"
   ]
  },
  {
   "cell_type": "code",
   "execution_count": 39,
   "metadata": {},
   "outputs": [],
   "source": [
    "# Convert Start Date and End Date to datetime\n",
    "floods_df['Start Date'] = pd.to_datetime(floods_df['Start Date'], errors='coerce')\n",
    "floods_df['End Date'] = pd.to_datetime(floods_df['End Date'], errors='coerce')\n",
    "\n",
    "# Extract Year from Start Date\n",
    "floods_df['Year'] = floods_df['Start Date'].dt.year"
   ]
  },
  {
   "cell_type": "markdown",
   "metadata": {},
   "source": [
    "<br/><br/>"
   ]
  },
  {
   "cell_type": "markdown",
   "metadata": {},
   "source": [
    "#### Number of Flood Events per Year ####"
   ]
  },
  {
   "cell_type": "code",
   "execution_count": 40,
   "metadata": {},
   "outputs": [
    {
     "data": {
      "image/png": "[encoded data removed]",
      "text/plain": [
       "<Figure size 1000x600 with 1 Axes>"
      ]
     },
     "metadata": {},
     "output_type": "display_data"
    }
   ],
   "source": [
    "\n",
    "plt.figure(figsize=(10, 6))\n",
    "floods_per_year = floods_df['Year'].value_counts().sort_index()\n",
    "plt.bar(floods_per_year.index, floods_per_year.values)\n",
    "plt.title('Number of Flood Events per Year in India')\n",
    "plt.xlabel('Year')\n",
    "plt.ylabel('Number of Flood Events')\n",
    "plt.grid(True)\n",
    "plt.show()"
   ]
  },
  {
   "cell_type": "markdown",
   "metadata": {},
   "source": [
    "<br/><br/>"
   ]
  },
  {
   "cell_type": "markdown",
   "metadata": {},
   "source": [
    "#### Number of Events during the Years ####"
   ]
  },
  {
   "cell_type": "code",
   "execution_count": 41,
   "metadata": {},
   "outputs": [
    {
     "data": {
      "image/png": "[encoded data removed]",
      "text/plain": [
       "<Figure size 1000x600 with 1 Axes>"
      ]
     },
     "metadata": {},
     "output_type": "display_data"
    }
   ],
   "source": [
    "# Convert 'Start Date' and 'End Date' columns to datetime\n",
    "floods_df['Start Date'] = pd.to_datetime(floods_df['Start Date'])\n",
    "floods_df['End Date'] = pd.to_datetime(floods_df['End Date'])\n",
    "\n",
    "# Create a line plot showing the number of events over time\n",
    "plt.figure(figsize=(10, 6))\n",
    "floods_df['Start Date'].dt.year.value_counts().sort_index().plot(marker='o')\n",
    "plt.xlabel('Year')\n",
    "plt.ylabel('Number of Events')\n",
    "plt.title('Number of Events Over Time')\n",
    "plt.grid(True)\n",
    "plt.show()\n"
   ]
  },
  {
   "cell_type": "markdown",
   "metadata": {},
   "source": [
    "<br/><br/>"
   ]
  },
  {
   "cell_type": "markdown",
   "metadata": {},
   "source": [
    "#### Average Duration of Events through the Years ####"
   ]
  },
  {
   "cell_type": "code",
   "execution_count": 42,
   "metadata": {},
   "outputs": [
    {
     "data": {
      "image/png": "[encoded data removed]",
      "text/plain": [
       "<Figure size 1000x600 with 1 Axes>"
      ]
     },
     "metadata": {},
     "output_type": "display_data"
    }
   ],
   "source": [
    "# Calculate duration of each event\n",
    "floods_df['Duration'] = (floods_df['End Date'] - floods_df['Start Date']).dt.days\n",
    "\n",
    "# Create a line plot showing the average duration of events over time\n",
    "plt.figure(figsize=(10, 6))\n",
    "floods_df.groupby(floods_df['Start Date'].dt.year)['Duration'].mean().plot(marker='o')\n",
    "plt.xlabel('Year')\n",
    "plt.ylabel('Average Duration (Days)')\n",
    "plt.title('Average Duration of Events Over Time')\n",
    "plt.grid(True)\n",
    "plt.show()\n"
   ]
  },
  {
   "cell_type": "markdown",
   "metadata": {},
   "source": [
    "<br/><br/>"
   ]
  },
  {
   "cell_type": "markdown",
   "metadata": {},
   "source": [
    "#### A map visualising the location of Events ####"
   ]
  },
  {
   "cell_type": "code",
   "execution_count": 43,
   "metadata": {},
   "outputs": [
    {
     "data": {
      "application/vnd.plotly.v1+json": {
       "config": {
        "plotlyServerURL": "https://plot.ly"
       },
       "data": [
        {
         "customdata": [
          [
           "ANDHRA  PRADESH",
           null,
           "1",
           null
          ],
          [
           "ANDHRA  PRADESH",
           null,
           "8",
           88
          ],
          [
           "ANDHRA  PRADESH",
           null,
           "0",
           4
          ],
          [
           "ARUNACHAL PRADESH",
           null,
           "0",
           2
          ],
          [
           "ASSAM",
           null,
           "0",
           2
          ],
          [
           "ASSAM",
           null,
           "151",
           null
          ],
          [
           "ASSAM",
           null,
           "Diffing the dates",
           3
          ],
          [
           "ASSAM",
           null,
           "4",
           1
          ],
          [
           "ASSAM",
           null,
           "3",
           5
          ],
          [
           "ASSAM",
           null,
           "4",
           8
          ],
          [
           "ASSAM",
           null,
           "6",
           7
          ],
          [
           "ASSAM",
           null,
           "334",
           28
          ],
          [
           "ASSAM",
           null,
           "2",
           null
          ],
          [
           "BIHAR",
           null,
           "0",
           2
          ],
          [
           "CHATTISGARH",
           null,
           "0",
           1
          ],
          [
           "CHATTISGARH",
           null,
           "4",
           2
          ],
          [
           "CHATTISGARH",
           null,
           "267",
           70
          ],
          [
           "HIMACHAL PRADESH",
           null,
           "31",
           1
          ],
          [
           "HIMACHAL PRADESH",
           null,
           "1",
           1
          ],
          [
           "HIMACHAL PRADESH",
           null,
           "31",
           null
          ],
          [
           "HIMACHAL PRADESH",
           null,
           "1",
           3
          ],
          [
           "HIMACHAL PRADESH",
           null,
           "0",
           3
          ],
          [
           "HIMACHAL PRADESH",
           null,
           "122",
           4
          ],
          [
           "HIMACHAL PRADESH",
           null,
           "0",
           10
          ],
          [
           "JAMMU & KASHMIR",
           null,
           "0",
           1
          ],
          [
           "JAMMU & KASHMIR",
           null,
           "0",
           16
          ],
          [
           "JAMMU & KASHMIR",
           null,
           "0",
           24
          ],
          [
           "JAMMU & KASHMIR",
           null,
           "0",
           1
          ],
          [
           "JAMMU & KASHMIR",
           null,
           "Diffing the dates",
           11
          ],
          [
           "JAMMU & KASHMIR",
           null,
           "0",
           3
          ],
          [
           "JAMMU & KASHMIR",
           null,
           "6",
           4
          ],
          [
           "JAMMU & KASHMIR",
           null,
           "0",
           null
          ],
          [
           "KARNATAKA",
           null,
           "Diffing the dates",
           1
          ],
          [
           "KARNATAKA",
           null,
           "153",
           4
          ],
          [
           "KARNATAKA",
           null,
           "1",
           1
          ],
          [
           "KARNATAKA",
           null,
           "214",
           2
          ],
          [
           "KARNATAKA",
           null,
           "4",
           1
          ],
          [
           "KARNATAKA",
           null,
           "5",
           8
          ],
          [
           "KARNATAKA",
           null,
           "Diffing the dates",
           10
          ],
          [
           "KARNATAKA",
           null,
           "0",
           null
          ],
          [
           "KARNATAKA",
           null,
           "90",
           4
          ],
          [
           "KARNATAKA",
           null,
           "0",
           null
          ],
          [
           "KERALA",
           null,
           "184",
           null
          ],
          [
           "KERALA",
           null,
           "4",
           null
          ],
          [
           "KERALA",
           null,
           "4",
           null
          ],
          [
           "KERALA",
           null,
           "122",
           null
          ],
          [
           "KERALA",
           null,
           "Diffing the dates",
           null
          ],
          [
           "KERALA",
           null,
           "6",
           1
          ],
          [
           "KERALA",
           null,
           "4",
           null
          ],
          [
           "KERALA",
           null,
           "61",
           null
          ],
          [
           "KERALA",
           null,
           "62",
           null
          ],
          [
           "KERALA",
           null,
           "Diffing the dates",
           null
          ],
          [
           "KERALA",
           null,
           "13",
           5
          ],
          [
           "KERALA",
           null,
           "Diffing the dates",
           1
          ],
          [
           "KERALA",
           null,
           "10",
           null
          ],
          [
           "KERALA",
           null,
           "2",
           null
          ],
          [
           "KERALA",
           null,
           "0",
           null
          ],
          [
           "KERALA",
           null,
           "31",
           null
          ],
          [
           "KERALA",
           null,
           "1",
           null
          ],
          [
           "KERALA",
           null,
           "31",
           null
          ],
          [
           "KERALA",
           null,
           "1",
           null
          ],
          [
           "KERALA",
           null,
           "314",
           2
          ],
          [
           "KERALA",
           null,
           "129",
           null
          ],
          [
           "MADHYA PRADESH",
           null,
           "2",
           15
          ],
          [
           "MADHYA PRADESH",
           null,
           "0",
           1
          ],
          [
           "MAHARASHTRA",
           null,
           "Diffing the dates",
           17
          ],
          [
           "MAHARASHTRA",
           null,
           "0",
           6
          ],
          [
           "MAHARASHTRA",
           null,
           "0",
           2
          ],
          [
           "MAHARASHTRA",
           null,
           "0",
           4
          ],
          [
           "MAHARASHTRA",
           null,
           "0",
           9
          ],
          [
           "MAHARASHTRA",
           null,
           "67",
           8
          ],
          [
           "MEGHALAYA",
           null,
           "0",
           5
          ],
          [
           "ODISHA",
           null,
           "0",
           1
          ],
          [
           "ODISHA",
           null,
           "0",
           5
          ],
          [
           "ODISHA",
           null,
           "2",
           4
          ],
          [
           "PUNJAB",
           null,
           "267",
           11
          ],
          [
           "RAJASTHAN",
           null,
           "1",
           15
          ],
          [
           "RAJASTHAN",
           null,
           "9",
           20
          ],
          [
           "RAJASTHAN",
           null,
           "120",
           41
          ],
          [
           "RAJASTHAN",
           null,
           "0",
           2
          ],
          [
           "SIKKIM",
           null,
           "0",
           18
          ],
          [
           "SIKKIM",
           null,
           "0",
           41
          ],
          [
           "TAMIL NADU",
           null,
           "0",
           null
          ],
          [
           "TAMIL NADU",
           null,
           "0",
           1
          ],
          [
           "TAMIL NADU",
           null,
           "0",
           3
          ],
          [
           "TAMIL NADU",
           null,
           "0",
           null
          ],
          [
           "TAMIL NADU",
           null,
           "2",
           11
          ],
          [
           "TAMIL NADU",
           null,
           "0",
           1
          ],
          [
           "TAMIL NADU",
           null,
           "0",
           1
          ],
          [
           "TAMIL NADU",
           null,
           "0",
           1
          ],
          [
           "TAMIL NADU",
           null,
           "0",
           13
          ],
          [
           "TAMIL NADU",
           null,
           "2",
           25
          ],
          [
           "TAMIL NADU",
           null,
           "4",
           47
          ],
          [
           "TAMIL NADU",
           null,
           "0",
           50
          ],
          [
           "TAMIL NADU",
           null,
           "2",
           32
          ],
          [
           "TAMIL NADU",
           null,
           "59",
           17
          ],
          [
           "TAMIL NADU",
           null,
           "92",
           30
          ],
          [
           "TELANGANA",
           null,
           "183",
           5
          ],
          [
           "UTTAR PRADESH",
           null,
           "0",
           12
          ],
          [
           "UTTAR PRADESH",
           null,
           "30",
           15
          ],
          [
           "UTTAR PRADESH",
           null,
           "0",
           2
          ],
          [
           "UTTAR PRADESH",
           null,
           "0",
           5
          ],
          [
           "UTTARAKHAND",
           null,
           "0",
           1
          ],
          [
           "WEST BENGAL",
           null,
           "273",
           39
          ],
          [
           "WEST BENGAL",
           null,
           "4",
           5
          ],
          [
           "PUDUCHERRY",
           null,
           "0",
           2
          ],
          [
           "ANDHRA PRADESH",
           null,
           "0",
           null
          ],
          [
           "ANDHRA PRADESH",
           null,
           "1",
           3
          ],
          [
           "ANDHRA PRADESH",
           null,
           "265",
           20
          ],
          [
           "ARUNACHAL PRADESH",
           null,
           "0",
           17
          ],
          [
           "ARUNACHAL PRADESH",
           null,
           "3",
           null
          ],
          [
           "ARUNACHAL PRADESH",
           null,
           "0",
           10
          ],
          [
           "ARUNACHAL PRADESH",
           null,
           "0",
           3
          ],
          [
           "ARUNACHAL PRADESH",
           null,
           "30",
           null
          ],
          [
           "ASSAM",
           null,
           "0",
           null
          ],
          [
           "ASSAM",
           null,
           "3",
           8
          ],
          [
           "ASSAM",
           null,
           "0",
           11
          ],
          [
           "ASSAM",
           null,
           "0",
           null
          ],
          [
           "ASSAM",
           null,
           "6",
           null
          ],
          [
           "ASSAM",
           null,
           "122",
           2
          ],
          [
           "ASSAM",
           null,
           "0",
           2
          ],
          [
           "ASSAM",
           null,
           "5",
           2
          ],
          [
           "ASSAM",
           null,
           "0",
           2
          ],
          [
           "ASSAM",
           null,
           "10",
           22
          ],
          [
           "ASSAM",
           null,
           "121",
           3
          ],
          [
           "ASSAM",
           null,
           "0",
           2
          ],
          [
           "ASSAM",
           null,
           "182",
           null
          ],
          [
           "ASSAM",
           null,
           "3",
           null
          ],
          [
           "BIHAR",
           null,
           "0",
           12
          ],
          [
           "BIHAR",
           null,
           "2",
           17
          ],
          [
           "BIHAR",
           null,
           "0",
           1
          ],
          [
           "BIHAR",
           null,
           "4",
           9
          ],
          [
           "BIHAR",
           null,
           "2",
           14
          ],
          [
           "BIHAR",
           null,
           "0",
           null
          ],
          [
           "BIHAR",
           null,
           "0",
           null
          ],
          [
           "BIHAR",
           null,
           "31",
           11
          ],
          [
           "BIHAR",
           null,
           "0",
           19
          ],
          [
           "CHHATTISGARH",
           null,
           "29",
           null
          ],
          [
           "CHHATTISGARH",
           null,
           "Diffing the dates",
           null
          ],
          [
           "CHHATTISGARH",
           null,
           "0",
           1
          ],
          [
           "CHHATTISGARH",
           null,
           "0",
           5
          ],
          [
           "CHHATTISGARH",
           null,
           "5",
           6
          ],
          [
           "CHHATTISGARH",
           null,
           "Diffing the dates",
           4
          ],
          [
           "GUJARAT",
           null,
           "266",
           81
          ],
          [
           "HIMACHAL PRADESH",
           null,
           "0",
           5
          ],
          [
           "HIMACHAL PRADESH",
           null,
           "1",
           null
          ],
          [
           "HIMACHAL PRADESH",
           null,
           "31",
           null
          ],
          [
           "HIMACHAL PRADESH",
           null,
           "Diffing the dates",
           null
          ],
          [
           "HIMACHAL PRADESH",
           null,
           "8",
           2
          ],
          [
           "HIMACHAL PRADESH",
           null,
           "31",
           1
          ],
          [
           "HIMACHAL PRADESH",
           null,
           "61",
           null
          ],
          [
           "HIMACHAL PRADESH",
           null,
           "61",
           1
          ],
          [
           "HIMACHAL PRADESH",
           null,
           "1",
           2
          ],
          [
           "HIMACHAL PRADESH",
           null,
           "1",
           5
          ],
          [
           "JAMMU & KASHMIR",
           null,
           "0",
           3
          ],
          [
           "JAMMU & KASHMIR",
           null,
           "0",
           2
          ],
          [
           "JAMMU & KASHMIR",
           null,
           "0",
           3
          ],
          [
           "JAMMU & KASHMIR",
           null,
           "0",
           5
          ],
          [
           "JAMMU & KASHMIR",
           null,
           "30",
           2
          ],
          [
           "JAMMU & KASHMIR",
           null,
           "0",
           3
          ],
          [
           "JHARKHAND",
           null,
           "61",
           2
          ],
          [
           "JHARKHAND",
           null,
           "0",
           1
          ],
          [
           "JHARKHAND",
           null,
           "0",
           4
          ],
          [
           "JHARKHAND",
           null,
           "2",
           9
          ],
          [
           "JHARKHAND",
           null,
           "1",
           null
          ],
          [
           "JHARKHAND",
           null,
           "91",
           1
          ],
          [
           "JHARKHAND",
           null,
           "0",
           1
          ],
          [
           "KARNATAKA",
           null,
           "0",
           1
          ],
          [
           "KARNATAKA",
           null,
           "0",
           2
          ],
          [
           "KARNATAKA",
           null,
           "0",
           1
          ],
          [
           "KARNATAKA",
           null,
           "92",
           null
          ],
          [
           "KARNATAKA",
           null,
           "30",
           1
          ],
          [
           "KARNATAKA",
           null,
           "0",
           null
          ],
          [
           "KARNATAKA",
           null,
           "0",
           1
          ],
          [
           "KARNATAKA",
           null,
           "0",
           null
          ],
          [
           "KARNATAKA",
           null,
           "0",
           null
          ],
          [
           "KARNATAKA",
           null,
           "123",
           1
          ],
          [
           "KARNATAKA",
           null,
           "0",
           null
          ],
          [
           "KARNATAKA",
           null,
           "1",
           2
          ],
          [
           "KARNATAKA",
           null,
           "4",
           1
          ],
          [
           "KARNATAKA",
           null,
           "1",
           null
          ],
          [
           "KERALA",
           null,
           "0",
           2
          ],
          [
           "KERALA",
           null,
           "0",
           1
          ],
          [
           "KERALA",
           null,
           "62",
           1
          ],
          [
           "KERALA",
           null,
           "Diffing the dates",
           4
          ],
          [
           "KERALA",
           null,
           "3",
           null
          ],
          [
           "KERALA",
           null,
           "3",
           null
          ],
          [
           "KERALA",
           null,
           "0",
           null
          ],
          [
           "KERALA",
           null,
           "Diffing the dates",
           1
          ],
          [
           "KERALA",
           null,
           "0",
           6
          ],
          [
           "MADHYA PRADESH",
           null,
           "0",
           1
          ],
          [
           "MADHYA PRADESH",
           null,
           "0",
           6
          ],
          [
           "MADHYA PRADESH",
           null,
           "0",
           3
          ],
          [
           "MADHYA PRADESH",
           null,
           "61",
           11
          ],
          [
           "MADHYA PRADESH",
           null,
           "0",
           4
          ],
          [
           "MADHYA PRADESH",
           null,
           "1",
           23
          ],
          [
           "MAHARASHTRA",
           null,
           "0",
           2
          ],
          [
           "MAHARASHTRA",
           null,
           "0",
           2
          ],
          [
           "MAHARASHTRA",
           null,
           "0",
           1
          ],
          [
           "MAHARASHTRA",
           null,
           "0",
           2
          ],
          [
           "MAHARASHTRA",
           null,
           "60",
           11
          ],
          [
           "MAHARASHTRA",
           null,
           "61",
           9
          ],
          [
           "MAHARASHTRA",
           null,
           "30",
           1
          ],
          [
           "MAHARASHTRA",
           null,
           "0",
           2
          ],
          [
           "MAHARASHTRA",
           null,
           "0",
           2
          ],
          [
           "MAHARASHTRA",
           null,
           "1",
           1
          ],
          [
           "MAHARASHTRA",
           null,
           "0",
           9
          ],
          [
           "MAHARASHTRA",
           null,
           "0",
           null
          ],
          [
           "MAHARASHTRA",
           null,
           "0",
           27
          ],
          [
           "MAHARASHTRA",
           null,
           "2",
           2
          ],
          [
           "MAHARASHTRA",
           null,
           "60",
           5
          ],
          [
           "MIZORAM",
           null,
           "0",
           3
          ],
          [
           "MIZORAM",
           null,
           "0",
           5
          ],
          [
           "MIZORAM",
           null,
           "153",
           2
          ],
          [
           "RAJASTHAN",
           null,
           "0",
           2
          ],
          [
           "RAJASTHAN",
           null,
           "0",
           1
          ],
          [
           "RAJASTHAN",
           null,
           "0",
           1
          ],
          [
           "RAJASTHAN",
           null,
           "Diffing the dates",
           14
          ],
          [
           "RAJASTHAN",
           null,
           "4",
           11
          ],
          [
           "RAJASTHAN",
           null,
           "8",
           6
          ],
          [
           "TAMIL NADU",
           null,
           "Diffing the dates",
           3
          ],
          [
           "TAMIL NADU",
           null,
           "0",
           2
          ],
          [
           "TELANGANA",
           null,
           "0",
           null
          ],
          [
           "TELANGANA",
           null,
           "0",
           7
          ],
          [
           "TELANGANA",
           null,
           "265",
           49
          ],
          [
           "TRIPURA",
           null,
           "0",
           null
          ],
          [
           "UTTAR PRADESH",
           null,
           "0",
           5
          ],
          [
           "UTTAR PRADESH",
           null,
           "60",
           26
          ],
          [
           "UTTAR PRADESH",
           null,
           "0",
           10
          ],
          [
           "UTTAR PRADESH",
           null,
           "0",
           3
          ],
          [
           "UTTAR PRADESH",
           null,
           "0",
           8
          ],
          [
           "UTTARAKHAND",
           null,
           "0",
           null
          ],
          [
           "UTTARAKHAND",
           null,
           "0",
           10
          ],
          [
           "UTTARAKHAND",
           null,
           "0",
           5
          ],
          [
           "UTTARAKHAND",
           null,
           "0",
           20
          ],
          [
           "UTTARAKHAND",
           null,
           "1",
           15
          ],
          [
           "UTTARAKHAND",
           null,
           "2",
           11
          ],
          [
           "WEST BENGAL",
           null,
           "0",
           3
          ],
          [
           "WEST BENGAL",
           null,
           "1",
           null
          ],
          [
           "WEST BENGAL",
           null,
           "0",
           3
          ],
          [
           "WEST BENGAL",
           null,
           "6",
           6
          ],
          [
           "ANDHRA PRADESH",
           null,
           "303",
           null
          ],
          [
           "ANDHRA PRADESH",
           null,
           "92",
           4
          ],
          [
           "ARUNACHAL PRADESH",
           null,
           "4",
           1
          ],
          [
           "ASSAM",
           null,
           "6",
           8
          ],
          [
           "ASSAM",
           null,
           "61",
           1
          ],
          [
           "ASSAM",
           null,
           "5",
           1
          ],
          [
           "ASSAM",
           null,
           "7",
           16
          ],
          [
           "ASSAM",
           null,
           "16",
           20
          ],
          [
           "ASSAM",
           null,
           "8",
           45
          ],
          [
           "BIHAR",
           null,
           "13",
           19
          ],
          [
           "BIHAR",
           null,
           "6",
           28
          ],
          [
           "BIHAR",
           null,
           "0",
           1
          ],
          [
           "CHHATTISGARH",
           null,
           "1",
           3
          ],
          [
           "CHHATTISGARH",
           null,
           "0",
           null
          ],
          [
           "CHHATTISGARH",
           null,
           "2",
           6
          ],
          [
           "HIMACHAL PRADESH",
           null,
           "3",
           1
          ],
          [
           "HIMACHAL PRADESH",
           null,
           "7",
           3
          ],
          [
           "HIMACHAL PRADESH",
           null,
           "61",
           4
          ],
          [
           "HIMACHAL PRADESH",
           null,
           "2",
           11
          ],
          [
           "JAMMU & KASHMIR",
           null,
           "0",
           2
          ],
          [
           "JAMMU & KASHMIR",
           null,
           "0",
           null
          ],
          [
           "JAMMU & KASHMIR",
           null,
           "0",
           null
          ],
          [
           "JAMMU & KASHMIR",
           null,
           "0",
           200
          ],
          [
           "JAMMU & KASHMIR",
           null,
           "0",
           null
          ],
          [
           "JHARKHAND",
           null,
           "Diffing the dates",
           null
          ],
          [
           "KARNATAKA",
           null,
           "61",
           null
          ],
          [
           "KARNATAKA",
           null,
           "1",
           5
          ],
          [
           "KARNATAKA",
           null,
           "120",
           5
          ],
          [
           "KARNATAKA",
           null,
           "1",
           2
          ],
          [
           "KARNATAKA",
           null,
           "153",
           4
          ],
          [
           "KARNATAKA",
           null,
           "0",
           2
          ],
          [
           "KARNATAKA",
           null,
           "212",
           8
          ],
          [
           "KARNATAKA",
           null,
           "8",
           15
          ],
          [
           "KARNATAKA",
           null,
           "0",
           1
          ],
          [
           "KARNATAKA",
           null,
           "0",
           1
          ],
          [
           "KARNATAKA",
           null,
           "0",
           1
          ],
          [
           "KARNATAKA",
           null,
           "0",
           1
          ],
          [
           "KARNATAKA",
           null,
           "123",
           4
          ],
          [
           "KARNATAKA",
           null,
           "0",
           1
          ],
          [
           "KARNATAKA",
           null,
           "0",
           1
          ],
          [
           "KERALA",
           null,
           "62",
           null
          ],
          [
           "KERALA",
           null,
           "0",
           null
          ],
          [
           "KERALA",
           null,
           "Diffing the dates",
           6
          ],
          [
           "KERALA",
           null,
           "11",
           null
          ],
          [
           "MADHYA PRADESH",
           null,
           "1",
           7
          ],
          [
           "MADHYA PRADESH",
           null,
           "5",
           16
          ],
          [
           "MAHARASHTRA",
           null,
           "31",
           null
          ],
          [
           "MAHARASHTRA",
           null,
           "0",
           1
          ],
          [
           "MAHARASHTRA",
           null,
           "0",
           null
          ],
          [
           "MAHARASHTRA",
           null,
           "0",
           2
          ],
          [
           "MAHARASHTRA",
           null,
           "0",
           4
          ],
          [
           "MAHARASHTRA",
           null,
           "5",
           1
          ],
          [
           "MAHARASHTRA",
           null,
           "0",
           1
          ],
          [
           "MAHARASHTRA",
           null,
           "0",
           144
          ],
          [
           "MAHARASHTRA",
           null,
           "31",
           3
          ],
          [
           "MAHARASHTRA",
           null,
           "31",
           1
          ],
          [
           "MEGHALAYA",
           null,
           "7",
           45
          ],
          [
           "ODISHA",
           null,
           "1",
           1
          ],
          [
           "ODISHA",
           null,
           "5",
           12
          ],
          [
           "ODISHA",
           null,
           "3",
           3
          ],
          [
           "ODISHA",
           null,
           "161",
           45
          ],
          [
           "ODISHA",
           null,
           "123",
           3
          ],
          [
           "PUNJAB",
           null,
           "183",
           22
          ],
          [
           "RAJASTHAN",
           null,
           "0",
           1
          ],
          [
           "RAJASTHAN",
           null,
           "0",
           2
          ],
          [
           "RAJASTHAN",
           null,
           "0",
           19
          ],
          [
           "RAJASTHAN",
           null,
           "0",
           2
          ],
          [
           "TAMIL NADU",
           null,
           "0",
           1
          ],
          [
           "TAMIL NADU",
           null,
           "61",
           4
          ],
          [
           "TAMIL NADU",
           null,
           "0",
           2
          ],
          [
           "TAMIL NADU",
           null,
           "0",
           2
          ],
          [
           "TAMIL NADU",
           null,
           "0",
           2
          ],
          [
           "TELANGANA",
           null,
           "92",
           4
          ],
          [
           "TELANGANA",
           null,
           "0",
           null
          ],
          [
           "TRIPURA",
           null,
           "6",
           null
          ],
          [
           "UTTAR PRADESH",
           null,
           "13",
           82
          ],
          [
           "UTTARAKHAND",
           null,
           "0",
           6
          ],
          [
           "UTTARAKHAND",
           null,
           "0",
           5
          ],
          [
           "UTTARAKHAND",
           null,
           "0",
           5
          ],
          [
           "ANDHRA PRADESH",
           null,
           "0",
           null
          ],
          [
           "ANDHRA PRADESH",
           null,
           "0",
           12
          ],
          [
           "ANDHRA PRADESH",
           null,
           "9",
           1
          ],
          [
           "ANDHRA PRADESH",
           null,
           "0",
           2
          ],
          [
           "ANDHRA PRADESH",
           null,
           "90",
           4
          ],
          [
           "ANDHRA PRADESH",
           null,
           "1",
           2
          ],
          [
           "ANDHRA PRADESH",
           null,
           "0",
           2
          ],
          [
           "ANDHRA PRADESH",
           null,
           "Diffing the dates",
           null
          ],
          [
           "ANDHRA PRADESH",
           null,
           "8",
           53
          ],
          [
           "ARUNACHAL PRADESH",
           null,
           "3",
           null
          ],
          [
           "ASSAM",
           null,
           "0",
           null
          ],
          [
           "ASSAM",
           null,
           "0",
           null
          ],
          [
           "ASSAM",
           null,
           "4",
           null
          ],
          [
           "ASSAM",
           null,
           "214",
           null
          ],
          [
           "ASSAM",
           null,
           "0",
           null
          ],
          [
           "ASSAM",
           null,
           "Diffing the dates",
           null
          ],
          [
           "ASSAM",
           null,
           "0",
           5
          ],
          [
           "ASSAM",
           null,
           "0",
           null
          ],
          [
           "ASSAM",
           null,
           "31",
           null
          ],
          [
           "ASSAM",
           null,
           "0",
           1
          ],
          [
           "BIHAR",
           null,
           "0",
           5
          ],
          [
           "BIHAR",
           null,
           "0",
           1
          ],
          [
           "BIHAR",
           null,
           "Diffing the dates",
           35
          ],
          [
           "BIHAR",
           null,
           "0",
           5
          ],
          [
           "BIHAR",
           null,
           "0",
           2
          ],
          [
           "BIHAR",
           null,
           "2",
           3
          ],
          [
           "CHHATTISGARH",
           null,
           "0",
           1
          ],
          [
           "CHHATTISGARH",
           null,
           "1",
           2
          ],
          [
           "CHHATTISGARH",
           null,
           "0",
           null
          ],
          [
           "GUJARAT",
           null,
           "0",
           3
          ],
          [
           "GUJARAT",
           null,
           "6",
           13
          ],
          [
           "HIMACHAL PRADESH",
           null,
           "6",
           null
          ],
          [
           "HIMACHAL PRADESH",
           null,
           "30",
           1
          ],
          [
           "HIMACHAL PRADESH",
           null,
           "4",
           1
          ],
          [
           "HIMACHAL PRADESH",
           null,
           "0",
           null
          ],
          [
           "HIMACHAL PRADESH",
           null,
           "120",
           5
          ],
          [
           "HIMACHAL PRADESH",
           null,
           "6",
           5
          ],
          [
           "HIMACHAL PRADESH",
           null,
           "0",
           1
          ],
          [
           "HIMACHAL PRADESH",
           null,
           "0",
           null
          ],
          [
           "JAMMU & KASHMIR",
           null,
           "0",
           null
          ],
          [
           "JAMMU & KASHMIR",
           null,
           "0",
           1
          ],
          [
           "JAMMU & KASHMIR",
           null,
           "0",
           4
          ],
          [
           "JAMMU & KASHMIR",
           null,
           "0",
           null
          ],
          [
           "JAMMU & KASHMIR",
           null,
           "0",
           null
          ],
          [
           "JAMMU & KASHMIR",
           null,
           "0",
           1
          ],
          [
           "JAMMU & KASHMIR",
           null,
           "0",
           12
          ],
          [
           "JAMMU & KASHMIR",
           null,
           "0",
           2
          ],
          [
           "JAMMU & KASHMIR",
           null,
           "0",
           2
          ],
          [
           "JAMMU & KASHMIR",
           null,
           "0",
           1
          ],
          [
           "JHARKHAND",
           null,
           "0",
           2
          ],
          [
           "JHARKHAND",
           null,
           "0",
           2
          ],
          [
           "KARNATAKA",
           null,
           "0",
           1
          ],
          [
           "KARNATAKA",
           null,
           "0",
           1
          ],
          [
           "KARNATAKA",
           null,
           "Diffing the dates",
           8
          ],
          [
           "KARNATAKA",
           null,
           "89",
           7
          ],
          [
           "KARNATAKA",
           null,
           "0",
           2
          ],
          [
           "KARNATAKA",
           null,
           "0",
           2
          ],
          [
           "KARNATAKA",
           null,
           "0",
           null
          ],
          [
           "KARNATAKA",
           null,
           "0",
           1
          ],
          [
           "KARNATAKA",
           null,
           "0",
           1
          ],
          [
           "KARNATAKA",
           null,
           "Diffing the dates",
           19
          ],
          [
           "KERALA",
           null,
           "0",
           null
          ],
          [
           "KERALA",
           null,
           "0",
           null
          ],
          [
           "KERALA",
           null,
           "0",
           null
          ],
          [
           "KERALA",
           null,
           "2",
           null
          ],
          [
           "KERALA",
           null,
           "2",
           null
          ],
          [
           "KERALA",
           null,
           "122",
           null
          ],
          [
           "KERALA",
           null,
           "0",
           null
          ],
          [
           "KERALA",
           null,
           "120",
           null
          ],
          [
           "KERALA",
           null,
           "0",
           null
          ],
          [
           "KERALA",
           null,
           "Diffing the dates",
           null
          ],
          [
           "KERALA",
           null,
           "Diffing the dates",
           7
          ],
          [
           "KERALA",
           null,
           "0",
           2
          ],
          [
           "KERALA",
           null,
           "3",
           null
          ],
          [
           "KERALA",
           null,
           "4",
           3
          ],
          [
           "KERALA",
           null,
           "2",
           10
          ],
          [
           "KERALA",
           null,
           "90",
           null
          ],
          [
           "KERALA",
           null,
           "214",
           2
          ],
          [
           "KERALA",
           null,
           "0",
           null
          ],
          [
           "KERALA",
           null,
           "Diffing the dates",
           3
          ],
          [
           "KERALA",
           null,
           "7",
           null
          ],
          [
           "KERALA",
           null,
           "0",
           4
          ],
          [
           "KERALA",
           null,
           "0",
           1
          ],
          [
           "KERALA",
           null,
           "31",
           null
          ],
          [
           "KERALA",
           null,
           "120",
           null
          ],
          [
           "KERALA",
           null,
           "122",
           null
          ],
          [
           "KERALA",
           null,
           "Diffing the dates",
           null
          ],
          [
           "KERALA",
           null,
           "0",
           null
          ],
          [
           "KERALA",
           null,
           "0",
           null
          ],
          [
           "KERALA",
           null,
           "0",
           null
          ],
          [
           "MADHYA PRADESH",
           null,
           "1",
           7
          ],
          [
           "MADHYA PRADESH",
           null,
           "0",
           5
          ],
          [
           "MADHYA PRADESH",
           null,
           "3",
           12
          ],
          [
           "MADHYA PRADESH",
           null,
           "0",
           1
          ],
          [
           "MAHARASHTRA",
           null,
           "0",
           null
          ],
          [
           "MAHARASHTRA",
           null,
           "0",
           1
          ],
          [
           "MAHARASHTRA",
           null,
           "0",
           1
          ],
          [
           "MAHARASHTRA",
           null,
           "0",
           null
          ],
          [
           "MAHARASHTRA",
           null,
           "0",
           2
          ],
          [
           "MAHARASHTRA",
           null,
           "0",
           2
          ],
          [
           "MAHARASHTRA",
           null,
           "2",
           6
          ],
          [
           "MAHARASHTRA",
           null,
           "6",
           3
          ],
          [
           "MAHARASHTRA",
           null,
           "0",
           5
          ],
          [
           "MAHARASHTRA",
           null,
           "5",
           47
          ],
          [
           "MAHARASHTRA",
           null,
           "0",
           1
          ],
          [
           "MAHARASHTRA",
           null,
           "59",
           14
          ],
          [
           "MAHARASHTRA",
           null,
           "0",
           4
          ],
          [
           "MAHARASHTRA",
           null,
           "0",
           8
          ],
          [
           "MAHARASHTRA",
           null,
           "0",
           null
          ],
          [
           "MIZORAM",
           null,
           "0",
           17
          ],
          [
           "NAGALAND",
           null,
           "0",
           null
          ],
          [
           "ODISHA",
           null,
           "0",
           2
          ],
          [
           "ODISHA",
           null,
           "0",
           2
          ],
          [
           "ODISHA",
           null,
           "0",
           1
          ],
          [
           "ODISHA",
           null,
           "0",
           1
          ],
          [
           "RAJASTHAN",
           null,
           "0",
           3
          ],
          [
           "RAJASTHAN",
           null,
           "0",
           6
          ],
          [
           "RAJASTHAN",
           null,
           "0",
           1
          ],
          [
           "TAMIL NADU",
           null,
           "0",
           4
          ],
          [
           "TAMIL NADU",
           null,
           "0",
           2
          ],
          [
           "TAMIL NADU",
           null,
           "0",
           1
          ],
          [
           "TAMIL NADU",
           null,
           "0",
           11
          ],
          [
           "TAMIL NADU",
           null,
           "0",
           3
          ],
          [
           "TAMIL NADU",
           null,
           "0",
           1
          ],
          [
           "UTTAR PRADESH",
           null,
           "0",
           10
          ],
          [
           "UTTAR PRADESH",
           null,
           "0",
           1
          ],
          [
           "UTTAR PRADESH",
           null,
           "0",
           2
          ],
          [
           "UTTAR PRADESH",
           null,
           "5",
           12
          ],
          [
           "UTTAR PRADESH",
           null,
           "0",
           1
          ],
          [
           "UTTAR PRADESH",
           null,
           "0",
           2
          ],
          [
           "UTTAR PRADESH",
           null,
           "0",
           15
          ],
          [
           "UTTARAKHAND",
           null,
           "4",
           5000
          ],
          [
           "ANDAMAN & NICOBAR ISLANDS",
           null,
           "1",
           1
          ],
          [
           "NEW DELHI",
           null,
           "1",
           null
          ],
          [
           "PUDUCHERRY",
           null,
           "0",
           3
          ],
          [
           "KERALA",
           null,
           "184",
           10
          ],
          [
           "KERALA",
           null,
           "0",
           null
          ],
          [
           "KERALA",
           null,
           "Diffing the dates",
           null
          ],
          [
           "KERALA",
           null,
           "0",
           null
          ],
          [
           "KERALA",
           null,
           "Diffing the dates",
           11
          ],
          [
           "KERALA",
           null,
           "59",
           24
          ],
          [
           "KERALA",
           null,
           "2",
           4
          ],
          [
           "KERALA",
           null,
           "59",
           null
          ],
          [
           "KERALA",
           null,
           "0",
           null
          ],
          [
           null,
           1,
           "4",
           95
          ],
          [
           null,
           1,
           "12",
           340
          ],
          [
           null,
           2,
           "32",
           557
          ],
          [
           null,
           2,
           "2",
           49
          ],
          [
           null,
           1,
           "66",
           258
          ],
          [
           null,
           1,
           "7",
           150
          ],
          [
           null,
           1,
           "18",
           49
          ],
          [
           null,
           1,
           "167",
           76
          ],
          [
           null,
           1,
           "23",
           34
          ],
          [
           null,
           2,
           "123",
           233
          ],
          [
           null,
           1,
           "13",
           97
          ],
          [
           null,
           1,
           "Diffing the dates",
           50
          ],
          [
           null,
           1,
           "23",
           876
          ],
          [
           null,
           2,
           "Diffing the dates",
           731
          ],
          [
           null,
           1,
           "31",
           23
          ],
          [
           null,
           1,
           "9",
           780
          ],
          [
           null,
           2,
           "154",
           31
          ],
          [
           null,
           1,
           "214",
           7
          ],
          [
           null,
           1,
           "1",
           17
          ],
          [
           null,
           1,
           "Diffing the dates",
           430
          ],
          [
           null,
           2,
           "5",
           21
          ],
          [
           null,
           1,
           "139",
           425
          ],
          [
           null,
           1,
           "1",
           17
          ],
          [
           null,
           1,
           "6",
           50
          ],
          [
           null,
           1,
           "1",
           10
          ],
          [
           null,
           1,
           "4",
           44
          ],
          [
           null,
           1,
           "123",
           13
          ],
          [
           null,
           2,
           "61",
           72
          ],
          [
           null,
           1,
           "6",
           25
          ],
          [
           null,
           1,
           "2",
           500
          ],
          [
           null,
           1,
           "4",
           15
          ],
          [
           null,
           1,
           "14",
           88
          ],
          [
           null,
           1,
           "248",
           0
          ],
          [
           null,
           1,
           "1",
           21
          ],
          [
           null,
           1,
           "5",
           90
          ],
          [
           null,
           1,
           "38",
           90
          ],
          [
           null,
           1,
           "Diffing the dates",
           0
          ],
          [
           null,
           1,
           "Diffing the dates",
           16
          ],
          [
           null,
           1,
           "61",
           40
          ],
          [
           null,
           2,
           "Diffing the dates",
           263
          ],
          [
           null,
           1,
           "77",
           238
          ],
          [
           null,
           2,
           "6",
           3083
          ],
          [
           null,
           1,
           "8",
           232
          ],
          [
           null,
           1,
           "Diffing the dates",
           35
          ],
          [
           null,
           1,
           "34",
           95
          ],
          [
           null,
           1,
           "247",
           70
          ],
          [
           null,
           1,
           "198",
           617
          ],
          [
           null,
           1,
           "275",
           60
          ],
          [
           null,
           1,
           "214",
           53
          ],
          [
           null,
           1,
           "61",
           11
          ],
          [
           null,
           1,
           "3",
           9
          ],
          [
           null,
           1,
           "Diffing the dates",
           26
          ],
          [
           null,
           1,
           "Diffing the dates",
           20
          ],
          [
           null,
           1,
           "150",
           0
          ],
          [
           null,
           1,
           "4",
           40
          ],
          [
           null,
           1,
           "Diffing the dates",
           230
          ],
          [
           null,
           1,
           "28",
           40
          ],
          [
           null,
           1,
           "3",
           17
          ],
          [
           null,
           1,
           "254",
           600
          ],
          [
           null,
           1,
           "92",
           35
          ],
          [
           null,
           1,
           "Diffing the dates",
           144
          ],
          [
           null,
           1,
           "3",
           94
          ],
          [
           null,
           1,
           "Diffing the dates",
           63
          ],
          [
           null,
           1,
           "Diffing the dates",
           82
          ],
          [
           null,
           1,
           "83",
           74
          ],
          [
           null,
           1,
           "4",
           326
          ],
          [
           null,
           2,
           "122",
           2500
          ],
          [
           null,
           1,
           "304",
           24
          ],
          [
           null,
           1,
           "6",
           200
          ],
          [
           null,
           1,
           "65",
           273
          ],
          [
           null,
           1,
           "76",
           100
          ],
          [
           null,
           1,
           "68",
           97
          ],
          [
           null,
           1,
           "4",
           26
          ],
          [
           null,
           1,
           "5",
           50
          ],
          [
           null,
           1,
           "5",
           32
          ],
          [
           null,
           1,
           "153",
           6
          ],
          [
           null,
           1,
           "61",
           1126
          ],
          [
           null,
           1,
           "2",
           12
          ],
          [
           null,
           1,
           "283",
           230
          ],
          [
           null,
           1,
           "5",
           45
          ],
          [
           null,
           2,
           "43",
           9803
          ],
          [
           null,
           2,
           "Diffing the dates",
           30
          ],
          [
           null,
           1,
           "Diffing the dates",
           140
          ],
          [
           null,
           1,
           "204",
           637
          ],
          [
           null,
           2,
           "8",
           162
          ],
          [
           null,
           1,
           "16",
           578
          ],
          [
           null,
           1,
           "Diffing the dates",
           40
          ],
          [
           null,
           2,
           "33",
           1468
          ],
          [
           null,
           1,
           "13",
           140
          ],
          [
           null,
           1,
           "47",
           15
          ],
          [
           null,
           1,
           "1",
           29
          ],
          [
           null,
           1,
           "100",
           86
          ],
          [
           null,
           2,
           "62",
           100
          ],
          [
           null,
           1,
           "0",
           26
          ],
          [
           null,
           1,
           "1",
           16
          ],
          [
           null,
           1,
           "81",
           65
          ],
          [
           null,
           1,
           "77",
           146
          ],
          [
           null,
           1,
           "Diffing the dates",
           12
          ],
          [
           null,
           1,
           "5",
           143
          ],
          [
           null,
           1,
           "89",
           11
          ],
          [
           null,
           1,
           "6",
           0
          ],
          [
           null,
           1,
           "1",
           4
          ],
          [
           null,
           1,
           "Diffing the dates",
           169
          ],
          [
           null,
           1,
           "68",
           503
          ],
          [
           null,
           1,
           "Diffing the dates",
           33
          ],
          [
           null,
           1,
           "92",
           22
          ],
          [
           null,
           1,
           "6",
           11
          ],
          [
           null,
           1,
           "Diffing the dates",
           20
          ],
          [
           null,
           1,
           "3",
           4
          ],
          [
           null,
           1,
           "6",
           4
          ],
          [
           null,
           1,
           "Diffing the dates",
           2
          ],
          [
           null,
           1.5,
           "Diffing the dates",
           2
          ],
          [
           null,
           1,
           "54",
           67
          ],
          [
           null,
           1,
           "61",
           45
          ],
          [
           null,
           2,
           "20",
           3000
          ],
          [
           null,
           1,
           "214",
           210
          ],
          [
           null,
           1,
           "100",
           210
          ],
          [
           null,
           1,
           "3",
           6
          ],
          [
           null,
           2,
           "17",
           202
          ],
          [
           null,
           1,
           "Diffing the dates",
           1
          ],
          [
           null,
           1,
           "158",
           62
          ],
          [
           null,
           1,
           "20",
           40
          ],
          [
           null,
           1,
           "Diffing the dates",
           987
          ],
          [
           null,
           1,
           "24",
           126
          ],
          [
           null,
           1,
           "Diffing the dates",
           8
          ],
          [
           null,
           1,
           "4",
           21
          ],
          [
           null,
           1,
           "16",
           89
          ],
          [
           null,
           1,
           "Diffing the dates",
           23
          ],
          [
           null,
           1,
           "49",
           15
          ],
          [
           null,
           1,
           "7",
           13
          ],
          [
           null,
           1,
           "Diffing the dates",
           279
          ],
          [
           null,
           1,
           "3",
           20
          ],
          [
           null,
           1,
           "Diffing the dates",
           41
          ],
          [
           null,
           2,
           "Diffing the dates",
           32
          ],
          [
           null,
           1,
           "54",
           21
          ],
          [
           null,
           1,
           "Diffing the dates",
           160
          ],
          [
           null,
           1,
           "153",
           33
          ],
          [
           null,
           1,
           "92",
           9
          ],
          [
           null,
           1,
           "91",
           24
          ],
          [
           null,
           2,
           "134",
           457
          ],
          [
           null,
           1,
           "274",
           185
          ],
          [
           null,
           1,
           "Diffing the dates",
           42
          ],
          [
           null,
           1,
           "70",
           39
          ],
          [
           null,
           1,
           "Diffing the dates",
           250
          ],
          [
           null,
           1,
           "Diffing the dates",
           47
          ],
          [
           null,
           1,
           "11",
           12
          ],
          [
           null,
           1,
           "8",
           15
          ],
          [
           null,
           1,
           "Diffing the dates",
           127
          ],
          [
           null,
           1,
           "13",
           29
          ],
          [
           null,
           1,
           "151",
           62
          ],
          [
           null,
           1,
           "187",
           225
          ],
          [
           null,
           1.5,
           "199",
           958
          ],
          [
           null,
           1,
           "Diffing the dates",
           96
          ],
          [
           null,
           1,
           "4",
           44
          ],
          [
           null,
           1,
           "172",
           15
          ],
          [
           null,
           1,
           "7",
           12
          ],
          [
           null,
           1,
           "Diffing the dates",
           76
          ],
          [
           null,
           1,
           "Diffing the dates",
           94
          ],
          [
           null,
           1,
           "Diffing the dates",
           80
          ],
          [
           null,
           1.5,
           "7",
           2
          ],
          [
           null,
           1,
           "Diffing the dates",
           29
          ],
          [
           null,
           1,
           "7",
           37
          ],
          [
           null,
           1,
           "4",
           0
          ],
          [
           null,
           1.5,
           "Diffing the dates",
           65
          ],
          [
           null,
           1.5,
           "68",
           350
          ],
          [
           null,
           2,
           "19",
           142
          ],
          [
           null,
           1.5,
           "184",
           74
          ],
          [
           null,
           1.5,
           "Diffing the dates",
           900
          ],
          [
           null,
           2,
           "7",
           2400
          ],
          [
           null,
           1,
           "151",
           0
          ],
          [
           null,
           1,
           "Diffing the dates",
           0
          ],
          [
           null,
           1,
           "92",
           6
          ],
          [
           null,
           1.5,
           "90",
           0
          ],
          [
           null,
           1,
           "12",
           14
          ],
          [
           null,
           1,
           "9",
           0
          ],
          [
           null,
           2,
           "122",
           0
          ],
          [
           null,
           2,
           "76",
           303
          ],
          [
           null,
           1.5,
           "153",
           70
          ],
          [
           null,
           1,
           "2",
           0
          ],
          [
           null,
           2,
           "3",
           0
          ],
          [
           null,
           1.5,
           "42",
           0
          ],
          [
           null,
           1,
           "6",
           27
          ],
          [
           null,
           1,
           "69",
           98
          ],
          [
           null,
           1,
           "Diffing the dates",
           0
          ],
          [
           null,
           1.5,
           "61",
           150
          ],
          [
           null,
           1,
           "142",
           0
          ],
          [
           null,
           1.5,
           "251",
           0
          ],
          [
           null,
           1.5,
           "131",
           1
          ],
          [
           null,
           1.5,
           "12",
           88
          ],
          [
           null,
           1,
           "2",
           0
          ],
          [
           null,
           1.5,
           "Diffing the dates",
           170
          ],
          [
           null,
           1,
           "158",
           4
          ],
          [
           null,
           1,
           "3",
           5
          ],
          [
           null,
           1,
           "196",
           0
          ],
          [
           null,
           1,
           "196",
           0
          ],
          [
           null,
           1.5,
           "47",
           19
          ],
          [
           null,
           2,
           "Diffing the dates",
           47
          ],
          [
           null,
           2,
           "Diffing the dates",
           158
          ],
          [
           null,
           1.5,
           "Diffing the dates",
           7
          ],
          [
           null,
           1.5,
           "19",
           0
          ],
          [
           null,
           1.5,
           "Diffing the dates",
           40
          ],
          [
           null,
           1.5,
           "40",
           109
          ],
          [
           null,
           1,
           "107",
           9
          ],
          [
           null,
           1.5,
           "61",
           30
          ],
          [
           null,
           1,
           "92",
           0
          ],
          [
           null,
           1,
           "4",
           1
          ],
          [
           null,
           2,
           "2",
           45
          ],
          [
           null,
           2,
           "26",
           21
          ],
          [
           null,
           2,
           "122",
           40
          ],
          [
           null,
           1.5,
           "Diffing the dates",
           5748
          ],
          [
           null,
           1,
           "Diffing the dates",
           0
          ],
          [
           null,
           2,
           "22",
           80
          ],
          [
           null,
           2,
           "Diffing the dates",
           27
          ],
          [
           null,
           1.5,
           "Diffing the dates",
           7
          ],
          [
           null,
           1,
           "2",
           0
          ],
          [
           null,
           1,
           "9",
           6
          ],
          [
           null,
           1.5,
           "Diffing the dates",
           31
          ],
          [
           null,
           1.5,
           "Diffing the dates",
           0
          ],
          [
           null,
           1,
           "Diffing the dates",
           1
          ],
          [
           null,
           1.5,
           "47",
           59
          ],
          [
           null,
           1.5,
           "Diffing the dates",
           42
          ],
          [
           null,
           1,
           "5",
           5
          ],
          [
           null,
           1.5,
           "11",
           44
          ],
          [
           null,
           1,
           "4",
           8
          ],
          [
           null,
           1.5,
           "143",
           3
          ],
          [
           null,
           1.5,
           "5",
           81
          ],
          [
           null,
           2,
           "35",
           206
          ],
          [
           null,
           1,
           "88",
           5
          ],
          [
           null,
           2,
           "Diffing the dates",
           180
          ],
          [
           null,
           1.5,
           "Diffing the dates",
           18
          ],
          [
           null,
           1.5,
           "58",
           30
          ],
          [
           null,
           1.5,
           "Diffing the dates",
           20
          ],
          [
           null,
           1.5,
           "60",
           20
          ],
          [
           null,
           1.5,
           "69",
           127
          ],
          [
           null,
           1.5,
           "25",
           17
          ],
          [
           null,
           1,
           "29",
           6
          ],
          [
           null,
           1,
           "5",
           94
          ],
          [
           null,
           1,
           "73",
           39
          ],
          [
           null,
           2,
           "Diffing the dates",
           253
          ],
          [
           null,
           1.5,
           "Diffing the dates",
           4
          ],
          [
           null,
           1.5,
           "1",
           3
          ],
          [
           null,
           1.5,
           "Diffing the dates",
           20
          ],
          [
           null,
           1,
           "135",
           3
          ],
          [
           null,
           1,
           "Diffing the dates",
           20
          ],
          [
           null,
           1.5,
           "153",
           1
          ],
          [
           null,
           1.5,
           "Diffing the dates",
           12
          ],
          [
           null,
           1.5,
           "92",
           20
          ],
          [
           null,
           1.5,
           "242",
           0
          ],
          [
           null,
           1.5,
           "181",
           20
          ],
          [
           null,
           1.5,
           "Diffing the dates",
           11
          ],
          [
           null,
           1,
           "Diffing the dates",
           28
          ],
          [
           null,
           1.5,
           "30",
           7
          ],
          [
           null,
           1.5,
           "122",
           43
          ],
          [
           null,
           1.5,
           "3",
           0
          ],
          [
           null,
           1,
           "16",
           3
          ],
          [
           null,
           1.5,
           "120",
           36
          ],
          [
           null,
           1.5,
           "92",
           0
          ],
          [
           null,
           1.5,
           "123",
           25
          ],
          [
           null,
           1.5,
           "9",
           0
          ],
          [
           null,
           1.5,
           "7",
           0
          ],
          [
           null,
           1,
           "Diffing the dates",
           2
          ],
          [
           null,
           1.5,
           "Diffing the dates",
           30
          ],
          [
           null,
           null,
           "0",
           null
          ],
          [
           null,
           null,
           "0",
           null
          ],
          [
           null,
           null,
           "0",
           null
          ],
          [
           null,
           null,
           "Diffing the dates",
           null
          ],
          [
           null,
           null,
           "Diffing the dates",
           null
          ],
          [
           null,
           null,
           "0",
           null
          ],
          [
           null,
           null,
           "0",
           null
          ],
          [
           null,
           null,
           "Diffing the dates",
           null
          ],
          [
           null,
           null,
           "0",
           null
          ],
          [
           null,
           null,
           "Diffing the dates",
           null
          ],
          [
           null,
           null,
           "Diffing the dates",
           null
          ],
          [
           null,
           null,
           "0",
           null
          ],
          [
           null,
           null,
           "0",
           null
          ],
          [
           null,
           null,
           "Diffing the dates",
           null
          ],
          [
           null,
           null,
           "Diffing the dates",
           null
          ],
          [
           null,
           null,
           "0",
           null
          ],
          [
           null,
           null,
           "Diffing the dates",
           null
          ],
          [
           null,
           null,
           "Diffing the dates",
           null
          ],
          [
           null,
           null,
           "Diffing the dates",
           null
          ],
          [
           null,
           null,
           "Diffing the dates",
           null
          ],
          [
           null,
           null,
           "0",
           null
          ],
          [
           null,
           null,
           "0",
           null
          ],
          [
           null,
           null,
           "Diffing the dates",
           null
          ],
          [
           null,
           null,
           "Diffing the dates",
           null
          ],
          [
           null,
           null,
           "Diffing the dates",
           null
          ],
          [
           null,
           null,
           "Diffing the dates",
           null
          ],
          [
           null,
           null,
           "Diffing the dates",
           null
          ],
          [
           null,
           null,
           "Diffing the dates",
           null
          ],
          [
           null,
           null,
           "Diffing the dates",
           null
          ],
          [
           null,
           null,
           "Diffing the dates",
           null
          ],
          [
           null,
           null,
           "Diffing the dates",
           null
          ],
          [
           null,
           null,
           "0",
           null
          ],
          [
           null,
           null,
           "0",
           null
          ],
          [
           null,
           null,
           "Diffing the dates",
           null
          ],
          [
           null,
           null,
           "Diffing the dates",
           null
          ],
          [
           null,
           null,
           "Diffing the dates",
           null
          ],
          [
           null,
           null,
           "Diffing the dates",
           null
          ],
          [
           null,
           null,
           "0",
           null
          ],
          [
           null,
           null,
           "Diffing the dates",
           null
          ],
          [
           null,
           null,
           "0",
           null
          ],
          [
           null,
           null,
           "Diffing the dates",
           null
          ],
          [
           null,
           null,
           "Diffing the dates",
           null
          ],
          [
           null,
           null,
           "0",
           null
          ],
          [
           null,
           null,
           "Diffing the dates",
           null
          ],
          [
           null,
           null,
           "Diffing the dates",
           null
          ],
          [
           null,
           null,
           "Diffing the dates",
           null
          ],
          [
           null,
           null,
           "Diffing the dates",
           null
          ],
          [
           null,
           null,
           "Diffing the dates",
           null
          ],
          [
           null,
           null,
           "Diffing the dates",
           null
          ],
          [
           null,
           null,
           "Diffing the dates",
           null
          ],
          [
           null,
           null,
           "Diffing the dates",
           null
          ],
          [
           null,
           null,
           "0",
           null
          ],
          [
           null,
           null,
           "Diffing the dates",
           null
          ],
          [
           null,
           null,
           "Diffing the dates",
           null
          ],
          [
           null,
           null,
           "Diffing the dates",
           null
          ],
          [
           null,
           null,
           "Diffing the dates",
           null
          ],
          [
           null,
           null,
           "Diffing the dates",
           null
          ],
          [
           null,
           null,
           "0",
           null
          ],
          [
           null,
           null,
           "Diffing the dates",
           null
          ],
          [
           null,
           null,
           "Diffing the dates",
           null
          ],
          [
           null,
           null,
           "Diffing the dates",
           null
          ],
          [
           null,
           null,
           "Diffing the dates",
           null
          ],
          [
           null,
           null,
           "Diffing the dates",
           null
          ],
          [
           null,
           null,
           "Diffing the dates",
           null
          ],
          [
           null,
           null,
           "Diffing the dates",
           null
          ],
          [
           null,
           null,
           "0",
           null
          ],
          [
           null,
           null,
           "0",
           null
          ],
          [
           null,
           null,
           "Diffing the dates",
           null
          ],
          [
           null,
           null,
           "Diffing the dates",
           null
          ],
          [
           null,
           null,
           "Diffing the dates",
           null
          ],
          [
           null,
           null,
           "Diffing the dates",
           null
          ],
          [
           null,
           null,
           "0",
           null
          ],
          [
           null,
           null,
           "Diffing the dates",
           null
          ],
          [
           null,
           null,
           "0",
           null
          ],
          [
           null,
           null,
           "Diffing the dates",
           null
          ],
          [
           null,
           null,
           "0",
           null
          ],
          [
           null,
           null,
           "Diffing the dates",
           null
          ],
          [
           null,
           null,
           "Diffing the dates",
           null
          ],
          [
           null,
           null,
           "Diffing the dates",
           null
          ],
          [
           null,
           null,
           "0",
           null
          ],
          [
           null,
           null,
           "0",
           null
          ],
          [
           null,
           null,
           "Diffing the dates",
           null
          ],
          [
           null,
           null,
           "17",
           null
          ],
          [
           null,
           null,
           "Diffing the dates",
           null
          ],
          [
           null,
           null,
           "0",
           null
          ],
          [
           null,
           null,
           "Diffing the dates",
           null
          ],
          [
           null,
           null,
           "1",
           null
          ],
          [
           null,
           null,
           "4",
           null
          ],
          [
           null,
           null,
           "Diffing the dates",
           null
          ],
          [
           null,
           null,
           "5",
           null
          ],
          [
           null,
           null,
           "6",
           null
          ],
          [
           null,
           null,
           "2",
           null
          ],
          [
           null,
           null,
           "1",
           null
          ],
          [
           null,
           null,
           "0",
           null
          ],
          [
           null,
           null,
           "38",
           null
          ],
          [
           null,
           null,
           "0",
           null
          ],
          [
           null,
           null,
           "14",
           null
          ],
          [
           null,
           null,
           "1",
           null
          ],
          [
           null,
           null,
           "Diffing the dates",
           null
          ],
          [
           null,
           null,
           "0",
           null
          ],
          [
           null,
           null,
           "5",
           null
          ],
          [
           null,
           null,
           "0",
           null
          ],
          [
           null,
           null,
           "Diffing the dates",
           null
          ],
          [
           null,
           null,
           "23",
           null
          ],
          [
           null,
           null,
           "10",
           null
          ],
          [
           null,
           null,
           "8",
           null
          ],
          [
           null,
           null,
           "Diffing the dates",
           null
          ],
          [
           null,
           null,
           "Diffing the dates",
           null
          ],
          [
           null,
           null,
           "Diffing the dates",
           null
          ],
          [
           null,
           null,
           "0",
           null
          ],
          [
           null,
           null,
           "19",
           null
          ],
          [
           null,
           null,
           "3",
           null
          ],
          [
           null,
           null,
           "0",
           null
          ],
          [
           null,
           null,
           "0",
           null
          ],
          [
           null,
           null,
           "0",
           null
          ],
          [
           null,
           null,
           "4",
           null
          ],
          [
           null,
           null,
           "14",
           null
          ],
          [
           null,
           null,
           "7",
           null
          ],
          [
           null,
           null,
           "24",
           null
          ],
          [
           null,
           null,
           "6",
           null
          ],
          [
           null,
           null,
           "0",
           null
          ],
          [
           null,
           null,
           "Diffing the dates",
           null
          ],
          [
           null,
           null,
           "6",
           null
          ],
          [
           null,
           null,
           "Diffing the dates",
           null
          ],
          [
           null,
           null,
           "5",
           null
          ],
          [
           null,
           null,
           "Diffing the dates",
           null
          ],
          [
           null,
           null,
           "2",
           null
          ],
          [
           null,
           null,
           "0",
           null
          ],
          [
           null,
           null,
           "23",
           null
          ],
          [
           null,
           null,
           "Diffing the dates",
           null
          ],
          [
           null,
           null,
           "0",
           null
          ],
          [
           null,
           null,
           "Diffing the dates",
           null
          ],
          [
           null,
           null,
           "28",
           null
          ],
          [
           null,
           null,
           "8",
           null
          ],
          [
           null,
           null,
           "33",
           null
          ],
          [
           null,
           null,
           "0",
           null
          ],
          [
           null,
           null,
           "17",
           null
          ],
          [
           null,
           null,
           "2",
           null
          ],
          [
           null,
           null,
           "Diffing the dates",
           null
          ],
          [
           null,
           null,
           "12",
           null
          ],
          [
           null,
           null,
           "Diffing the dates",
           null
          ],
          [
           null,
           null,
           "Diffing the dates",
           null
          ],
          [
           null,
           null,
           "0",
           null
          ],
          [
           null,
           null,
           "Diffing the dates",
           null
          ],
          [
           null,
           null,
           "17",
           null
          ],
          [
           null,
           null,
           "68",
           null
          ],
          [
           null,
           null,
           "2",
           null
          ],
          [
           null,
           null,
           "0",
           null
          ],
          [
           null,
           null,
           "3",
           null
          ],
          [
           null,
           null,
           "6",
           null
          ],
          [
           null,
           null,
           "0",
           null
          ],
          [
           null,
           null,
           "121",
           null
          ],
          [
           null,
           null,
           "48",
           null
          ],
          [
           null,
           null,
           "54",
           null
          ],
          [
           null,
           null,
           "0",
           null
          ],
          [
           null,
           null,
           "0",
           null
          ],
          [
           null,
           null,
           "0",
           null
          ],
          [
           null,
           null,
           "4",
           null
          ],
          [
           null,
           null,
           "Diffing the dates",
           null
          ],
          [
           null,
           null,
           "2",
           null
          ],
          [
           null,
           null,
           "2",
           null
          ],
          [
           null,
           null,
           "11",
           null
          ],
          [
           null,
           null,
           "38",
           null
          ],
          [
           null,
           null,
           "0",
           null
          ],
          [
           null,
           null,
           "17",
           null
          ],
          [
           null,
           null,
           "0",
           null
          ],
          [
           null,
           null,
           "3",
           null
          ],
          [
           null,
           null,
           "21",
           null
          ],
          [
           null,
           null,
           "13",
           null
          ],
          [
           null,
           null,
           "0",
           null
          ],
          [
           null,
           null,
           "12",
           null
          ],
          [
           null,
           null,
           "2",
           null
          ],
          [
           null,
           null,
           "24",
           null
          ],
          [
           null,
           null,
           "3",
           null
          ],
          [
           null,
           null,
           "6",
           null
          ],
          [
           null,
           null,
           "3",
           null
          ],
          [
           null,
           null,
           "19",
           null
          ],
          [
           null,
           null,
           "21",
           null
          ],
          [
           null,
           null,
           "1",
           null
          ],
          [
           null,
           null,
           "40",
           null
          ],
          [
           null,
           null,
           "3",
           null
          ],
          [
           null,
           null,
           "54",
           null
          ],
          [
           null,
           null,
           "8",
           null
          ],
          [
           null,
           null,
           "4",
           null
          ],
          [
           null,
           null,
           "3",
           null
          ],
          [
           null,
           null,
           "3",
           null
          ],
          [
           null,
           null,
           "5",
           null
          ],
          [
           null,
           null,
           "29",
           null
          ],
          [
           null,
           null,
           "46",
           null
          ],
          [
           null,
           null,
           "Diffing the dates",
           null
          ],
          [
           null,
           null,
           "15",
           null
          ],
          [
           null,
           null,
           "11",
           null
          ],
          [
           null,
           null,
           "6",
           null
          ],
          [
           null,
           null,
           "9",
           null
          ],
          [
           null,
           null,
           "40",
           null
          ],
          [
           null,
           null,
           "1",
           null
          ],
          [
           null,
           null,
           "0",
           null
          ],
          [
           null,
           null,
           "8",
           null
          ],
          [
           null,
           null,
           "12",
           null
          ],
          [
           null,
           null,
           "5",
           null
          ],
          [
           null,
           null,
           "13",
           null
          ],
          [
           null,
           null,
           "12",
           null
          ],
          [
           null,
           null,
           "13",
           null
          ],
          [
           null,
           null,
           "81",
           null
          ],
          [
           null,
           null,
           "5",
           null
          ],
          [
           null,
           null,
           "7",
           null
          ],
          [
           null,
           null,
           "11",
           null
          ],
          [
           null,
           null,
           "21",
           null
          ],
          [
           null,
           null,
           "5",
           null
          ],
          [
           null,
           null,
           "24",
           null
          ],
          [
           null,
           null,
           "90",
           null
          ],
          [
           null,
           null,
           "4",
           null
          ],
          [
           null,
           null,
           "5",
           null
          ],
          [
           null,
           null,
           "8",
           null
          ],
          [
           null,
           null,
           "40",
           null
          ],
          [
           null,
           null,
           "9",
           null
          ],
          [
           null,
           null,
           "6",
           null
          ],
          [
           null,
           null,
           "7",
           null
          ],
          [
           null,
           null,
           "9",
           null
          ],
          [
           null,
           null,
           "7",
           null
          ],
          [
           null,
           null,
           "19",
           null
          ],
          [
           null,
           null,
           "0",
           null
          ],
          [
           null,
           null,
           "Diffing the dates",
           null
          ],
          [
           null,
           null,
           "17",
           null
          ],
          [
           null,
           null,
           "0",
           null
          ],
          [
           null,
           null,
           "5",
           null
          ],
          [
           null,
           null,
           "2",
           null
          ],
          [
           null,
           null,
           "10",
           null
          ],
          [
           null,
           null,
           "6",
           null
          ],
          [
           null,
           null,
           "0",
           null
          ],
          [
           null,
           null,
           "2",
           null
          ],
          [
           null,
           null,
           "12",
           null
          ],
          [
           null,
           null,
           "12",
           null
          ],
          [
           null,
           null,
           "0",
           null
          ],
          [
           null,
           null,
           "22",
           null
          ],
          [
           null,
           null,
           "34",
           null
          ],
          [
           null,
           null,
           "30",
           null
          ],
          [
           null,
           null,
           "24",
           null
          ],
          [
           null,
           null,
           "48",
           null
          ],
          [
           null,
           null,
           "17",
           null
          ],
          [
           null,
           null,
           "10",
           null
          ],
          [
           null,
           null,
           "31",
           null
          ],
          [
           null,
           null,
           "17",
           null
          ],
          [
           null,
           null,
           "2",
           null
          ],
          [
           null,
           null,
           "5",
           null
          ],
          [
           null,
           null,
           "2",
           null
          ],
          [
           null,
           null,
           "4",
           null
          ],
          [
           null,
           null,
           "2",
           null
          ],
          [
           null,
           null,
           "15",
           null
          ],
          [
           null,
           null,
           "1",
           null
          ],
          [
           null,
           null,
           "22",
           null
          ],
          [
           null,
           null,
           "5",
           null
          ],
          [
           null,
           null,
           "5",
           null
          ],
          [
           null,
           null,
           "2",
           null
          ],
          [
           null,
           null,
           "6",
           null
          ],
          [
           null,
           null,
           "1",
           null
          ],
          [
           null,
           null,
           "Diffing the dates",
           null
          ],
          [
           null,
           null,
           "17",
           null
          ],
          [
           null,
           null,
           "16",
           null
          ],
          [
           null,
           null,
           "7",
           null
          ],
          [
           null,
           null,
           "11",
           null
          ],
          [
           null,
           null,
           "4",
           null
          ],
          [
           null,
           null,
           "1",
           null
          ],
          [
           null,
           null,
           "7",
           null
          ],
          [
           null,
           null,
           "35",
           null
          ],
          [
           null,
           null,
           "6",
           null
          ],
          [
           null,
           null,
           "6",
           null
          ],
          [
           null,
           null,
           "2",
           null
          ],
          [
           null,
           null,
           "2",
           null
          ],
          [
           null,
           null,
           "26",
           null
          ],
          [
           null,
           null,
           "3",
           null
          ],
          [
           null,
           null,
           "6",
           null
          ],
          [
           null,
           null,
           "2",
           null
          ],
          [
           null,
           null,
           "59",
           null
          ],
          [
           null,
           null,
           "44",
           null
          ],
          [
           null,
           null,
           "2",
           null
          ],
          [
           null,
           null,
           "8",
           null
          ],
          [
           null,
           null,
           "2",
           null
          ],
          [
           null,
           null,
           "2",
           null
          ],
          [
           null,
           null,
           "Diffing the dates",
           null
          ],
          [
           null,
           null,
           "29",
           null
          ],
          [
           null,
           null,
           "Diffing the dates",
           null
          ],
          [
           null,
           null,
           "Diffing the dates",
           null
          ],
          [
           null,
           null,
           "20",
           null
          ],
          [
           null,
           null,
           "0",
           null
          ],
          [
           null,
           null,
           "9",
           null
          ],
          [
           null,
           null,
           "7",
           null
          ],
          [
           null,
           null,
           "11",
           null
          ],
          [
           null,
           null,
           "3",
           null
          ],
          [
           null,
           null,
           "2",
           null
          ],
          [
           null,
           null,
           "2",
           null
          ],
          [
           null,
           null,
           "3",
           null
          ],
          [
           null,
           null,
           "13",
           null
          ],
          [
           null,
           null,
           "4",
           null
          ],
          [
           null,
           null,
           "35",
           null
          ],
          [
           null,
           null,
           "1",
           null
          ],
          [
           null,
           null,
           "6",
           null
          ],
          [
           null,
           null,
           "78",
           null
          ],
          [
           null,
           null,
           "3",
           null
          ],
          [
           null,
           null,
           "4",
           null
          ],
          [
           null,
           null,
           "5",
           null
          ]
         ],
         "geo": "geo",
         "hovertemplate": "<b>%{hovertext}</b><br><br>Latitude=%{lat}<br>Longitude=%{lon}<br>State=%{customdata[0]}<br>Severity=%{marker.color}<br>Duration(Days)=%{customdata[2]}<br>Human fatality=%{customdata[3]}<extra></extra>",
         "hovertext": [
          null,
          null,
          null,
          null,
          null,
          null,
          null,
          null,
          null,
          null,
          null,
          null,
          null,
          null,
          null,
          null,
          null,
          null,
          null,
          null,
          null,
          null,
          null,
          null,
          null,
          null,
          null,
          null,
          null,
          null,
          null,
          null,
          null,
          null,
          null,
          null,
          null,
          null,
          null,
          null,
          null,
          null,
          null,
          null,
          null,
          null,
          null,
          null,
          null,
          null,
          null,
          null,
          null,
          null,
          null,
          null,
          null,
          null,
          null,
          null,
          null,
          null,
          null,
          null,
          null,
          null,
          null,
          null,
          null,
          null,
          null,
          null,
          null,
          null,
          null,
          null,
          null,
          null,
          null,
          null,
          null,
          null,
          null,
          null,
          null,
          null,
          null,
          null,
          null,
          null,
          null,
          null,
          null,
          null,
          null,
          null,
          null,
          null,
          null,
          null,
          null,
          null,
          null,
          null,
          null,
          null,
          null,
          null,
          null,
          null,
          null,
          null,
          null,
          null,
          null,
          null,
          null,
          null,
          null,
          null,
          null,
          null,
          null,
          null,
          null,
          null,
          null,
          null,
          null,
          null,
          null,
          null,
          null,
          null,
          null,
          null,
          null,
          null,
          null,
          null,
          null,
          null,
          null,
          null,
          null,
          null,
          null,
          null,
          null,
          null,
          null,
          null,
          null,
          null,
          null,
          null,
          null,
          null,
          null,
          null,
          null,
          null,
          null,
          null,
          null,
          null,
          null,
          null,
          null,
          null,
          null,
          null,
          null,
          null,
          null,
          null,
          null,
          null,
          null,
          null,
          null,
          null,
          null,
          null,
          null,
          null,
          null,
          null,
          null,
          null,
          null,
          null,
          null,
          null,
          null,
          null,
          null,
          null,
          null,
          null,
          null,
          null,
          null,
          null,
          null,
          null,
          null,
          null,
          null,
          null,
          null,
          null,
          null,
          null,
          null,
          null,
          null,
          null,
          null,
          null,
          null,
          null,
          null,
          null,
          null,
          null,
          null,
          null,
          null,
          null,
          null,
          null,
          null,
          null,
          null,
          null,
          null,
          null,
          null,
          null,
          null,
          null,
          null,
          null,
          null,
          null,
          null,
          null,
          null,
          null,
          null,
          null,
          null,
          null,
          null,
          null,
          null,
          null,
          null,
          null,
          null,
          null,
          null,
          null,
          null,
          null,
          null,
          null,
          null,
          null,
          null,
          null,
          null,
          null,
          null,
          null,
          null,
          null,
          null,
          null,
          null,
          null,
          null,
          null,
          null,
          null,
          null,
          null,
          null,
          null,
          null,
          null,
          null,
          null,
          null,
          null,
          null,
          null,
          null,
          null,
          null,
          null,
          null,
          null,
          null,
          null,
          null,
          null,
          null,
          null,
          null,
          null,
          null,
          null,
          null,
          null,
          null,
          null,
          null,
          null,
          null,
          null,
          null,
          null,
          null,
          null,
          null,
          null,
          null,
          null,
          null,
          null,
          null,
          null,
          null,
          null,
          null,
          null,
          null,
          null,
          null,
          null,
          null,
          null,
          null,
          null,
          null,
          null,
          null,
          null,
          null,
          null,
          null,
          null,
          null,
          null,
          null,
          null,
          null,
          null,
          null,
          null,
          null,
          null,
          null,
          null,
          null,
          null,
          null,
          null,
          null,
          null,
          null,
          null,
          null,
          null,
          null,
          null,
          null,
          null,
          null,
          null,
          null,
          null,
          null,
          null,
          null,
          null,
          null,
          null,
          null,
          null,
          null,
          null,
          null,
          null,
          null,
          null,
          null,
          null,
          null,
          null,
          null,
          null,
          null,
          null,
          null,
          null,
          null,
          null,
          null,
          null,
          null,
          null,
          null,
          null,
          null,
          null,
          null,
          null,
          null,
          null,
          null,
          null,
          null,
          null,
          null,
          null,
          null,
          null,
          null,
          null,
          null,
          null,
          null,
          null,
          null,
          null,
          null,
          null,
          null,
          null,
          null,
          null,
          null,
          null,
          null,
          null,
          null,
          null,
          null,
          null,
          null,
          null,
          null,
          null,
          null,
          null,
          null,
          null,
          null,
          null,
          null,
          null,
          null,
          null,
          null,
          null,
          null,
          null,
          null,
          null,
          null,
          null,
          null,
          null,
          null,
          null,
          null,
          null,
          null,
          null,
          null,
          null,
          null,
          null,
          null,
          null,
          null,
          null,
          null,
          null,
          null,
          null,
          null,
          null,
          null,
          null,
          null,
          null,
          null,
          null,
          null,
          null,
          null,
          null,
          null,
          null,
          null,
          null,
          null,
          null,
          null,
          null,
          null,
          null,
          null,
          null,
          null,
          null,
          null,
          null,
          null,
          null,
          null,
          null,
          null,
          null,
          null,
          null,
          null,
          null,
          null,
          null,
          null,
          null,
          null,
          null,
          null,
          null,
          null,
          null,
          null,
          null,
          null,
          null,
          null,
          null,
          null,
          null,
          null,
          null,
          null,
          null,
          null,
          null,
          null,
          null,
          null,
          null,
          null,
          null,
          null,
          null,
          null,
          null,
          null,
          null,
          null,
          null,
          null,
          null,
          null,
          null,
          null,
          null,
          null,
          null,
          null,
          null,
          null,
          null,
          null,
          null,
          null,
          null,
          null,
          null,
          null,
          null,
          null,
          null,
          null,
          null,
          null,
          null,
          null,
          null,
          null,
          null,
          null,
          null,
          null,
          null,
          null,
          null,
          null,
          null,
          null,
          null,
          null,
          null,
          null,
          null,
          null,
          null,
          null,
          null,
          null,
          null,
          null,
          null,
          null,
          null,
          null,
          null,
          null,
          null,
          null,
          null,
          null,
          null,
          null,
          null,
          null,
          null,
          null,
          null,
          null,
          null,
          null,
          null,
          null,
          null,
          null,
          null,
          null,
          null,
          null,
          null,
          null,
          null,
          null,
          null,
          null,
          null,
          null,
          null,
          null,
          null,
          null,
          null,
          null,
          null,
          null,
          null,
          null,
          null,
          null,
          null,
          null,
          null,
          null,
          null,
          null,
          null,
          null,
          null,
          null,
          null,
          null,
          null,
          null,
          null,
          null,
          null,
          null,
          null,
          null,
          null,
          null,
          null,
          null,
          null,
          null,
          null,
          null,
          null,
          null,
          null,
          null,
          null,
          null,
          null,
          null,
          null,
          null,
          null,
          null,
          null,
          null,
          null,
          null,
          null,
          null,
          null,
          null,
          null,
          null,
          null,
          null,
          null,
          null,
          null,
          null,
          null,
          "Bengal",
          "Godavari, Vizagapatnam",
          "Saurashtra",
          null,
          null,
          "Gujarat, Saurashtra, Kutch",
          "Bihar, Uttar Pradesh",
          null,
          "Madya Pradesh, Uttar Pradesh",
          null,
          null,
          "Madras city",
          "Kutch",
          null,
          null,
          "Maduri, Madras City",
          null,
          null,
          null,
          "North",
          "Central, West India",
          "Uttar Pradesh",
          null,
          null,
          null,
          null,
          "Assam, Bihar, Punjab",
          "Andhra Pradesh",
          null,
          null,
          "Manipur, Assam",
          "North, Central",
          "Assam",
          "(1) Rajasthan, Gujarat - (2) North-East, West Bengal, Assam",
          null,
          null,
          "North-East, Western, North",
          "Gujarat, Orissa states",
          "North",
          "Uttar Pradesh",
          "Brahmaputra, Dhemaji, North Lakhimpur, Jorhat, Tezpur sub-divisions",
          null,
          "Tinsukia, Dhemaji, Nowgong, Majuli, Jorhat, Dhubri",
          "Northwest, Bihar",
          "Ganges region",
          "Tamil Nadu",
          "North, Northeast",
          "West Bengal",
          "North West, North, North East",
          "Assam",
          "Tamil Nadu",
          "Uttar Pradesh, Bihar, West Bengal",
          "Assam",
          "Gujarat",
          "Uttar Pradesh, Bihar, Gujarat, Kerala, Haryana",
          "Orissa",
          null,
          null,
          "Northeast",
          "North-East region",
          "Upper Assama, Central Sikkim",
          "Central - Western",
          "Tamil Nadu",
          null,
          "North-East states",
          "West Bengal, Uttar Pradesh, Assam, Bihar",
          "Ladakh area",
          "W Bengal, Uttar Pradesh & Orissa",
          "North-East region",
          "Punjab (Western)",
          "Uttar Pradesh,  West Bengal, Punjab (North, North-West, East India)",
          "Tamil Nadu",
          "Uttar Pradesh, Bihar",
          "Kerala, Assam, Bombay, Karnataka, Goa states",
          "Andhra Pradesh",
          null,
          null,
          "Assam, Bihar, West Bengal",
          " Cachemire",
          " Andhra Pradesh",
          "Uttar Pradesh",
          "Bihar, West Bengal, Assam",
          "Punjab, Himachal Pradesh, Haryana, Jamuu and Kashmir, Delhi",
          "Uttar Pradesh, Assam, Bihar, West Bengal, Arunachal Pradesh",
          "Maharashtra, Andhra Pradesh, Gujarat",
          "Assam, Arunachal Pradesh, Manipur, Mizorem",
          "Jammu, Kargil district (Kashmir)",
          "Tami Nadu state",
          null,
          "Bombay (Assam state)",
          "Assam, Meghalaya states",
          "Bombay, Kerala, Gujarat",
          "Assam, Tripura, Arunachal, Mizorem",
          " Near Thondebhavi (Karnataka)",
          "Kerala state",
          "Andhra Pradesh, Maharashtra, Orissa, Gujarat, Madhya Pradesh",
          "Haryana, Uttar Pradesh, Himachal Pradesh, Bihar states",
          "West Bengal state",
          "Uttar Pradesh, Jammu, Madhya Pradesh",
          "Vamanapuram, Amravilla (Trivadrum district, Kerala state)",
          "Orissa state",
          "Tamil Nadu, Kerala, Karnataka, Andhra Pradesh states",
          "Banda, Allahbad, Kanpur (Uttar Pradesh)",
          "Punjab, Haryana, Himachal Pradesh,  Gujarat, Jammu and Kashmir, Rajasthan, Madhya Pradesh, Chandigarh, Assam  states",
          "Karnataka state",
          "Uttar Pradesh",
          "Tripura, Karamganj (Assam)",
          "Himachal Pradesh",
          "Assam, Arunachal Pradesh, Jammu and Kashmir, Himachal, Punjab, Uttar Pradesh, Goa, Kerala, Gujarat states",
          "New Delhi",
          "Bihar, Haryana, Punjab, Rajasthan, Himachal Pradesh, Jammu and Kasmir, Uttar Pradesh, West Bengal, Maharashtra states",
          "Sikkim state",
          "Andhra Pradesh",
          "Jammu & Kashmir state",
          "Uttar Pradesh",
          "Tamil Nadu, Andhra Pradesh, Kerala, Karnataka states",
          "West Bengal, Arunachal Pradesh, Assam",
          "Bihar, Assam, Gujarat, Haryana, Kerala, Rajasthan, Uttar Pradesh",
          "Kishanganj, Darbhanga, Sitamarhi, Saharsa districts (Bihar state)",
          "Chandigarh, Chirgaon, Himalayan state of Himachal Pradesh.",
          "Coastal districts of West Bengal  (no better info)",
          "Andhra Pradesh, Arunachal Pradesh, Assam, Bihar, Gujarat, Himachal Pradesh, Jammu and Kashmir, Karnataka, Kerala, Maharashtra, Madyha Pradesh, Orissa, Punjab, Rajasthan, Sikkim, Uttar Pradesh, West Bengal states",
          "Mehsana, Gandhi Nagar, Ahmedabad, Kheda, Sabarkanda, Vadodra, Banaskanda, Surender Nagar districts (Gujarat state)",
          "West",
          "Guntoor (Guntur) and Prakasham districts (Andhra Pradesh)",
          "Assam, Arunachal, Bihar, Kerala, Meghalaya, Punjab, Sikkim, Uttar Pradesh, West Bengal states",
          "Gujarat, Maharashtra states",
          "Andhra Pradesh, Hyderabad",
          "Assam, Bihar, Gujarat, Karnataka, Kerala, Tripura, West Bengal, Arunachal Pradesh, Punjab",
          "Uttar Pradesh, Bihar, West Bengal, Madhya Prasdeh, Delhi",
          "Yingkiang,Tuting villages (Upper Siang (70051) district, Arunachal Pradesh province), Along, Boleng villages (70054 district, Arunachal Pradesh province), Pasighat, Sika-bamin, Komlighat, Raneghat (70041 district, Arunachal Pradesh province), Tezu, Mahadevpur villages (Lohit district, Arunachal Pradesh province), Golaghat, Nagaon districts (Assam province),\r\n\r\n",
          "East Siang, 70041, West Siang, 70054, Upper Siang (70051), 70045, 70050, Lower Dibang Valley districts (Arunachal Pradesh province)",
          "Katihar, Sitamarhi districts (Bihar province), Kinnaur district (Himachal Pradesh province), Bankura, Barddhaman, Birbhum, Haora, Hugli, Maldah, Murshidabad, Nadia, North 24 Parganas, West Midnapore districts (West Bengal province), Pithoragarh, Naini Tal districts (Uttarakhand province), Ahmadabad district (Gujarat province), Andhra Pradesh, Assam, Arunachal Pradesh, Madhya Pradesh, Punjab, Uttar Pradesh, Maharashtra, Rajasthan, Chandigarh, Kerala",
          "Adilabad, Cuddapah, East Godavari, Guntur, Hyderabad, Karimnagar, Khammam, Krishna, Kurnool, Mahbubnagar, Medak, Nalgonda, Nellore, Nizamabad, Prakasam, Rangareddi, Vishakhapatnam, Warangal, West Godavari districts (Andhra Pradesh province)",
          "Birbhum, Bardhaman, Murshidabad, Maldah districts (West Bengal province), Dumka, Sahibganj, Deoghar districts (Jharkhand province), Banka, Bhagalpur, Munger, Sheikhpura districts (Bihar province)",
          "North 24 Parganas district (West Bengal province)",
          "Silchar city (Cachar district, Assam province), Patharkandi village (Karimganj district, Assam province), West Tripura district (Tripura province)",
          "Marshagal, Mahakalpada villages (Kendrapara district, Orissa province), Kakatpur, Astaranga, Kanas, Delanga villages (Puri district, Orissa province), Banki, Kantapada villages (Cuttack district, Orissa province), Balipatna villages (Khordha district, Orissa province), Atharmalik villages (Angul district, Orissa province), Jajpur, Jagatsinghpur, Kalahandi, Koraput, Bolangir, Nayagarh, Baleshwar, Bhadrak districts (Orissa province), Dhamtari, Raipur, Mahasamund, Janjgir-Champa, Raigarh districts (Chhattisgarh province)",
          "Hosdurg borough (Kanhangad city, Kasaragod district, Kerala province), Vertak Nagar area (Thane district, Maharashtra province), Bhandup area (Mumbai Suburban district, Maharashtra province)",
          "Idukki, Kottayam, Pattanamtitta, Kollam, Alappuzha districts (Kerala province)",
          "Aurangabad, Bhojpur, Gopalganj, Jehanabad, Muzaffarpur, Nalanda, Pashchim Champaran, Patna, Purba Champaran, Rohtas, Saran, Sitamarhi, Siwan, Vaishali districts (Bihar province)",
          "Delhi province",
          "Gopalganj, Purba Champaran, Pashchim Champaran, Muzaffarpur, Vaishali, Saran districts (Bihar province)",
          "Saran, Gopalganj, Purba Champaran, Madhubani districts (Bihar province), Uttar Pradesh province",
          "Saran, Gopalganj districts (Bihar province)",
          "Barpeta, Bongaigaon, Cachar, Darrang, Dhemaji, Dhuburi, Dibrugarh, Goalpara, Golaghat, Jorhat, Kamrup, Karimganj, Kokrajhar, Lakhimpur, Marigaon, Nagaon, Nalbari, Sibsagar, Sonitpur, Tinsukia districts (Assam province), Araria, Begusarai, Bhagalpur, Darbhanga, Gopalganj, Katihar, Khagaria, Kishanganj, Madhepura, Madhubani, Muzaffarpur, Nalanda, Pashchim Champaran, Patna, Pruba Champaran, Purnia, Saharsa, Samastipur, Saran, Sheikhpura, Sheohar, Sitamarhi, Siwan, Supaul districts (Bihar province), Lahul and Spiti district (Himachal Pradesh province), Balaghat district (Madhya Pradesh province), Tehri Garhwal district (Uttarakhand province), Adilabad, Khammam, Karimnagar districts (Andhra Pradesh province), Jalpaiguri, Kochbihar, Darjiling districts (West Bengal province), Meghalaya, Tripura, Arunachal Pradesh, Gujarat, Kerala, Manipur, Maharashrta provinces ",
          "Tehri Garhwal district (Uttaranchal province), Bihar, Assam, Manipur provinces",
          "Balaghat district (Madhya Pradesh province)",
          "Bharuch district (Gujarat province), Jalgaon, Nasik districts (Maharashtra province)",
          "Kannur, Kasaragod, Kozhikode, Malappuram, Thiruvananthapuram districts (Kerala province)",
          "Chennai, Coimbatore, Cuddalore districts (Tamil Nadu province",
          "Assam, Bihar, Tripura, West Bengal provinces",
          "Khavda, Banni, Natkharana, Lakhpat villages (Kachchh district, Gujarat province)",
          "Cuttack, Jagatsinghpur, Kendrapara, Jajpur, Puri, Bolangir, Sonepur, Kalahandi, Rayagada, Gajapati, Baragarh, Koraput, Nayagarh, Ganjam, Angul districts (Orissa province)",
          "Kullu district (Himachal Pradesh province)",
          "Solang village (Kullu district, Himachal Pradesh)",
          "Uttar Pradesh province",
          "Leimapokpam, Thiyam, Lourembam, Nambol Laitonjam villages (Bishnupur district, Manipur province), Na-Orem, Pukhrambam, Sanjenbam villages (West Imphal district, Manipur province), Oinam, Khangabok villages (Thoubal district, Manipur province)",
          "Darbhanga, Madhubani, Sitamarhi, Banka, Bhagalpur, Muzaffarpur, Sheohar districts (Bihar province), West Tripura, South Tripura districts (Tripura province), Kamrup, Nalbari, Darrang, Sonitpur, Dhemaji, Lakhimpur districts (Assam province), Gujarat, Jammu and Kashmir provinces",
          "Wayanad, Kozhikode, Kannur, Kasaragod districts (Kerala province)",
          "Uttar Pradesh, Himachal Pradesh provinces",
          "Goalpara district (Assam province), Meghalaya, Arunachal Pradesh, West Bengal provinces",
          "Uttarakhand, Gujarat, Maharashtra, Punjab, Haryana, Rajasthan provinces",
          "Mokokchung district (Nagaland province)",
          "Surat, Valsad, Navsari, Bharuch, Vadodara, Surendranagar, The Dangs, Ahmedabad, Anand, Kheda, Amreli, Bhavnagar, Junagadh, Rajkot, Narmada, Jamnagar, Gandhinagar, Sabarkantha districts (Gujarat province)",
          "Digras, Nandgavan villages (Yavatmal district, Maharashtra province)",
          "Sangla, Kalpa, Yangthang, Sumdo, Khab, Karcham, Leo, Akpa, Kharo villages (Kinnaur district, Himachal Pradesh province), Rampur Bushahr village (Shimla district, Himachal Pradesh province), Kullu, Bilaspur, Mandi districts (Himachal Pradesh)",
          "Yingkiong village (Upper Siang (70051) district, Arunachal Pradesh province), Seppa village (East Kameng (70040) district, Arunachal Pradesh province), Anini village (70050 district, Arunachal Pradesh province), Dibrugarh, Sonitpur, Sibsagar, Dhemaji, Tinsukia, Karimganj, Lakhimpur, Jorhat, Morigaon, Dhuburi, Goalpara, Barpeta districts (Assam province), Bahraich, Shravasti, Banda, Ballia, Lakhimpur Kheri, Kanpur, Varanasi, Mainpuri districts (Uttar Pradesh province), Haridwar, Uttarkashi, Naini Tal, Dehran Dun districts (Uttarakhand province), Muzaffarpur, Darbhanga, Madhubani districts (Bihar province), Birbhum district (West Bengal province)",
          "Ashoknagar, Chhatarpur, Damoh, Jabalpur, Katni, Narsinghpur, Panna, Rewa, Sagar, Satna districts (Madhya Pradesh province)",
          "Adilabad, Hyderabad, Karimnagar, Khammam, Mahbubnagar, Medak, Nalgonda, Nizamabad, Rangareddi, Warangal, East Godavari, Guntur, Krishna, Nellore, Prakasam, Srikakulam, Vishakhapatnam, Vizianagaram, West Godavari districts (Andhra Pradesh province)",
          "Gujarat, Madhya Pradesh, Maharashtra, Goa, Orissa, Karnataka, Himachal Pradesh, Jammu and Kashmir provinces",
          "Azamgarh district (Uttar Pradesh province)",
          "Karnataka, Andhra Pradesh provinces",
          "Himachal Pradesh, Uttar Pradesh, Uttarakhand provinces",
          "Raj Nandgaon, Durg districts (Chhattisgarh province), Baleshwar, Bhadrak, Jajpur districts (Orissa province), Bhandara, Gondiya, Nagpur districts (Maharashtra province), Balaghat, Katni, Jabalpur, Seoni districts (Madhya Pradesh province)",
          "East Midnapore, South 24 Parganas, Barddhaman, Nadia districts (West Bengal province), Baleshwar district (Orissa province)",
          "Surat, Vadodara, Bhavnagar, Panch Mahals, Narmada districts (Gujarat province)",
          "Salem, Namakkal, Karur, Erode, Tiruchchirappalli, Vellore, Perambalur, Nagapattinam, Kanniyakumari, Dharmapuri, Madurai, Villupuram, Chennai, Cuddalore districts (Tamil Nadu province), Karaikal district (Puducherry province), Bangalore Rural, Bangalore Urban, Mysore districts (Karnataka province), Nellore, Chittoor, Vishakhapatnam, Srikakulam, Vizianagaram, Cuddapah districts (Andhra Pradesh province), West Bengal, Orissa provinces",
          "Tamil Nadu province",
          "Himachal Pradesh, Punjab, Jammu and Kashmir, Haryana provinces",
          "Adilabad, Hyderabad, Karimnagar, Khammam, Mahbubnagar, Medak, Nalgonda, Nizamabad, Rangareddi, Warangal, Srikakulam, Krishna districts (Andhra Pradesh province)",
          "Assam, Tripura provinces",
          "Kerala province",
          "Maharashtra, Gujarat provinces",
          "Ballia, Chandauli districts (Uttar Pradesh province)",
          "Navsari, The Dangs districts (Gujarat)",
          "Gajapati, Rayagada districts (Orissa province)",
          "Jammu and Kashmir provinces",
          "Andhra Pradesh, Gujarat, Maharashtra, Chhattisgarh, Rajasthan, Madhya Pradesh, Orissa, Karnataka provinces",
          "Gujarat province",
          "Barmer, Jaisalmer, Kota, Udaipur districts (Rajasthan province)",
          "Jammu and Kashmir provinces",
          "Balrampur, Bahraich, Lakhimpur Kheri, Shravasti, Gonda, Bara Banki districts (Uttar Pradesh province)",
          "Tamil Nadu, Andhra Pradesh provinces",
          "Orissa, Andhra Pradesh, Chhattisgarh provinces",
          "Madhya Pradesh, Maharashtra, Rajasthan provinces",
          "Madhya Pradesh province",
          "Lakhimpur, Dhemaji, Cachar, Karimganj, Hailakandi, Darrang, Dibrugarh districts (Assam province)",
          "Junagadh district (Daman and Diu province), Amreli, Bhavnagar, Jamnagar, Junagadh, Porbandar, Rajkot, Surendranagar districts (Gujarat province), Rajasthan, Madhya Pradesh",
          "Amravati, Mumbai City, Mumbai Suburban, Raigarh, Ratnagiri, Sindhudurg, Thane districts (Maharashtra province)",
          "Raipur, Bilaspur, Mahasamund, Durg districts (Chhattisgarh province)",
          "Kurnool, Mahbubnagar, Guntur, Prakasam, East Godavari, West Godavari, Anantapur, Cuddapah districts (Andhra Pradesh province), Thrissur district (Kerala province), Belgaum, Bijapur, Bagalkot, Kodagu, Hassan, Mysore districts (Karnataka province), Mumbai City, Pune districts (Maharashtra province)",
          "Udaipur, Amarpur cities (South Tripura district, Tripura province), Sonamura citiy (West Tripura district, Tripura province)",
          "Bihar, Uttar Pradesh, Assam, Orissa, West Bengal provinces",
          "Himachal Pradesh province",
          "Gujarat province",
          "Baleshwar, Kendrapara, Bhadrak, Jagatsinghpur, Jajpur, Mayurbhanj, Khordha, Cuttack, Puri, Kandhamal districts (Orissa province), Kolkata, South 24 Parganas, East Midnapore, West Midnapore, Hughli districts (West Bengal province)",
          "Kurnool, Cuddapah, Warangal, Nalgonda, Karimnagar, Mahbubnagar, Anantapur, Nellore, Krishna districts (Andhra Pradesh province), Gadag district (Karnataka province)",
          "Andhra Pradesh, Tamil Nadu province",
          "Cuttack, Puri, Khordha, Jajpur, Jagatsinghpur districts (Orissa province)",
          "Assam, Arunachal Pradesh, Meghalaya, Manipur provinces",
          "Kerala province",
          "Rajasthan, Uttar Pradesh, Madhya Pradesh, Jammu and Kashmir provinces",
          "Tamil Nadu, Karnataka provinces",
          "Lakhimpu, Dhemaji, Sonitpur districts (Assam province), West Bengal, Orissa, Bihar, Gujarat, Goa, Haryana, Kerala, Karnataka, Maharastra, Madhya Pradesh, Punjab, Rajasthan, Uttar Pradesh, Tamil Nadu, Arunachal Pradesh, Uttarakhand, Jharkhand provinces",
          "Assam, Bihar, Gujarat, Goa, Haryana, Jharkhand, Kerala, Karnataka, Maharashtra, Madhya Pradesh, Punjab, Orissa, Rajasthan, Uttarakhand, Uttar Pradesh, Tamil Nadu, West Bengal provinces",
          "Khammam, West Godavari, Krishna, Guntur districts (Andhra Pradesh province)",
          "Orissa, Uttar Pradesh, Himachal Pradesh provinces",
          "Muzaffarpur, Supaul, Patna, Katihar, Nalanda, Araria, Pashchim Champaran, Sheikhpura, Saharsa, Purnia, Saran, Begusarai, Bhagalpur, Madhepura, Vaishali, Khagaria districts (Bihar province), Assam province",
          "Thiruvallur, Thoothukudi, Villupuram, Ramanathapuram, Tirunelveli Kattabo, Pudukkottai, Kanniyakumari, Nagapattinam, Cuddalore, Chennai districts (Tamil Nadu province), Puducherry, Karaikal districts (Puducherry province)",
          "Lakhimpur, Jorhat districts (Assam province), Uttar Pradesh, Bihar provinces",
          "Delhi province",
          "Bihar, Orissa, West Bengal, Assam, Kerala, Gujarat, Karnataka provinces",
          "Belgaum, Gulbarga, Bijapur, Raichur, Dharwad, Bagalkot, Bellary, Koppal, Haveri, Bidar, Gadag, Davanegere, Uttar Kannand, Dakshin Kannad districts (Karnataka province), Kurnool, Mahbubnagar, Karimnagar, Anantapur, Krishna, Cuddapah, Guntur, Khammam, Nalgonda districts (Andhra Pradesh province), Maharashtra province",
          "Jainta Hills district (Meghalaya province)",
          "Ooty, Coonoor cities (Nilgiris district, Tamil Nadu)",
          "Darbhanga, Purnia, Sitamarhi, Saharsa, Madhubani districts (Bihar province)",
          "Ambala, Kurukshetra districts (Haryana province), Punjab, Kerala provinces",
          "Andhra Pradesh province",
          "Delhi province",
          "Leh, Cholglamsar villages (72785 district, Jammu and Kashmir province)",
          "Lakhimpur district (Assam province)",
          "Almora, Naini Tal districts (Uttarakhand province), Bihar, Uttar Pradesh provinces",
          "Punjab, Haryana, Uttar Pradesh provinces",
          "Chennai, Cuddalore, Nagapattinam, Pudukottai, Ramanthapuram, Thanjavur, Thiruvallur, Villupuram, Thoothukudi, Tirunelveli Kattabo districts (Tamil Nadu province)",
          "West Bengal province",
          "Angul, Baleshwar, Baragarh, Bhadrak, Boudh, Cuttack, Deogarh, Dhenkanal, Jajpur, Jagatsinghpur, Jharsuguda, Kendrapara, Khordha, Mayurbhanj, Nayagarh, Nuapada, Puri, Sambalpur districts (Orissa province)",
          "Dhemaji district (Assam province), East Garo Hills, South Garo Hills, West Garo Hills districts (Meghalaya province)",
          "Barpeta, Bongaigaon, Darrang, Dhemaji, Dhuburi, Golaghat, Jorhat, Karbi Anglong, Sibsagar, Lakhimpur, Nagaon, Sonitpur districts, (Assam province), Begusarai, Bhagalpur, Bhojpur, Buxar, Gopalganj, Katihar, Khagaria, Kishanganj, Lakhisarai, Madhubani, Madhepura, Muzaffarpur, Patna, Purnia, Samastipur, Saran, Saharsa, Sitamarhi, Supaul, Vaishali, Pashchim Champaran districts (Bihar province), Azamgarh, Aligarh, Ambedkar Nagar, Badaun, Ballia, Bara Banki, Bahraich, Bareilly, Bijnor, Faizabad, Farrukhabad, Ghazipur, Gonda, Gorakhpur, Hardoi, Jyotiba Phule Nagar, Kannauj, Kanpur, Kushinagar, Lakhimpur Kheri, Meerut, Muzaffarnagar, Moradabad, Pilibhit, Rampur, Shahjahanpur, Sitapur, Unnao districts (Uttar Pradesh province)",
          "Gonda, Balrampur, Faizabad, Bara Banki districts (Uttar Pradesh province), Rajasthan province",
          "Orissa province",
          "Uttar Pradesh, Uttarakhand province",
          "Anjaw (70044), Lohit, Changlang, 70045, 70050, Lower Dibang Valley, East Siang, Upper Siang (70051) districts (Arunachal Pradesh province), Assam province",
          "Jaipur, Dhaulpur, Dausa, Tonk, Jhunjhunun, Sikar, Hanumangarh, Bikaner districts (Rajasthan province), Anjaw (70044), 70045, 70050, Lower Dibang Valley, Upper Siang (70051) districts (Arunachal Pradesh province)",
          "Palchan village (Kullu district, Himachal Pradesh province), Uttarkashi, Rudra Prayag, Chamoli districts (Uttarakhand province), Moradabad district (Uttar Pradesh province), Kathua village (72780 district, Jammu and Kashmir province)",
          "Rudra Prayag, Bageshwar districts (Uttarakhand province)",
          " Barpeta, Bongaigaon, Darrang, Dhemaji, Dhuburi, Dibrugarh, Goalpara, Golaghat, Jorhat, Kamrup, Lakhimpur, Marigaon, Nagaon, Nalbari, Papum Pare, Sibsagar, Sonitpur, Tinsukia districts (Assam province), Bhagalpur, Darbhanga, Katihar, Khagaria, Muzaffarpur, Patna, Siwan, Supaul districts (Bihar province), Sahibganj district (Jharkhand province), North Sikkim district (Sikkim province), Ballia, Bara Banki, Faizabad districts (Uttar Pradesh province), Murshidabad district (West Bengal province), West Siang, East Siang, Lohit, Papum Pare districts (Arunachal Pradesh province)",
          "Himachel Pradesh province",
          "Uttarakhand, Himachal Pradesh, Uttar Pradesh, Bihar, Karnataka, Kerala, Gujarat, West Bengal provinces",
          "Sultanpur, Sitapur, Rae Bareli, Bara Banki, Faizabad, Gorakhpur, Basti, Kushinagar, Bahraich, Gonda, Shravasti districts (Uttar Pradesh province)",
          "Dhemaji, Tinsukia, Nagaon, Golaghat, Jorhat, Kamrup, Karimganj, Lakhimpur, Morigaon, Sibsaga, Bongaigaon, Kokrajhar districts (Assam province)",
          "Bhopal, Hoshangabad, Seoni, Narsinghpur, Jabalpur districts (Madhya Pradesh province), Uttar Pradesh, Assam provinces",
          "Orissa, Andhra Pradesh, West Bengal provinces",
          "Assam province",
          "Uttarakhand, Himachal Pradesh provinces",
          "Orissa province",
          "Jammu and Kashmir provinces",
          "Tura village (West Garo Hills district, Meghalaya province), Goalpara, Kamrup districts (Assam province)",
          "Shravasti, Balrampur, Sitapur, Lakhimpur Kheri, Gonda, Bara Banki, Faizabad, Azamgarh districts (Uttar Pradesh province), Uttarakhand, Bihar, Assam provinces",
          "Odisha province",
          "Chadoora village (72811 district, Jammu and Kashmir province)",
          "Bhadrairuppu village (Virudhunagar district, Tamil Nadu province)",
          "Amreli, Rajkot, Surat districts (Gujarat province), Maharashtra province",
          "Mirik, Kalimpong, Darjeeling villages (Darjiling district, West Bengal province), ",
          "Kachchh, Patan, Banas Kantha districts (Gujarat province), Malda, Jalpaiguri districts (West Bengal province), Jorhat, Dhemaji, Lakhimpur, Dhuburi, Darrang, Goalpara, Karbi Anglong, Marigaon districts (Assam province), Manipur, Orissa, Rajasthan, Madhya Pradesh provinces",
          "Rajasthan, Uttar Pradesh, Jammu and Kashmir, Arunachal Pradesh, Uttarakhand, Punjab, Haryana, Himachal Pradesh provinces",
          "Assam province",
          "Dhemaji, Kokrajhar, Bongaigaon, Sonitpur, Barpeta, Goalpara, Marigaon, Cachar, Lakhimpur, Jorhat, Tinsukia, Darrang, Nalbari, Kamrup, Dibrugarh, Sibsagar districts (Assam province)\r\n",
          "Sonitpur, Lakhimpur, Kokrajhar, Dhemaji districts (Assam province), Arunachal Pradesh province \r\n",
          "Chittoor, Cuddapah, Prakasam, Nellore districts (Andhra Pradesh province), Chennai, Cuddalore, Nagapattinam, Kancheepuram, Thiruvallur, Villupuram districts (Tamil Nadu province), Puducherry province",
          "Arunachal Pradesh, Assam, Nagaland provinces",
          "Chamoli, Pithoragahr districts (Uttarakhand province), Assam, Arunachal Pradesh provinces",
          "Lakhimpur, Golaghat, Jorhat, Barpeta, Bongaigaon, Goalpara, Dhubri, Marigaon, Darrang, Nalbari districts (Assam province)",
          "Biha, Uttar Pradeshr province (Varanasi, Allahabad, Ghazipur, Ballia,  Banda, Jalaun, Ghaziabad, Patna, Bhagalpur, Vaishali, Buxar, Bhojpur, Sonepur, Saran, Begusarai, Samastipur, Lakhisarai, Khagaria, Munger, Nalanda, Katihar, Purnea, Katihar, Supual, Kisanganj, Madhepura, Gopalganj, Saharsa, Araria, East Champaran, Muzafferpur, Kishanganj, Purnea, Araria, Supaul, Bhagalpur, Darbhanga)",
          "Bhopal, Hoshangabad, Rewa, Sagar, Shajapur, Jabalpur, Satna, Harda, Panna, Vidisha, Raisen, Mandla, Tikamgarh, Seoni, Damoh, Sehore, Agar-Malwa  districts (Madhya Pradesh province)",
          "Maharashtra (Nashik, Raigad (Mahad), Thane (Bhiwandi), Ratnagiri, Pune, Satara, Kolhapur), Gujarat (Valsad, Chhota Udepur (Vadodara), Navsari and Surat)",
          "Andhra Pradesh province, Telangana",
          "Jorhat, Golaghat (Assam State)",
          "Lakhimpur, Karimganj, Darrang districts (Assam), Nagaland, Manipur, Jharkhand",
          "Gujarat",
          "Lakhimpur, Bangaigaon, Jorhat, Golaghat, Cachar, Dhemjai, Biswanath, Karimganj, Barpeta, Karbi Anglong, Sonitpur, Darrang, Hojai (Sub Division), Bhuragaon (Sub Division), Majuli, Nagaon, Nalbari, Sivasagar, Morigaon, Chirang, Dibrugarh, Dhubri, Kokrajhar, South Salmara, Charaideo, Goalpara districts (Assam)",
          "Imphal West, Imphal East, Thoubal, Bishnupur (Manipur)",
          "Banaskantha, Valsad, Navsari, Surat, Sabarkantha, Patan (Gujarat), Barmer, Jalore, Udaipur, Sirohi, Pali (Rajasthan), Kolkata (West Bengal)",
          "Araria, Jogbani (Bihar); Uttar Pradesh, West Bengal",
          "Mumbai (Dadar, Khar, Bandra, Lalbaug, Kalina, Sion, Byculla, Matunga, Wadala, Parel, Khar-Danda, Pali Hill, Carter Road, Bandra, Ghatkopar, Bhandup, Mulund, and Santacruz), Thane (Maharashtra)",
          "Chenai (Tamil Nadu)",
          "Uttar Pradesh (Siddharthnagar, Balarampur, Bahraich, Shravasti, Maharajganj, Barabanki, Lakhimpur Kheri, Gorakhpur, Muzaffarnagar, Gonda, Basti, Mirzapur, Khiri, Deoria, Sitapur, Bijnore, Faizabad, Pilibhit, Farrukhabad, Mau, Kushinagar, Badaun, Ambedkar nagar, Azamgarh, Santkabir Nagar, Ghazipur, Balia)",
          "Assam, Maharashtra, Gujarat",
          "Tripura state",
          " Dakshina Kannada and Udupi districts",
          "Uttar Pradesh, Rajasthan",
          "Odisha state",
          "Thrissur, Chengannur (Kerala state); West Bengal, Odisha, Assam, Nagaland, Uttar Pradesh, Himachal Pradesh, Maharashtra states",
          "Biswanath, Udalguri, Golaghat, Sivassagar/Charaideo, Barpeta, Lakhimpu, Dhemaji, Darrang (Assam, West Bengal)",
          "Uttar Pradesh",
          "Punjab, Haryana states",
          "Mumbai, Pune, Ratnagiri Districts (Maharashtra State)",
          "Sitamarhi, Sheohar, East Champaran, Muzaffarpur, Madhubani, Darbhanga, Supaul, Araria, Sahersa , Katihar, Purnia, Kishanganj districts (Bihar); Dhemaji, Lakhimpur, Biswanath, Barpeta, Chirang, Golaghat Jorhat, Sonitpur, Darrang, Nalbari, Bongaigaon, Morigaon, Nagaon, Majuli, Baksa, Kokrajhar, Dhubri, South Salmara, Goalpara, Kamrup, Hojai, Sivsagar, Tinsukia, Cachar, KarbiAnglrng, West Karbi-Anglong, Hailakandi,  Dibrugarh districts (Assam); Maharashtra, Kerala, Rajasthan, West Bengal, Karnataka, Uttarakand, Himachal Pradesh, Punjab, Uttar Pradesh, Odisha",
          "West Bengal, Kerala, Odisha, Maharashtra",
          "Belagavi, Gadag, Koppal districts (Karnataka); Kerala, Tamil Nadu states",
          "Coimbatore, Cuddalore, Nagapattinam, Thoothukkudi Districts (Tamil Nadu); Pudducherry"
         ],
         "lat": [
          null,
          null,
          null,
          null,
          null,
          null,
          null,
          null,
          null,
          null,
          null,
          null,
          null,
          null,
          null,
          null,
          null,
          null,
          null,
          null,
          null,
          null,
          null,
          null,
          null,
          null,
          null,
          null,
          null,
          null,
          null,
          null,
          null,
          null,
          null,
          null,
          null,
          null,
          null,
          null,
          null,
          null,
          null,
          null,
          null,
          null,
          null,
          null,
          null,
          null,
          null,
          null,
          null,
          null,
          null,
          null,
          null,
          null,
          null,
          null,
          null,
          null,
          null,
          null,
          null,
          null,
          null,
          null,
          null,
          null,
          null,
          null,
          null,
          null,
          null,
          null,
          null,
          null,
          null,
          null,
          null,
          null,
          null,
          null,
          null,
          null,
          null,
          null,
          null,
          null,
          null,
          null,
          null,
          null,
          null,
          null,
          null,
          null,
          null,
          null,
          null,
          null,
          null,
          null,
          null,
          null,
          null,
          null,
          null,
          null,
          null,
          null,
          null,
          null,
          null,
          null,
          null,
          null,
          null,
          null,
          null,
          null,
          null,
          null,
          null,
          null,
          null,
          null,
          null,
          null,
          null,
          null,
          null,
          null,
          null,
          null,
          null,
          null,
          null,
          null,
          null,
          null,
          null,
          null,
          null,
          null,
          null,
          null,
          null,
          null,
          null,
          null,
          null,
          null,
          null,
          null,
          null,
          null,
          null,
          null,
          null,
          null,
          null,
          null,
          null,
          null,
          null,
          null,
          null,
          null,
          null,
          null,
          null,
          null,
          null,
          null,
          null,
          null,
          null,
          null,
          null,
          null,
          null,
          null,
          null,
          null,
          null,
          null,
          null,
          null,
          null,
          null,
          null,
          null,
          null,
          null,
          null,
          null,
          null,
          null,
          null,
          null,
          null,
          null,
          null,
          null,
          null,
          null,
          null,
          null,
          null,
          null,
          null,
          null,
          null,
          null,
          null,
          null,
          null,
          null,
          null,
          null,
          null,
          null,
          null,
          null,
          null,
          null,
          null,
          null,
          null,
          null,
          null,
          null,
          null,
          null,
          null,
          null,
          null,
          null,
          null,
          null,
          null,
          null,
          null,
          null,
          null,
          null,
          null,
          null,
          null,
          null,
          null,
          null,
          null,
          null,
          null,
          null,
          null,
          null,
          null,
          null,
          null,
          null,
          null,
          null,
          null,
          null,
          null,
          null,
          null,
          null,
          null,
          null,
          null,
          null,
          null,
          null,
          null,
          null,
          null,
          null,
          null,
          null,
          null,
          null,
          null,
          null,
          null,
          null,
          null,
          null,
          null,
          null,
          null,
          null,
          null,
          null,
          null,
          null,
          null,
          null,
          null,
          null,
          null,
          null,
          null,
          null,
          null,
          null,
          null,
          null,
          null,
          null,
          null,
          null,
          null,
          null,
          null,
          null,
          null,
          null,
          null,
          null,
          null,
          null,
          null,
          null,
          null,
          null,
          null,
          null,
          null,
          null,
          null,
          null,
          null,
          null,
          null,
          null,
          null,
          null,
          null,
          null,
          null,
          null,
          null,
          null,
          null,
          null,
          null,
          null,
          null,
          null,
          null,
          null,
          null,
          null,
          null,
          null,
          null,
          null,
          null,
          null,
          null,
          null,
          null,
          null,
          null,
          null,
          null,
          null,
          null,
          null,
          null,
          null,
          null,
          null,
          null,
          null,
          null,
          null,
          null,
          null,
          null,
          null,
          null,
          null,
          null,
          null,
          null,
          null,
          null,
          null,
          null,
          null,
          null,
          null,
          null,
          null,
          null,
          null,
          null,
          null,
          null,
          null,
          null,
          null,
          null,
          null,
          null,
          null,
          null,
          null,
          null,
          null,
          null,
          null,
          null,
          null,
          null,
          null,
          null,
          null,
          null,
          null,
          null,
          null,
          null,
          null,
          null,
          null,
          null,
          null,
          null,
          null,
          null,
          null,
          null,
          null,
          null,
          null,
          null,
          null,
          null,
          null,
          null,
          null,
          null,
          null,
          null,
          null,
          null,
          null,
          null,
          null,
          null,
          null,
          null,
          null,
          null,
          null,
          null,
          null,
          14.5398,
          32.8353,
          26.4816,
          21.1495,
          25.6339,
          17.4331,
          23.6547,
          26.4813,
          26.988,
          28.886,
          22.0189,
          18.4311,
          26.5037,
          30.9339,
          19.1131,
          15.1816,
          24.8678,
          26.4375,
          33.8036,
          16.2843,
          26.7553,
          26.7055,
          27.5435,
          22.4257,
          26.0747,
          11.3982,
          24.4696,
          15.733,
          26.6059,
          20.9474,
          20.2047,
          28.3671,
          24.707,
          24.3395,
          14.0025,
          16.5216,
          26.9122,
          20.5033,
          24.8678,
          13.0242,
          24.9382,
          25.1622,
          27.9917,
          13.407,
          11.054,
          12.5851,
          20.6258,
          31.7869,
          27.586,
          31.7821,
          31.7668,
          20.7866,
          31.5294,
          20.1358,
          10.7214,
          16.2498,
          23.2582,
          26.0363,
          28.2424,
          27.5887,
          22.4615,
          16.4132,
          26.5766,
          27.4105,
          24.7685,
          15.0341,
          17.0009,
          24.0572,
          31.7905,
          22.4404,
          9.49041,
          26.0909,
          33.9398,
          18.8234,
          16.9874,
          13.8493,
          24.0181,
          20.4037,
          16.1464,
          23.3997,
          21.1735,
          27.4268,
          31.806,
          27.094,
          17.1335,
          26.9607,
          19.9343,
          24.0841,
          15.811,
          24.4457,
          22.8284,
          9.72651,
          21.0559,
          30.7738,
          32.6061,
          26.7556,
          26.5321,
          16.746,
          14.8405,
          10.4517,
          27.8034,
          22.342,
          20.8681,
          25.8418,
          30.5622,
          21.5391,
          11.8739,
          10.9485,
          12.9158,
          21.3961,
          21.9811,
          19.1881,
          20.6258,
          12.1226,
          25.4989,
          21.0247,
          24.6862,
          31.6718,
          21.433,
          20.9765,
          24.1288,
          27.4363,
          17.9836,
          16.9772,
          20.9915,
          25.886,
          21.1139,
          28.1973,
          21.7139,
          21.9409,
          11.7804,
          17.4335,
          18.7332,
          10.5443,
          26.5993,
          25.6151,
          19.1719,
          19.1028,
          22.4114,
          20.1943,
          18.1046,
          27.5853,
          32.8864,
          19.73,
          14.1349,
          33.4819,
          26.2558,
          14.945,
          20.0539,
          21.0263,
          22.0231,
          22.6315,
          27.5773,
          10.3906,
          20.4525,
          22.6824,
          31.2388,
          15.7067,
          20.9096,
          24.7214,
          12.725,
          10.762,
          26.4,
          22.1496,
          25.2411,
          27.4995,
          16.6523,
          27.0442,
          20.9522,
          20.2249,
          15.3059,
          27.481,
          26.5,
          27.629,
          26.8177,
          22.5263,
          15.7081,
          11.4729,
          27.2504,
          26.3166,
          26.6381,
          15.2182,
          30.1895,
          25.5869,
          33.5267,
          25.965,
          16.29,
          26.235,
          26.73,
          25.695,
          9.88679,
          10.8365,
          20.7933,
          26.0844,
          27.3624,
          28.5244,
          22.3056,
          26.3755,
          26.5897,
          22.3021,
          20.6511,
          26.5659,
          26.1094,
          30.1135,
          19.4398,
          20.9855,
          31.3063,
          26.8031,
          11.8283,
          32.7135,
          21.9781,
          27.387,
          21.2719,
          24.7174,
          27.8115,
          20.7752,
          27.3852,
          26.1795,
          27.6132,
          26.7465,
          18.4473,
          10.2916,
          33.1767,
          10.7121,
          26.9195,
          21.8734,
          26.2074,
          26.8946,
          11.8278,
          27.464,
          27.068,
          22.8107,
          21.7477,
          25.6099,
          17.6536,
          27.6131,
          21.898,
          22.9061,
          28.1657,
          10.489,
          14.3584,
          26.8948,
          33.3752,
          20.9795,
          19.5656,
          12.5238,
          9.39943,
          27.2914,
          25.7354,
          26.0513,
          31.3414,
          17.9,
          21.5427,
          23.4991,
          27.3531,
          20.2969,
          11.4575,
          19.1145,
          25.3928,
          24.1511,
          27.0678,
          10.8488,
          null,
          null,
          null,
          null,
          null,
          null,
          null,
          null,
          null,
          null,
          null,
          null,
          null,
          null,
          null,
          null,
          null,
          null,
          null,
          null,
          null,
          null,
          null,
          null,
          null,
          null,
          null,
          null,
          null,
          null,
          null,
          null,
          null,
          null,
          null,
          null,
          null,
          null,
          null,
          null,
          null,
          null,
          null,
          null,
          null,
          null,
          null,
          null,
          null,
          null,
          null,
          null,
          null,
          null,
          null,
          null,
          null,
          null,
          null,
          null,
          null,
          null,
          null,
          null,
          null,
          null,
          null,
          null,
          null,
          null,
          null,
          null,
          null,
          null,
          null,
          null,
          null,
          null,
          null,
          null,
          null,
          null,
          null,
          null,
          null,
          null,
          null,
          null,
          null,
          null,
          null,
          null,
          null,
          null,
          null,
          null,
          null,
          null,
          null,
          null,
          null,
          null,
          null,
          null,
          null,
          null,
          null,
          null,
          null,
          null,
          null,
          null,
          null,
          null,
          null,
          null,
          null,
          null,
          null,
          null,
          null,
          null,
          null,
          null,
          null,
          null,
          null,
          null,
          null,
          null,
          null,
          null,
          null,
          null,
          null,
          null,
          null,
          null,
          null,
          null,
          null,
          null,
          null,
          null,
          null,
          null,
          null,
          null,
          null,
          null,
          null,
          null,
          null,
          null,
          null,
          null,
          null,
          null,
          null,
          null,
          null,
          null,
          null,
          null,
          null,
          null,
          null,
          null,
          null,
          null,
          null,
          null,
          null,
          null,
          null,
          null,
          null,
          null,
          null,
          null,
          17.43,
          26.6,
          10.54,
          18.73,
          25.62,
          22.41,
          19.17,
          34.61,
          20.19,
          null,
          null,
          32.89,
          27.59,
          14.13,
          18.1,
          null,
          null,
          26.26,
          22.02,
          21.03,
          20.05,
          14.94,
          23.92,
          22.63,
          31.24,
          22.68,
          20.91,
          15.71,
          12.73,
          20.45,
          27.58,
          10.39,
          null,
          10.76,
          25.18,
          null,
          16.65,
          null,
          22.044,
          null,
          27.5,
          null,
          null,
          15.71,
          null,
          11.47,
          null,
          30.18,
          15.22,
          null,
          33.53,
          26.235,
          26.73,
          25.965,
          9.88,
          22.306,
          20.651,
          26.59,
          26.376,
          28.524,
          null,
          null,
          26.5659,
          null,
          30.1135,
          31.3,
          26.8,
          null,
          32.714,
          null,
          27.387,
          null,
          null,
          null,
          null,
          null,
          null,
          null,
          null,
          null,
          33.1767,
          10.7121,
          21.8734,
          null,
          26.2074,
          null,
          26.8946,
          null,
          null,
          118.278,
          27.464,
          27.068,
          null,
          null,
          null,
          null,
          17.654,
          null,
          null,
          null,
          null,
          null,
          null,
          null,
          null,
          10.489,
          null,
          null,
          null,
          null,
          null,
          null,
          null,
          null,
          null,
          null,
          null,
          null,
          null,
          null,
          null
         ],
         "legendgroup": "",
         "lon": [
          null,
          null,
          null,
          null,
          null,
          null,
          null,
          null,
          null,
          null,
          null,
          null,
          null,
          null,
          null,
          null,
          null,
          null,
          null,
          null,
          null,
          null,
          null,
          null,
          null,
          null,
          null,
          null,
          null,
          null,
          null,
          null,
          null,
          null,
          null,
          null,
          null,
          null,
          null,
          null,
          null,
          null,
          null,
          null,
          null,
          null,
          null,
          null,
          null,
          null,
          null,
          null,
          null,
          null,
          null,
          null,
          null,
          null,
          null,
          null,
          null,
          null,
          null,
          null,
          null,
          null,
          null,
          null,
          null,
          null,
          null,
          null,
          null,
          null,
          null,
          null,
          null,
          null,
          null,
          null,
          null,
          null,
          null,
          null,
          null,
          null,
          null,
          null,
          null,
          null,
          null,
          null,
          null,
          null,
          null,
          null,
          null,
          null,
          null,
          null,
          null,
          null,
          null,
          null,
          null,
          null,
          null,
          null,
          null,
          null,
          null,
          null,
          null,
          null,
          null,
          null,
          null,
          null,
          null,
          null,
          null,
          null,
          null,
          null,
          null,
          null,
          null,
          null,
          null,
          null,
          null,
          null,
          null,
          null,
          null,
          null,
          null,
          null,
          null,
          null,
          null,
          null,
          null,
          null,
          null,
          null,
          null,
          null,
          null,
          null,
          null,
          null,
          null,
          null,
          null,
          null,
          null,
          null,
          null,
          null,
          null,
          null,
          null,
          null,
          null,
          null,
          null,
          null,
          null,
          null,
          null,
          null,
          null,
          null,
          null,
          null,
          null,
          null,
          null,
          null,
          null,
          null,
          null,
          null,
          null,
          null,
          null,
          null,
          null,
          null,
          null,
          null,
          null,
          null,
          null,
          null,
          null,
          null,
          null,
          null,
          null,
          null,
          null,
          null,
          null,
          null,
          null,
          null,
          null,
          null,
          null,
          null,
          null,
          null,
          null,
          null,
          null,
          null,
          null,
          null,
          null,
          null,
          null,
          null,
          null,
          null,
          null,
          null,
          null,
          null,
          null,
          null,
          null,
          null,
          null,
          null,
          null,
          null,
          null,
          null,
          null,
          null,
          null,
          null,
          null,
          null,
          null,
          null,
          null,
          null,
          null,
          null,
          null,
          null,
          null,
          null,
          null,
          null,
          null,
          null,
          null,
          null,
          null,
          null,
          null,
          null,
          null,
          null,
          null,
          null,
          null,
          null,
          null,
          null,
          null,
          null,
          null,
          null,
          null,
          null,
          null,
          null,
          null,
          null,
          null,
          null,
          null,
          null,
          null,
          null,
          null,
          null,
          null,
          null,
          null,
          null,
          null,
          null,
          null,
          null,
          null,
          null,
          null,
          null,
          null,
          null,
          null,
          null,
          null,
          null,
          null,
          null,
          null,
          null,
          null,
          null,
          null,
          null,
          null,
          null,
          null,
          null,
          null,
          null,
          null,
          null,
          null,
          null,
          null,
          null,
          null,
          null,
          null,
          null,
          null,
          null,
          null,
          null,
          null,
          null,
          null,
          null,
          null,
          null,
          null,
          null,
          null,
          null,
          null,
          null,
          null,
          null,
          null,
          null,
          null,
          null,
          null,
          null,
          null,
          null,
          null,
          null,
          null,
          null,
          null,
          null,
          null,
          null,
          null,
          null,
          null,
          null,
          null,
          null,
          null,
          null,
          null,
          null,
          null,
          null,
          null,
          null,
          null,
          null,
          null,
          null,
          null,
          null,
          null,
          null,
          null,
          null,
          null,
          null,
          null,
          null,
          null,
          null,
          null,
          null,
          null,
          null,
          null,
          null,
          null,
          null,
          null,
          null,
          null,
          null,
          null,
          null,
          null,
          null,
          null,
          null,
          null,
          null,
          null,
          null,
          null,
          null,
          null,
          null,
          null,
          null,
          null,
          null,
          null,
          null,
          null,
          null,
          null,
          null,
          null,
          null,
          null,
          null,
          null,
          null,
          null,
          null,
          null,
          null,
          null,
          null,
          null,
          null,
          null,
          null,
          null,
          null,
          null,
          null,
          null,
          null,
          null,
          null,
          null,
          null,
          null,
          null,
          null,
          null,
          75.0937,
          76.9103,
          82.8434,
          86.7154,
          84.0726,
          80.187,
          89.4296,
          92.0622,
          92.926,
          80.7246,
          71.1117,
          80.713,
          86.5429,
          75.0459,
          72.8962,
          76.4736,
          92.8291,
          80.8611,
          76.2592,
          80.6926,
          92.7754,
          78.8703,
          80.6956,
          71.3244,
          92.817,
          77.0504,
          92.4232,
          73.7324,
          92.9592,
          79.1574,
          84.4178,
          81.0334,
          85.7348,
          87.8328,
          79.4752,
          75.9695,
          94.46,
          86.0449,
          80.7003,
          78.8487,
          92.0974,
          89.7567,
          78.9675,
          75.4042,
          77.5024,
          79.9572,
          76.6191,
          77.252,
          80.6237,
          76.9177,
          77.27,
          79.2684,
          77.0555,
          84.4369,
          78.7248,
          80.0422,
          92.8575,
          92.8902,
          76.8263,
          88.4616,
          87.3749,
          80.612,
          73.762,
          92.3599,
          85.6883,
          78.7288,
          81.7657,
          86.2554,
          77.3409,
          71.3091,
          76.6811,
          92.9144,
          74.8298,
          75.4418,
          82.1012,
          78.9883,
          68.8677,
          74.4164,
          79.4042,
          88.9474,
          85.3527,
          94.7981,
          77.6925,
          94.643,
          79.2098,
          80.4678,
          80.0385,
          88.5453,
          74.5207,
          92.0058,
          71.2868,
          76.423,
          84.7987,
          79.8583,
          76.1481,
          83.0513,
          84.87,
          79.1214,
          79.054,
          78.7843,
          95.3833,
          88.9351,
          73.6623,
          89.2696,
          78.5235,
          73.2201,
          75.527,
          79.0643,
          74.9274,
          73.44,
          73.9596,
          79.2948,
          85.8936,
          75.4747,
          85.8918,
          73.7641,
          89.4002,
          78.4423,
          73.0739,
          86.4305,
          80.1999,
          87.0126,
          73.435,
          79.9654,
          86.2759,
          83.2115,
          82.5389,
          79.3734,
          73.4733,
          87.9347,
          78.7317,
          82.8115,
          75.2343,
          76.0498,
          94.0245,
          83.6713,
          83.6477,
          72.8816,
          71.3097,
          73.8242,
          81.5288,
          81.5174,
          73.8842,
          83.7466,
          79.9324,
          74.2156,
          94.0189,
          78.1615,
          81.8601,
          77.5237,
          72.2495,
          88.4871,
          95.263,
          76.3115,
          86.1978,
          70.925,
          76.5268,
          79.878,
          86.4033,
          93.9705,
          79.7002,
          78.7172,
          93.755,
          110.224,
          90.1201,
          89.7871,
          81.3801,
          94.5503,
          84.4064,
          84.7692,
          74.7271,
          93.8215,
          85.5,
          80.7483,
          94.143,
          88.0605,
          78.233,
          77.8452,
          94.6126,
          91.8623,
          93.1226,
          79.4844,
          74.7785,
          86.1983,
          76.1256,
          76.05,
          80.055,
          92.25,
          82.845,
          87.75,
          78.4773,
          76.7588,
          85.8723,
          86.1969,
          94.0349,
          80.9261,
          88.3453,
          86.2422,
          92.1815,
          73.9531,
          86.0022,
          92.4354,
          86.557,
          78.8529,
          82.3216,
          82.7962,
          76.8569,
          93.6379,
          78.8042,
          76.6135,
          82.5285,
          94.9182,
          84.2495,
          85.9321,
          94.716,
          84.1258,
          79.7586,
          86.2537,
          94.6542,
          92.4891,
          79.6967,
          78.2616,
          76.4058,
          79.1771,
          93.8747,
          70.7643,
          82.6165,
          93.751,
          78.8554,
          95.6068,
          93.949,
          80.8349,
          73.4119,
          85.1898,
          80.3401,
          94.9387,
          70.9375,
          88.0848,
          79.076,
          79.0039,
          75.4408,
          93.3551,
          75.1439,
          73.783,
          74.5501,
          75.6883,
          76.7275,
          94.1222,
          82.4309,
          94.7655,
          76.6285,
          83.3588,
          87.4662,
          91.5736,
          94.3944,
          74.748,
          76.0842,
          83.4825,
          74.3521,
          77.3956,
          94.2459,
          78.8554,
          null,
          null,
          null,
          null,
          null,
          null,
          null,
          null,
          null,
          null,
          null,
          null,
          null,
          null,
          null,
          null,
          null,
          null,
          null,
          null,
          null,
          null,
          null,
          null,
          null,
          null,
          null,
          null,
          null,
          null,
          null,
          null,
          null,
          null,
          null,
          null,
          null,
          null,
          null,
          null,
          null,
          null,
          null,
          null,
          null,
          null,
          null,
          null,
          null,
          null,
          null,
          null,
          null,
          null,
          null,
          null,
          null,
          null,
          null,
          null,
          null,
          null,
          null,
          null,
          null,
          null,
          null,
          null,
          null,
          null,
          null,
          null,
          null,
          null,
          null,
          null,
          null,
          null,
          null,
          null,
          null,
          null,
          null,
          null,
          null,
          null,
          null,
          null,
          null,
          null,
          null,
          null,
          null,
          null,
          null,
          null,
          null,
          null,
          null,
          null,
          null,
          null,
          null,
          null,
          null,
          null,
          null,
          null,
          null,
          null,
          null,
          null,
          null,
          null,
          null,
          null,
          null,
          null,
          null,
          null,
          null,
          null,
          null,
          null,
          null,
          null,
          null,
          null,
          null,
          null,
          null,
          null,
          null,
          null,
          null,
          null,
          null,
          null,
          null,
          null,
          null,
          null,
          null,
          null,
          null,
          null,
          null,
          null,
          null,
          null,
          null,
          null,
          null,
          null,
          null,
          null,
          null,
          null,
          null,
          null,
          null,
          null,
          null,
          null,
          null,
          null,
          null,
          null,
          null,
          null,
          null,
          null,
          null,
          null,
          null,
          null,
          null,
          null,
          null,
          null,
          82.81,
          94.02,
          76.05,
          75.23,
          83.67,
          71.31,
          83.65,
          73.2,
          73.82,
          null,
          null,
          73.88,
          81.52,
          79.93,
          81.53,
          null,
          null,
          94.02,
          72.25,
          77.52,
          81.86,
          78.16,
          91.23,
          88.49,
          76.53,
          70.93,
          86.4,
          79.88,
          79.7,
          86.2,
          95.26,
          76.31,
          null,
          78.72,
          91.54,
          null,
          81.38,
          null,
          94.55,
          null,
          89.79,
          null,
          null,
          78.23,
          null,
          77.85,
          null,
          74.77,
          79.48,
          null,
          76.12,
          92.25,
          82.84,
          76.05,
          78.47,
          88.34,
          86,
          92.18,
          86.24,
          80.93,
          null,
          null,
          92.44,
          null,
          78.85,
          76.85,
          93.63,
          null,
          76.61,
          null,
          94.92,
          null,
          null,
          null,
          null,
          null,
          null,
          null,
          null,
          null,
          76.41,
          79.18,
          70.76,
          null,
          82.62,
          null,
          93.75,
          null,
          null,
          788.55,
          95.607,
          93.95,
          null,
          null,
          null,
          null,
          80.34,
          null,
          null,
          null,
          null,
          null,
          null,
          null,
          null,
          79.004,
          null,
          null,
          null,
          null,
          null,
          null,
          null,
          null,
          null,
          null,
          null,
          null,
          null,
          null,
          null
         ],
         "marker": {
          "color": [
           null,
           null,
           null,
           null,
           null,
           null,
           null,
           null,
           null,
           null,
           null,
           null,
           null,
           null,
           null,
           null,
           null,
           null,
           null,
           null,
           null,
           null,
           null,
           null,
           null,
           null,
           null,
           null,
           null,
           null,
           null,
           null,
           null,
           null,
           null,
           null,
           null,
           null,
           null,
           null,
           null,
           null,
           null,
           null,
           null,
           null,
           null,
           null,
           null,
           null,
           null,
           null,
           null,
           null,
           null,
           null,
           null,
           null,
           null,
           null,
           null,
           null,
           null,
           null,
           null,
           null,
           null,
           null,
           null,
           null,
           null,
           null,
           null,
           null,
           null,
           null,
           null,
           null,
           null,
           null,
           null,
           null,
           null,
           null,
           null,
           null,
           null,
           null,
           null,
           null,
           null,
           null,
           null,
           null,
           null,
           null,
           null,
           null,
           null,
           null,
           null,
           null,
           null,
           null,
           null,
           null,
           null,
           null,
           null,
           null,
           null,
           null,
           null,
           null,
           null,
           null,
           null,
           null,
           null,
           null,
           null,
           null,
           null,
           null,
           null,
           null,
           null,
           null,
           null,
           null,
           null,
           null,
           null,
           null,
           null,
           null,
           null,
           null,
           null,
           null,
           null,
           null,
           null,
           null,
           null,
           null,
           null,
           null,
           null,
           null,
           null,
           null,
           null,
           null,
           null,
           null,
           null,
           null,
           null,
           null,
           null,
           null,
           null,
           null,
           null,
           null,
           null,
           null,
           null,
           null,
           null,
           null,
           null,
           null,
           null,
           null,
           null,
           null,
           null,
           null,
           null,
           null,
           null,
           null,
           null,
           null,
           null,
           null,
           null,
           null,
           null,
           null,
           null,
           null,
           null,
           null,
           null,
           null,
           null,
           null,
           null,
           null,
           null,
           null,
           null,
           null,
           null,
           null,
           null,
           null,
           null,
           null,
           null,
           null,
           null,
           null,
           null,
           null,
           null,
           null,
           null,
           null,
           null,
           null,
           null,
           null,
           null,
           null,
           null,
           null,
           null,
           null,
           null,
           null,
           null,
           null,
           null,
           null,
           null,
           null,
           null,
           null,
           null,
           null,
           null,
           null,
           null,
           null,
           null,
           null,
           null,
           null,
           null,
           null,
           null,
           null,
           null,
           null,
           null,
           null,
           null,
           null,
           null,
           null,
           null,
           null,
           null,
           null,
           null,
           null,
           null,
           null,
           null,
           null,
           null,
           null,
           null,
           null,
           null,
           null,
           null,
           null,
           null,
           null,
           null,
           null,
           null,
           null,
           null,
           null,
           null,
           null,
           null,
           null,
           null,
           null,
           null,
           null,
           null,
           null,
           null,
           null,
           null,
           null,
           null,
           null,
           null,
           null,
           null,
           null,
           null,
           null,
           null,
           null,
           null,
           null,
           null,
           null,
           null,
           null,
           null,
           null,
           null,
           null,
           null,
           null,
           null,
           null,
           null,
           null,
           null,
           null,
           null,
           null,
           null,
           null,
           null,
           null,
           null,
           null,
           null,
           null,
           null,
           null,
           null,
           null,
           null,
           null,
           null,
           null,
           null,
           null,
           null,
           null,
           null,
           null,
           null,
           null,
           null,
           null,
           null,
           null,
           null,
           null,
           null,
           null,
           null,
           null,
           null,
           null,
           null,
           null,
           null,
           null,
           null,
           null,
           null,
           null,
           null,
           null,
           null,
           null,
           null,
           null,
           null,
           null,
           null,
           null,
           null,
           null,
           null,
           null,
           null,
           null,
           null,
           null,
           null,
           null,
           null,
           null,
           null,
           null,
           null,
           null,
           null,
           null,
           null,
           null,
           null,
           null,
           null,
           null,
           null,
           null,
           null,
           null,
           null,
           null,
           null,
           null,
           null,
           null,
           null,
           null,
           null,
           null,
           null,
           null,
           null,
           null,
           null,
           null,
           null,
           null,
           null,
           null,
           null,
           null,
           null,
           null,
           null,
           null,
           null,
           null,
           null,
           null,
           null,
           null,
           null,
           null,
           null,
           null,
           null,
           null,
           null,
           null,
           null,
           null,
           null,
           null,
           null,
           null,
           null,
           null,
           1,
           1,
           2,
           2,
           1,
           1,
           1,
           1,
           1,
           2,
           1,
           1,
           1,
           2,
           1,
           1,
           2,
           1,
           1,
           1,
           2,
           1,
           1,
           1,
           1,
           1,
           1,
           2,
           1,
           1,
           1,
           1,
           1,
           1,
           1,
           1,
           1,
           1,
           1,
           2,
           1,
           2,
           1,
           1,
           1,
           1,
           1,
           1,
           1,
           1,
           1,
           1,
           1,
           1,
           1,
           1,
           1,
           1,
           1,
           1,
           1,
           1,
           1,
           1,
           1,
           1,
           2,
           1,
           1,
           1,
           1,
           1,
           1,
           1,
           1,
           1,
           1,
           1,
           1,
           1,
           2,
           2,
           1,
           1,
           2,
           1,
           1,
           2,
           1,
           1,
           1,
           1,
           2,
           1,
           1,
           1,
           1,
           1,
           1,
           1,
           1,
           1,
           1,
           1,
           1,
           1,
           1,
           1,
           1,
           1,
           1,
           1.5,
           1,
           1,
           2,
           1,
           1,
           1,
           2,
           1,
           1,
           1,
           1,
           1,
           1,
           1,
           1,
           1,
           1,
           1,
           1,
           1,
           1,
           2,
           1,
           1,
           1,
           1,
           1,
           2,
           1,
           1,
           1,
           1,
           1,
           1,
           1,
           1,
           1,
           1,
           1,
           1.5,
           1,
           1,
           1,
           1,
           1,
           1,
           1,
           1.5,
           1,
           1,
           1,
           1.5,
           1.5,
           2,
           1.5,
           1.5,
           2,
           1,
           1,
           1,
           1.5,
           1,
           1,
           2,
           2,
           1.5,
           1,
           2,
           1.5,
           1,
           1,
           1,
           1.5,
           1,
           1.5,
           1.5,
           1.5,
           1,
           1.5,
           1,
           1,
           1,
           1,
           1.5,
           2,
           2,
           1.5,
           1.5,
           1.5,
           1.5,
           1,
           1.5,
           1,
           1,
           2,
           2,
           2,
           1.5,
           1,
           2,
           2,
           1.5,
           1,
           1,
           1.5,
           1.5,
           1,
           1.5,
           1.5,
           1,
           1.5,
           1,
           1.5,
           1.5,
           2,
           1,
           2,
           1.5,
           1.5,
           1.5,
           1.5,
           1.5,
           1.5,
           1,
           1,
           1,
           2,
           1.5,
           1.5,
           1.5,
           1,
           1,
           1.5,
           1.5,
           1.5,
           1.5,
           1.5,
           1.5,
           1,
           1.5,
           1.5,
           1.5,
           1,
           1.5,
           1.5,
           1.5,
           1.5,
           1.5,
           1,
           1.5,
           null,
           null,
           null,
           null,
           null,
           null,
           null,
           null,
           null,
           null,
           null,
           null,
           null,
           null,
           null,
           null,
           null,
           null,
           null,
           null,
           null,
           null,
           null,
           null,
           null,
           null,
           null,
           null,
           null,
           null,
           null,
           null,
           null,
           null,
           null,
           null,
           null,
           null,
           null,
           null,
           null,
           null,
           null,
           null,
           null,
           null,
           null,
           null,
           null,
           null,
           null,
           null,
           null,
           null,
           null,
           null,
           null,
           null,
           null,
           null,
           null,
           null,
           null,
           null,
           null,
           null,
           null,
           null,
           null,
           null,
           null,
           null,
           null,
           null,
           null,
           null,
           null,
           null,
           null,
           null,
           null,
           null,
           null,
           null,
           null,
           null,
           null,
           null,
           null,
           null,
           null,
           null,
           null,
           null,
           null,
           null,
           null,
           null,
           null,
           null,
           null,
           null,
           null,
           null,
           null,
           null,
           null,
           null,
           null,
           null,
           null,
           null,
           null,
           null,
           null,
           null,
           null,
           null,
           null,
           null,
           null,
           null,
           null,
           null,
           null,
           null,
           null,
           null,
           null,
           null,
           null,
           null,
           null,
           null,
           null,
           null,
           null,
           null,
           null,
           null,
           null,
           null,
           null,
           null,
           null,
           null,
           null,
           null,
           null,
           null,
           null,
           null,
           null,
           null,
           null,
           null,
           null,
           null,
           null,
           null,
           null,
           null,
           null,
           null,
           null,
           null,
           null,
           null,
           null,
           null,
           null,
           null,
           null,
           null,
           null,
           null,
           null,
           null,
           null,
           null,
           null,
           null,
           null,
           null,
           null,
           null,
           null,
           null,
           null,
           null,
           null,
           null,
           null,
           null,
           null,
           null,
           null,
           null,
           null,
           null,
           null,
           null,
           null,
           null,
           null,
           null,
           null,
           null,
           null,
           null,
           null,
           null,
           null,
           null,
           null,
           null,
           null,
           null,
           null,
           null,
           null,
           null,
           null,
           null,
           null,
           null,
           null,
           null,
           null,
           null,
           null,
           null,
           null,
           null,
           null,
           null,
           null,
           null,
           null,
           null,
           null,
           null,
           null,
           null,
           null,
           null,
           null,
           null,
           null,
           null,
           null,
           null,
           null,
           null,
           null,
           null,
           null,
           null,
           null,
           null,
           null,
           null,
           null,
           null,
           null,
           null,
           null,
           null,
           null,
           null,
           null,
           null,
           null,
           null,
           null,
           null,
           null,
           null,
           null,
           null,
           null,
           null,
           null,
           null,
           null,
           null,
           null,
           null,
           null,
           null,
           null,
           null,
           null,
           null,
           null,
           null,
           null,
           null,
           null,
           null,
           null
          ],
          "coloraxis": "coloraxis",
          "symbol": "circle"
         },
         "mode": "markers",
         "name": "",
         "showlegend": false,
         "type": "scattergeo"
        }
       ],
       "layout": {
        "coloraxis": {
         "colorbar": {
          "title": {
           "text": "Severity"
          }
         },
         "colorscale": [
          [
           0,
           "#0d0887"
          ],
          [
           0.1111111111111111,
           "#46039f"
          ],
          [
           0.2222222222222222,
           "#7201a8"
          ],
          [
           0.3333333333333333,
           "#9c179e"
          ],
          [
           0.4444444444444444,
           "#bd3786"
          ],
          [
           0.5555555555555556,
           "#d8576b"
          ],
          [
           0.6666666666666666,
           "#ed7953"
          ],
          [
           0.7777777777777778,
           "#fb9f3a"
          ],
          [
           0.8888888888888888,
           "#fdca26"
          ],
          [
           1,
           "#f0f921"
          ]
         ]
        },
        "geo": {
         "center": {},
         "domain": {
          "x": [
           0,
           1
          ],
          "y": [
           0,
           1
          ]
         },
         "projection": {
          "type": "equirectangular"
         },
         "scope": "asia",
         "showland": true
        },
        "legend": {
         "tracegroupgap": 0
        },
        "template": {
         "data": {
          "bar": [
           {
            "error_x": {
             "color": "#2a3f5f"
            },
            "error_y": {
             "color": "#2a3f5f"
            },
            "marker": {
             "line": {
              "color": "#E5ECF6",
              "width": 0.5
             },
             "pattern": {
              "fillmode": "overlay",
              "size": 10,
              "solidity": 0.2
             }
            },
            "type": "bar"
           }
          ],
          "barpolar": [
           {
            "marker": {
             "line": {
              "color": "#E5ECF6",
              "width": 0.5
             },
             "pattern": {
              "fillmode": "overlay",
              "size": 10,
              "solidity": 0.2
             }
            },
            "type": "barpolar"
           }
          ],
          "carpet": [
           {
            "aaxis": {
             "endlinecolor": "#2a3f5f",
             "gridcolor": "white",
             "linecolor": "white",
             "minorgridcolor": "white",
             "startlinecolor": "#2a3f5f"
            },
            "baxis": {
             "endlinecolor": "#2a3f5f",
             "gridcolor": "white",
             "linecolor": "white",
             "minorgridcolor": "white",
             "startlinecolor": "#2a3f5f"
            },
            "type": "carpet"
           }
          ],
          "choropleth": [
           {
            "colorbar": {
             "outlinewidth": 0,
             "ticks": ""
            },
            "type": "choropleth"
           }
          ],
          "contour": [
           {
            "colorbar": {
             "outlinewidth": 0,
             "ticks": ""
            },
            "colorscale": [
             [
              0,
              "#0d0887"
             ],
             [
              0.1111111111111111,
              "#46039f"
             ],
             [
              0.2222222222222222,
              "#7201a8"
             ],
             [
              0.3333333333333333,
              "#9c179e"
             ],
             [
              0.4444444444444444,
              "#bd3786"
             ],
             [
              0.5555555555555556,
              "#d8576b"
             ],
             [
              0.6666666666666666,
              "#ed7953"
             ],
             [
              0.7777777777777778,
              "#fb9f3a"
             ],
             [
              0.8888888888888888,
              "#fdca26"
             ],
             [
              1,
              "#f0f921"
             ]
            ],
            "type": "contour"
           }
          ],
          "contourcarpet": [
           {
            "colorbar": {
             "outlinewidth": 0,
             "ticks": ""
            },
            "type": "contourcarpet"
           }
          ],
          "heatmap": [
           {
            "colorbar": {
             "outlinewidth": 0,
             "ticks": ""
            },
            "colorscale": [
             [
              0,
              "#0d0887"
             ],
             [
              0.1111111111111111,
              "#46039f"
             ],
             [
              0.2222222222222222,
              "#7201a8"
             ],
             [
              0.3333333333333333,
              "#9c179e"
             ],
             [
              0.4444444444444444,
              "#bd3786"
             ],
             [
              0.5555555555555556,
              "#d8576b"
             ],
             [
              0.6666666666666666,
              "#ed7953"
             ],
             [
              0.7777777777777778,
              "#fb9f3a"
             ],
             [
              0.8888888888888888,
              "#fdca26"
             ],
             [
              1,
              "#f0f921"
             ]
            ],
            "type": "heatmap"
           }
          ],
          "heatmapgl": [
           {
            "colorbar": {
             "outlinewidth": 0,
             "ticks": ""
            },
            "colorscale": [
             [
              0,
              "#0d0887"
             ],
             [
              0.1111111111111111,
              "#46039f"
             ],
             [
              0.2222222222222222,
              "#7201a8"
             ],
             [
              0.3333333333333333,
              "#9c179e"
             ],
             [
              0.4444444444444444,
              "#bd3786"
             ],
             [
              0.5555555555555556,
              "#d8576b"
             ],
             [
              0.6666666666666666,
              "#ed7953"
             ],
             [
              0.7777777777777778,
              "#fb9f3a"
             ],
             [
              0.8888888888888888,
              "#fdca26"
             ],
             [
              1,
              "#f0f921"
             ]
            ],
            "type": "heatmapgl"
           }
          ],
          "histogram": [
           {
            "marker": {
             "pattern": {
              "fillmode": "overlay",
              "size": 10,
              "solidity": 0.2
             }
            },
            "type": "histogram"
           }
          ],
          "histogram2d": [
           {
            "colorbar": {
             "outlinewidth": 0,
             "ticks": ""
            },
            "colorscale": [
             [
              0,
              "#0d0887"
             ],
             [
              0.1111111111111111,
              "#46039f"
             ],
             [
              0.2222222222222222,
              "#7201a8"
             ],
             [
              0.3333333333333333,
              "#9c179e"
             ],
             [
              0.4444444444444444,
              "#bd3786"
             ],
             [
              0.5555555555555556,
              "#d8576b"
             ],
             [
              0.6666666666666666,
              "#ed7953"
             ],
             [
              0.7777777777777778,
              "#fb9f3a"
             ],
             [
              0.8888888888888888,
              "#fdca26"
             ],
             [
              1,
              "#f0f921"
             ]
            ],
            "type": "histogram2d"
           }
          ],
          "histogram2dcontour": [
           {
            "colorbar": {
             "outlinewidth": 0,
             "ticks": ""
            },
            "colorscale": [
             [
              0,
              "#0d0887"
             ],
             [
              0.1111111111111111,
              "#46039f"
             ],
             [
              0.2222222222222222,
              "#7201a8"
             ],
             [
              0.3333333333333333,
              "#9c179e"
             ],
             [
              0.4444444444444444,
              "#bd3786"
             ],
             [
              0.5555555555555556,
              "#d8576b"
             ],
             [
              0.6666666666666666,
              "#ed7953"
             ],
             [
              0.7777777777777778,
              "#fb9f3a"
             ],
             [
              0.8888888888888888,
              "#fdca26"
             ],
             [
              1,
              "#f0f921"
             ]
            ],
            "type": "histogram2dcontour"
           }
          ],
          "mesh3d": [
           {
            "colorbar": {
             "outlinewidth": 0,
             "ticks": ""
            },
            "type": "mesh3d"
           }
          ],
          "parcoords": [
           {
            "line": {
             "colorbar": {
              "outlinewidth": 0,
              "ticks": ""
             }
            },
            "type": "parcoords"
           }
          ],
          "pie": [
           {
            "automargin": true,
            "type": "pie"
           }
          ],
          "scatter": [
           {
            "fillpattern": {
             "fillmode": "overlay",
             "size": 10,
             "solidity": 0.2
            },
            "type": "scatter"
           }
          ],
          "scatter3d": [
           {
            "line": {
             "colorbar": {
              "outlinewidth": 0,
              "ticks": ""
             }
            },
            "marker": {
             "colorbar": {
              "outlinewidth": 0,
              "ticks": ""
             }
            },
            "type": "scatter3d"
           }
          ],
          "scattercarpet": [
           {
            "marker": {
             "colorbar": {
              "outlinewidth": 0,
              "ticks": ""
             }
            },
            "type": "scattercarpet"
           }
          ],
          "scattergeo": [
           {
            "marker": {
             "colorbar": {
              "outlinewidth": 0,
              "ticks": ""
             }
            },
            "type": "scattergeo"
           }
          ],
          "scattergl": [
           {
            "marker": {
             "colorbar": {
              "outlinewidth": 0,
              "ticks": ""
             }
            },
            "type": "scattergl"
           }
          ],
          "scattermapbox": [
           {
            "marker": {
             "colorbar": {
              "outlinewidth": 0,
              "ticks": ""
             }
            },
            "type": "scattermapbox"
           }
          ],
          "scatterpolar": [
           {
            "marker": {
             "colorbar": {
              "outlinewidth": 0,
              "ticks": ""
             }
            },
            "type": "scatterpolar"
           }
          ],
          "scatterpolargl": [
           {
            "marker": {
             "colorbar": {
              "outlinewidth": 0,
              "ticks": ""
             }
            },
            "type": "scatterpolargl"
           }
          ],
          "scatterternary": [
           {
            "marker": {
             "colorbar": {
              "outlinewidth": 0,
              "ticks": ""
             }
            },
            "type": "scatterternary"
           }
          ],
          "surface": [
           {
            "colorbar": {
             "outlinewidth": 0,
             "ticks": ""
            },
            "colorscale": [
             [
              0,
              "#0d0887"
             ],
             [
              0.1111111111111111,
              "#46039f"
             ],
             [
              0.2222222222222222,
              "#7201a8"
             ],
             [
              0.3333333333333333,
              "#9c179e"
             ],
             [
              0.4444444444444444,
              "#bd3786"
             ],
             [
              0.5555555555555556,
              "#d8576b"
             ],
             [
              0.6666666666666666,
              "#ed7953"
             ],
             [
              0.7777777777777778,
              "#fb9f3a"
             ],
             [
              0.8888888888888888,
              "#fdca26"
             ],
             [
              1,
              "#f0f921"
             ]
            ],
            "type": "surface"
           }
          ],
          "table": [
           {
            "cells": {
             "fill": {
              "color": "#EBF0F8"
             },
             "line": {
              "color": "white"
             }
            },
            "header": {
             "fill": {
              "color": "#C8D4E3"
             },
             "line": {
              "color": "white"
             }
            },
            "type": "table"
           }
          ]
         },
         "layout": {
          "annotationdefaults": {
           "arrowcolor": "#2a3f5f",
           "arrowhead": 0,
           "arrowwidth": 1
          },
          "autotypenumbers": "strict",
          "coloraxis": {
           "colorbar": {
            "outlinewidth": 0,
            "ticks": ""
           }
          },
          "colorscale": {
           "diverging": [
            [
             0,
             "#8e0152"
            ],
            [
             0.1,
             "#c51b7d"
            ],
            [
             0.2,
             "#de77ae"
            ],
            [
             0.3,
             "#f1b6da"
            ],
            [
             0.4,
             "#fde0ef"
            ],
            [
             0.5,
             "#f7f7f7"
            ],
            [
             0.6,
             "#e6f5d0"
            ],
            [
             0.7,
             "#b8e186"
            ],
            [
             0.8,
             "#7fbc41"
            ],
            [
             0.9,
             "#4d9221"
            ],
            [
             1,
             "#276419"
            ]
           ],
           "sequential": [
            [
             0,
             "#0d0887"
            ],
            [
             0.1111111111111111,
             "#46039f"
            ],
            [
             0.2222222222222222,
             "#7201a8"
            ],
            [
             0.3333333333333333,
             "#9c179e"
            ],
            [
             0.4444444444444444,
             "#bd3786"
            ],
            [
             0.5555555555555556,
             "#d8576b"
            ],
            [
             0.6666666666666666,
             "#ed7953"
            ],
            [
             0.7777777777777778,
             "#fb9f3a"
            ],
            [
             0.8888888888888888,
             "#fdca26"
            ],
            [
             1,
             "#f0f921"
            ]
           ],
           "sequentialminus": [
            [
             0,
             "#0d0887"
            ],
            [
             0.1111111111111111,
             "#46039f"
            ],
            [
             0.2222222222222222,
             "#7201a8"
            ],
            [
             0.3333333333333333,
             "#9c179e"
            ],
            [
             0.4444444444444444,
             "#bd3786"
            ],
            [
             0.5555555555555556,
             "#d8576b"
            ],
            [
             0.6666666666666666,
             "#ed7953"
            ],
            [
             0.7777777777777778,
             "#fb9f3a"
            ],
            [
             0.8888888888888888,
             "#fdca26"
            ],
            [
             1,
             "#f0f921"
            ]
           ]
          },
          "colorway": [
           "#636efa",
           "#EF553B",
           "#00cc96",
           "#ab63fa",
           "#FFA15A",
           "#19d3f3",
           "#FF6692",
           "#B6E880",
           "#FF97FF",
           "#FECB52"
          ],
          "font": {
           "color": "#2a3f5f"
          },
          "geo": {
           "bgcolor": "white",
           "lakecolor": "white",
           "landcolor": "#E5ECF6",
           "showlakes": true,
           "showland": true,
           "subunitcolor": "white"
          },
          "hoverlabel": {
           "align": "left"
          },
          "hovermode": "closest",
          "mapbox": {
           "style": "light"
          },
          "paper_bgcolor": "white",
          "plot_bgcolor": "#E5ECF6",
          "polar": {
           "angularaxis": {
            "gridcolor": "white",
            "linecolor": "white",
            "ticks": ""
           },
           "bgcolor": "#E5ECF6",
           "radialaxis": {
            "gridcolor": "white",
            "linecolor": "white",
            "ticks": ""
           }
          },
          "scene": {
           "xaxis": {
            "backgroundcolor": "#E5ECF6",
            "gridcolor": "white",
            "gridwidth": 2,
            "linecolor": "white",
            "showbackground": true,
            "ticks": "",
            "zerolinecolor": "white"
           },
           "yaxis": {
            "backgroundcolor": "#E5ECF6",
            "gridcolor": "white",
            "gridwidth": 2,
            "linecolor": "white",
            "showbackground": true,
            "ticks": "",
            "zerolinecolor": "white"
           },
           "zaxis": {
            "backgroundcolor": "#E5ECF6",
            "gridcolor": "white",
            "gridwidth": 2,
            "linecolor": "white",
            "showbackground": true,
            "ticks": "",
            "zerolinecolor": "white"
           }
          },
          "shapedefaults": {
           "line": {
            "color": "#2a3f5f"
           }
          },
          "ternary": {
           "aaxis": {
            "gridcolor": "white",
            "linecolor": "white",
            "ticks": ""
           },
           "baxis": {
            "gridcolor": "white",
            "linecolor": "white",
            "ticks": ""
           },
           "bgcolor": "#E5ECF6",
           "caxis": {
            "gridcolor": "white",
            "linecolor": "white",
            "ticks": ""
           }
          },
          "title": {
           "x": 0.05
          },
          "xaxis": {
           "automargin": true,
           "gridcolor": "white",
           "linecolor": "white",
           "ticks": "",
           "title": {
            "standoff": 15
           },
           "zerolinecolor": "white",
           "zerolinewidth": 2
          },
          "yaxis": {
           "automargin": true,
           "gridcolor": "white",
           "linecolor": "white",
           "ticks": "",
           "title": {
            "standoff": 15
           },
           "zerolinecolor": "white",
           "zerolinewidth": 2
          }
         }
        },
        "title": {
         "text": "Geographical Distribution of Floods",
         "x": 0.5
        }
       }
      }
     },
     "metadata": {},
     "output_type": "display_data"
    }
   ],
   "source": [
    "# 5. Geographical Distribution of Floods\n",
    "fig = px.scatter_geo(floods_df,\n",
    "                     lat='Latitude',\n",
    "                     lon='Longitude',\n",
    "                     hover_name='Location',\n",
    "                     hover_data=['State', 'Severity', 'Duration(Days)', 'Human fatality'],\n",
    "                     color='Severity',\n",
    "                     title='Geographical Distribution of Floods')\n",
    "fig.update_layout(\n",
    "    title_x=0.5,\n",
    "    geo=dict(\n",
    "        scope='asia',\n",
    "        projection_type='equirectangular',\n",
    "        showland=True,\n",
    "    )\n",
    ")\n",
    "fig.show()"
   ]
  },
  {
   "cell_type": "markdown",
   "metadata": {},
   "source": [
    "### Correlation Analysis ###"
   ]
  },
  {
   "cell_type": "markdown",
   "metadata": {},
   "source": [
    "#### Loading Data ####"
   ]
  },
  {
   "cell_type": "code",
   "execution_count": 46,
   "metadata": {},
   "outputs": [],
   "source": [
    "import pandas as pd\n",
    "\n",
    "# Load the datasets\n",
    "temperature_data = pd.read_csv('data/INDTemperature.csv')\n",
    "flood_data = pd.read_csv('data/INDFloods.csv')\n",
    "trade_data = pd.read_csv('data/INDImportExport.csv')\n"
   ]
  },
  {
   "cell_type": "markdown",
   "metadata": {},
   "source": [
    "#### Preparing Data ####"
   ]
  },
  {
   "cell_type": "code",
   "execution_count": 47,
   "metadata": {},
   "outputs": [
    {
     "ename": "KeyError",
     "evalue": "'Date'",
     "output_type": "error",
     "traceback": [
      "\u001b[1;31m---------------------------------------------------------------------------\u001b[0m",
      "\u001b[1;31mKeyError\u001b[0m                                  Traceback (most recent call last)",
      "File \u001b[1;32mc:\\Users\\auniy\\anaconda3\\Lib\\site-packages\\pandas\\core\\indexes\\base.py:3791\u001b[0m, in \u001b[0;36mIndex.get_loc\u001b[1;34m(self, key)\u001b[0m\n\u001b[0;32m   3790\u001b[0m \u001b[38;5;28;01mtry\u001b[39;00m:\n\u001b[1;32m-> 3791\u001b[0m     \u001b[38;5;28;01mreturn\u001b[39;00m \u001b[38;5;28mself\u001b[39m\u001b[38;5;241m.\u001b[39m_engine\u001b[38;5;241m.\u001b[39mget_loc(casted_key)\n\u001b[0;32m   3792\u001b[0m \u001b[38;5;28;01mexcept\u001b[39;00m \u001b[38;5;167;01mKeyError\u001b[39;00m \u001b[38;5;28;01mas\u001b[39;00m err:\n",
      "File \u001b[1;32mindex.pyx:152\u001b[0m, in \u001b[0;36mpandas._libs.index.IndexEngine.get_loc\u001b[1;34m()\u001b[0m\n",
      "File \u001b[1;32mindex.pyx:181\u001b[0m, in \u001b[0;36mpandas._libs.index.IndexEngine.get_loc\u001b[1;34m()\u001b[0m\n",
      "File \u001b[1;32mpandas\\_libs\\hashtable_class_helper.pxi:7080\u001b[0m, in \u001b[0;36mpandas._libs.hashtable.PyObjectHashTable.get_item\u001b[1;34m()\u001b[0m\n",
      "File \u001b[1;32mpandas\\_libs\\hashtable_class_helper.pxi:7088\u001b[0m, in \u001b[0;36mpandas._libs.hashtable.PyObjectHashTable.get_item\u001b[1;34m()\u001b[0m\n",
      "\u001b[1;31mKeyError\u001b[0m: 'Date'",
      "\nThe above exception was the direct cause of the following exception:\n",
      "\u001b[1;31mKeyError\u001b[0m                                  Traceback (most recent call last)",
      "Cell \u001b[1;32mIn[47], line 2\u001b[0m\n\u001b[0;32m      1\u001b[0m \u001b[38;5;66;03m# Calculate annual mean temperature\u001b[39;00m\n\u001b[1;32m----> 2\u001b[0m temperature_data[\u001b[38;5;124m'\u001b[39m\u001b[38;5;124mYear\u001b[39m\u001b[38;5;124m'\u001b[39m] \u001b[38;5;241m=\u001b[39m pd\u001b[38;5;241m.\u001b[39mto_datetime(temperature_data[\u001b[38;5;124m'\u001b[39m\u001b[38;5;124mDate\u001b[39m\u001b[38;5;124m'\u001b[39m])\u001b[38;5;241m.\u001b[39mdt\u001b[38;5;241m.\u001b[39myear\n\u001b[0;32m      3\u001b[0m annual_temperature \u001b[38;5;241m=\u001b[39m temperature_data\u001b[38;5;241m.\u001b[39mgroupby(\u001b[38;5;124m'\u001b[39m\u001b[38;5;124mYear\u001b[39m\u001b[38;5;124m'\u001b[39m)[\u001b[38;5;124m'\u001b[39m\u001b[38;5;124mTemperature\u001b[39m\u001b[38;5;124m'\u001b[39m]\u001b[38;5;241m.\u001b[39mmean()\u001b[38;5;241m.\u001b[39mreset_index()\n\u001b[0;32m      4\u001b[0m annual_temperature\u001b[38;5;241m.\u001b[39mcolumns \u001b[38;5;241m=\u001b[39m [\u001b[38;5;124m'\u001b[39m\u001b[38;5;124mYear\u001b[39m\u001b[38;5;124m'\u001b[39m, \u001b[38;5;124m'\u001b[39m\u001b[38;5;124mAnnualMeanTemperature\u001b[39m\u001b[38;5;124m'\u001b[39m]\n",
      "File \u001b[1;32mc:\\Users\\auniy\\anaconda3\\Lib\\site-packages\\pandas\\core\\frame.py:3893\u001b[0m, in \u001b[0;36mDataFrame.__getitem__\u001b[1;34m(self, key)\u001b[0m\n\u001b[0;32m   3891\u001b[0m \u001b[38;5;28;01mif\u001b[39;00m \u001b[38;5;28mself\u001b[39m\u001b[38;5;241m.\u001b[39mcolumns\u001b[38;5;241m.\u001b[39mnlevels \u001b[38;5;241m>\u001b[39m \u001b[38;5;241m1\u001b[39m:\n\u001b[0;32m   3892\u001b[0m     \u001b[38;5;28;01mreturn\u001b[39;00m \u001b[38;5;28mself\u001b[39m\u001b[38;5;241m.\u001b[39m_getitem_multilevel(key)\n\u001b[1;32m-> 3893\u001b[0m indexer \u001b[38;5;241m=\u001b[39m \u001b[38;5;28mself\u001b[39m\u001b[38;5;241m.\u001b[39mcolumns\u001b[38;5;241m.\u001b[39mget_loc(key)\n\u001b[0;32m   3894\u001b[0m \u001b[38;5;28;01mif\u001b[39;00m is_integer(indexer):\n\u001b[0;32m   3895\u001b[0m     indexer \u001b[38;5;241m=\u001b[39m [indexer]\n",
      "File \u001b[1;32mc:\\Users\\auniy\\anaconda3\\Lib\\site-packages\\pandas\\core\\indexes\\base.py:3798\u001b[0m, in \u001b[0;36mIndex.get_loc\u001b[1;34m(self, key)\u001b[0m\n\u001b[0;32m   3793\u001b[0m     \u001b[38;5;28;01mif\u001b[39;00m \u001b[38;5;28misinstance\u001b[39m(casted_key, \u001b[38;5;28mslice\u001b[39m) \u001b[38;5;129;01mor\u001b[39;00m (\n\u001b[0;32m   3794\u001b[0m         \u001b[38;5;28misinstance\u001b[39m(casted_key, abc\u001b[38;5;241m.\u001b[39mIterable)\n\u001b[0;32m   3795\u001b[0m         \u001b[38;5;129;01mand\u001b[39;00m \u001b[38;5;28many\u001b[39m(\u001b[38;5;28misinstance\u001b[39m(x, \u001b[38;5;28mslice\u001b[39m) \u001b[38;5;28;01mfor\u001b[39;00m x \u001b[38;5;129;01min\u001b[39;00m casted_key)\n\u001b[0;32m   3796\u001b[0m     ):\n\u001b[0;32m   3797\u001b[0m         \u001b[38;5;28;01mraise\u001b[39;00m InvalidIndexError(key)\n\u001b[1;32m-> 3798\u001b[0m     \u001b[38;5;28;01mraise\u001b[39;00m \u001b[38;5;167;01mKeyError\u001b[39;00m(key) \u001b[38;5;28;01mfrom\u001b[39;00m \u001b[38;5;21;01merr\u001b[39;00m\n\u001b[0;32m   3799\u001b[0m \u001b[38;5;28;01mexcept\u001b[39;00m \u001b[38;5;167;01mTypeError\u001b[39;00m:\n\u001b[0;32m   3800\u001b[0m     \u001b[38;5;66;03m# If we have a listlike key, _check_indexing_error will raise\u001b[39;00m\n\u001b[0;32m   3801\u001b[0m     \u001b[38;5;66;03m#  InvalidIndexError. Otherwise we fall through and re-raise\u001b[39;00m\n\u001b[0;32m   3802\u001b[0m     \u001b[38;5;66;03m#  the TypeError.\u001b[39;00m\n\u001b[0;32m   3803\u001b[0m     \u001b[38;5;28mself\u001b[39m\u001b[38;5;241m.\u001b[39m_check_indexing_error(key)\n",
      "\u001b[1;31mKeyError\u001b[0m: 'Date'"
     ]
    }
   ],
   "source": [
    "# Calculate annual mean temperature\n",
    "temperature_data['Year'] = pd.to_datetime(temperature_data['Date']).dt.year\n",
    "annual_temperature = temperature_data.groupby('Year')['Temperature'].mean().reset_index()\n",
    "annual_temperature.columns = ['Year', 'AnnualMeanTemperature']\n",
    "\n",
    "# Extract year from flood event dates\n",
    "flood_data['Year'] = pd.to_datetime(flood_data['Event Start Date']).dt.year\n",
    "annual_floods = flood_data.groupby('Year').size().reset_index(name='FloodCount')\n",
    "\n",
    "# Extract year from flood event dates\n",
    "flood_data['Year'] = pd.to_datetime(flood_data['Event Start Date']).dt.year\n",
    "annual_floods = flood_data.groupby('Year').size().reset_index(name='FloodCount')\n",
    "\n",
    "# Replace 'till now' with '2023' if not already done\n",
    "trade_data = trade_data.replace('till now', '2023')\n",
    "\n",
    "# Ensure the trade data is in numeric form and aggregate by year if monthly\n",
    "trade_data['Year'] = pd.to_datetime(trade_data['Date']).dt.year\n",
    "annual_trade = trade_data.groupby('Year')['Import (USD Million)', 'Export (USD Million)'].sum().reset_index()"
   ]
  },
  {
   "cell_type": "markdown",
   "metadata": {},
   "source": [
    "#### Merging Data ####"
   ]
  },
  {
   "cell_type": "code",
   "execution_count": 45,
   "metadata": {},
   "outputs": [
    {
     "ename": "NameError",
     "evalue": "name 'flood_data' is not defined",
     "output_type": "error",
     "traceback": [
      "\u001b[1;31m---------------------------------------------------------------------------\u001b[0m",
      "\u001b[1;31mNameError\u001b[0m                                 Traceback (most recent call last)",
      "Cell \u001b[1;32mIn[45], line 2\u001b[0m\n\u001b[0;32m      1\u001b[0m \u001b[38;5;66;03m# Extract year from flood event dates\u001b[39;00m\n\u001b[1;32m----> 2\u001b[0m flood_data[\u001b[38;5;124m'\u001b[39m\u001b[38;5;124mYear\u001b[39m\u001b[38;5;124m'\u001b[39m] \u001b[38;5;241m=\u001b[39m pd\u001b[38;5;241m.\u001b[39mto_datetime(flood_data[\u001b[38;5;124m'\u001b[39m\u001b[38;5;124mEvent Start Date\u001b[39m\u001b[38;5;124m'\u001b[39m])\u001b[38;5;241m.\u001b[39mdt\u001b[38;5;241m.\u001b[39myear\n\u001b[0;32m      3\u001b[0m annual_floods \u001b[38;5;241m=\u001b[39m flood_data\u001b[38;5;241m.\u001b[39mgroupby(\u001b[38;5;124m'\u001b[39m\u001b[38;5;124mYear\u001b[39m\u001b[38;5;124m'\u001b[39m)\u001b[38;5;241m.\u001b[39msize()\u001b[38;5;241m.\u001b[39mreset_index(name\u001b[38;5;241m=\u001b[39m\u001b[38;5;124m'\u001b[39m\u001b[38;5;124mFloodCount\u001b[39m\u001b[38;5;124m'\u001b[39m)\n",
      "\u001b[1;31mNameError\u001b[0m: name 'flood_data' is not defined"
     ]
    }
   ],
   "source": [
    "# Merge datasets on 'Year'\n",
    "merged_data = pd.merge(annual_temperature, annual_floods, on='Year', how='left')\n",
    "merged_data = pd.merge(merged_data, annual_trade, on='Year', how='left')"
   ]
  },
  {
   "cell_type": "markdown",
   "metadata": {},
   "source": [
    "#### Calculation of Correlation and Create Plots ####"
   ]
  },
  {
   "cell_type": "code",
   "execution_count": null,
   "metadata": {},
   "outputs": [],
   "source": [
    "import seaborn as sns\n",
    "import matplotlib.pyplot as plt\n",
    "\n",
    "# Calculate correlation matrix\n",
    "correlation_matrix = merged_data.corr()\n",
    "\n",
    "# Plot heatmap of the correlation matrix\n",
    "plt.figure(figsize=(10, 8))\n",
    "sns.heatmap(correlation_matrix, annot=True, cmap='coolwarm', vmin=-1, vmax=1)\n",
    "plt.title('Correlation Matrix: Climate Data and Trade Volumes')\n",
    "plt.show()"
   ]
  },
  {
   "cell_type": "markdown",
   "metadata": {},
   "source": [
    "#### Scatter Plots for Specific Correlation ####"
   ]
  },
  {
   "cell_type": "code",
   "execution_count": null,
   "metadata": {},
   "outputs": [],
   "source": [
    "# Scatter plot: Annual Mean Temperature vs. Export Volume\n",
    "plt.figure(figsize=(10, 6))\n",
    "sns.scatterplot(data=merged_data, x='AnnualMeanTemperature', y='Export (USD Million)')\n",
    "plt.title('Annual Mean Temperature vs. Export Volume')\n",
    "plt.xlabel('Annual Mean Temperature (°C)')\n",
    "plt.ylabel('Export Volume (USD Million)')\n",
    "plt.show()\n",
    "\n",
    "# Scatter plot: Flood Count vs. Export Volume\n",
    "plt.figure(figsize=(10, 6))\n",
    "sns.scatterplot(data=merged_data, x='FloodCount', y='Export (USD Million)')\n",
    "plt.title('Flood Count vs. Export Volume')\n",
    "plt.xlabel('Flood Count')\n",
    "plt.ylabel('Export Volume (USD Million)')\n",
    "plt.show()\n",
    "\n",
    "# Scatter plot: Annual Mean Temperature vs. Import Volume\n",
    "plt.figure(figsize=(10, 6))\n",
    "sns.scatterplot(data=merged_data, x='AnnualMeanTemperature', y='Import (USD Million)')\n",
    "plt.title('Annual Mean Temperature vs. Import Volume')\n",
    "plt.xlabel('Annual Mean Temperature (°C)')\n",
    "plt.ylabel('Import Volume (USD Million)')\n",
    "plt.show()\n",
    "\n",
    "# Scatter plot: Flood Count vs. Import Volume\n",
    "plt.figure(figsize=(10, 6))\n",
    "sns.scatterplot(data=merged_data, x='FloodCount', y='Import (USD Million)')\n",
    "plt.title('Flood Count vs. Import Volume')\n",
    "plt.xlabel('Flood Count')\n",
    "plt.ylabel('Import Volume (USD Million)')\n",
    "plt.show()"
   ]
  }
 ],
 "metadata": {
  "kernelspec": {
   "display_name": "Python 3 (ipykernel)",
   "language": "python",
   "name": "python3"
  },
  "language_info": {
   "codemirror_mode": {
    "name": "ipython",
    "version": 3
   },
   "file_extension": ".py",
   "mimetype": "text/x-python",
   "name": "python",
   "nbconvert_exporter": "python",
   "pygments_lexer": "ipython3",
   "version": "3.11.7"
  }
 },
 "nbformat": 4,
 "nbformat_minor": 4
}
